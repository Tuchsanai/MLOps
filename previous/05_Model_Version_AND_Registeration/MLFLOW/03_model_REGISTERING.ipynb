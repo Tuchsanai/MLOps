{
 "cells": [
  {
   "cell_type": "code",
   "execution_count": 1,
   "metadata": {},
   "outputs": [
    {
     "name": "stdout",
     "output_type": "stream",
     "text": [
      "MLflow Tracking URI: http://192.168.1.44:5000\n",
      "Experiment ID: 996300549925381195\n"
     ]
    }
   ],
   "source": [
    "##############################\n",
    "# 2. SETUP & CONFIGURATION\n",
    "##############################\n",
    "\n",
    "import mlflow\n",
    "import mlflow.sklearn\n",
    "import numpy as np\n",
    "import pandas as pd\n",
    "from sklearn.datasets import load_iris\n",
    "from sklearn.model_selection import train_test_split\n",
    "from sklearn.ensemble import RandomForestClassifier\n",
    "from sklearn.metrics import accuracy_score\n",
    "\n",
    "# 2.A: SET THE MLFLOW TRACKING URI\n",
    "# Point MLflow to the local server started by Docker\n",
    "mlflow.set_tracking_uri(\"http://192.168.1.44:5000\")\n",
    "\n",
    "# 2.B: OPTIONAL - Set a specific experiment name\n",
    "EXPERIMENT_NAME = \"my-classification-experiment\"\n",
    "\n",
    "experiment_id = None\n",
    "\n",
    "# Try to get or create the experiment\n",
    "try:\n",
    "    experiment_id = mlflow.create_experiment(EXPERIMENT_NAME)\n",
    "except mlflow.exceptions.RestException:\n",
    "    # If it already exists, just fetch its ID\n",
    "    experiment_id = mlflow.get_experiment_by_name(EXPERIMENT_NAME).experiment_id\n",
    "\n",
    "print(\"MLflow Tracking URI:\", mlflow.get_tracking_uri())\n",
    "print(\"Experiment ID:\", experiment_id)\n"
   ]
  },
  {
   "cell_type": "code",
   "execution_count": 6,
   "metadata": {},
   "outputs": [
    {
     "name": "stderr",
     "output_type": "stream",
     "text": [
      "\u001b[31m2025/03/12 08:37:02 WARNING mlflow.models.model: Model logged without a signature and input example. Please set `input_example` parameter when logging the model to auto infer the model signature.\u001b[0m\n"
     ]
    },
    {
     "name": "stdout",
     "output_type": "stream",
     "text": [
      "Run ID: e77cec1a93fe413dbef5bd23c6a0545e\n",
      "Logged Accuracy: 1.0000\n",
      "Model logged in the artifact store.\n",
      "🏃 View run iris_rf_model at: http://192.168.1.44:5000/#/experiments/996300549925381195/runs/e77cec1a93fe413dbef5bd23c6a0545e\n",
      "🧪 View experiment at: http://192.168.1.44:5000/#/experiments/996300549925381195\n"
     ]
    }
   ],
   "source": [
    "##############################\n",
    "# 3. TRAIN A MODEL & LOG TO MLFLOW\n",
    "##############################\n",
    "\n",
    "# Load sample IRIS data\n",
    "iris = load_iris()\n",
    "X = iris.data\n",
    "y = iris.target\n",
    "\n",
    "# Split data for training & validation\n",
    "X_train, X_val, y_train, y_val = train_test_split(X, y, \n",
    "                                                  test_size=0.2, \n",
    "                                                  random_state=42)\n",
    "\n",
    "# Start an MLflow run\n",
    "with mlflow.start_run(experiment_id=experiment_id, run_name=\"iris_rf_model\") as run:\n",
    "\n",
    "    # 3.A: Train a simple RandomForest\n",
    "    n_estimators = 100\n",
    "    max_depth = 5\n",
    "    clf = RandomForestClassifier(n_estimators=n_estimators, max_depth=max_depth, random_state=42)\n",
    "    clf.fit(X_train, y_train)\n",
    "\n",
    "    # 3.B: Evaluate on validation set\n",
    "    y_pred = clf.predict(X_val)\n",
    "    accuracy = accuracy_score(y_val, y_pred)\n",
    "\n",
    "    # 3.C: Log parameters & metrics\n",
    "    mlflow.log_param(\"n_estimators\", n_estimators)\n",
    "    mlflow.log_param(\"max_depth\", max_depth)\n",
    "    mlflow.log_metric(\"accuracy\", accuracy)\n",
    "\n",
    "    # 3.D: Log the model itself (using mlflow.sklearn)\n",
    "    mlflow.sklearn.log_model(sk_model=clf, artifact_path=\"model\")\n",
    "\n",
    "    # Printing info\n",
    "    run_id = run.info.run_id\n",
    "    print(f\"Run ID: {run_id}\")\n",
    "    print(f\"Logged Accuracy: {accuracy:.4f}\")\n",
    "    print(\"Model logged in the artifact store.\")\n"
   ]
  },
  {
   "cell_type": "code",
   "execution_count": 5,
   "metadata": {},
   "outputs": [
    {
     "name": "stderr",
     "output_type": "stream",
     "text": [
      "Registered model 'iris_rf_registered_model' already exists. Creating a new version of this model...\n",
      "2025/03/12 08:36:25 INFO mlflow.store.model_registry.abstract_store: Waiting up to 300 seconds for model version to finish creation. Model name: iris_rf_registered_model, version 2\n"
     ]
    },
    {
     "name": "stdout",
     "output_type": "stream",
     "text": [
      "Name: iris_rf_registered_model\n",
      "Version: 2\n",
      "Model registered in MLflow Model Registry!\n"
     ]
    },
    {
     "name": "stderr",
     "output_type": "stream",
     "text": [
      "Created version '2' of model 'iris_rf_registered_model'.\n"
     ]
    }
   ],
   "source": [
    "##############################\n",
    "# 4. REGISTER THE MODEL\n",
    "##############################\n",
    "\n",
    "# We'll give this model a name in the Model Registry\n",
    "model_name = \"iris_rf_registered_model\"\n",
    "\n",
    "# Path to the model artifact in the run above\n",
    "# It's typically \"runs:/{run_id}/model\"\n",
    "model_uri = f\"runs:/{run_id}/model\"\n",
    "\n",
    "# We can register the model with mlflow.register_model\n",
    "registered_model = mlflow.register_model(\n",
    "    model_uri=model_uri,\n",
    "    name=model_name\n",
    ")\n",
    "\n",
    "print(f\"Name: {registered_model.name}\")\n",
    "print(f\"Version: {registered_model.version}\")\n",
    "print(\"Model registered in MLflow Model Registry!\")\n"
   ]
  },
  {
   "cell_type": "code",
   "execution_count": 4,
   "metadata": {},
   "outputs": [
    {
     "data": {
      "application/vnd.jupyter.widget-view+json": {
       "model_id": "1c323e9b178441ada8fdf408ddd6435e",
       "version_major": 2,
       "version_minor": 0
      },
      "text/plain": [
       "Downloading artifacts:   0%|          | 0/5 [00:00<?, ?it/s]"
      ]
     },
     "metadata": {},
     "output_type": "display_data"
    },
    {
     "name": "stdout",
     "output_type": "stream",
     "text": [
      "Sample input:\n",
      " [[6.1 2.8 4.7 1.2]\n",
      " [5.7 3.8 1.7 0.3]\n",
      " [7.7 2.6 6.9 2.3]\n",
      " [6.  2.9 4.5 1.5]\n",
      " [6.8 2.8 4.8 1.4]]\n",
      "Predictions:\n",
      " [1 0 2 1 1]\n"
     ]
    }
   ],
   "source": [
    "##############################\n",
    "# 5. LOAD THE REGISTERED MODEL LOCALLY & PREDICT\n",
    "##############################\n",
    "\n",
    "# Once a model is registered, you can load it by name and version.\n",
    "# For example, \"models:/{model_name}/{version}\"\n",
    "# or \"models:/{model_name}/Production\" if you assign a stage.\n",
    "\n",
    "from mlflow.pyfunc import load_model\n",
    "\n",
    "model_version = registered_model.version  # or \"1\", \"2\", etc.\n",
    "logged_model_uri = f\"models:/{model_name}/{model_version}\"\n",
    "\n",
    "# Load the model\n",
    "loaded_model = load_model(logged_model_uri)\n",
    "\n",
    "# Perform predictions\n",
    "sample_input = X_val[:5]  # first 5 examples from our validation set\n",
    "predictions = loaded_model.predict(sample_input)\n",
    "\n",
    "print(\"Sample input:\\n\", sample_input)\n",
    "print(\"Predictions:\\n\", predictions)\n"
   ]
  },
  {
   "cell_type": "code",
   "execution_count": null,
   "metadata": {},
   "outputs": [],
   "source": []
  }
 ],
 "metadata": {
  "kernelspec": {
   "display_name": "torch",
   "language": "python",
   "name": "python3"
  },
  "language_info": {
   "codemirror_mode": {
    "name": "ipython",
    "version": 3
   },
   "file_extension": ".py",
   "mimetype": "text/x-python",
   "name": "python",
   "nbconvert_exporter": "python",
   "pygments_lexer": "ipython3",
   "version": "3.12.7"
  }
 },
 "nbformat": 4,
 "nbformat_minor": 2
}
