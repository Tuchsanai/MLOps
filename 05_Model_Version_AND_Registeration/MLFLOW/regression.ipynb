{
 "cells": [
  {
   "cell_type": "code",
   "execution_count": 1,
   "metadata": {},
   "outputs": [
    {
     "name": "stderr",
     "output_type": "stream",
     "text": [
      "/opt/anaconda3/envs/torch/lib/python3.12/site-packages/sklearn/metrics/_regression.py:1187: UndefinedMetricWarning: R^2 score is not well-defined with less than two samples.\n",
      "  warnings.warn(msg, UndefinedMetricWarning)\n",
      "/opt/anaconda3/envs/torch/lib/python3.12/site-packages/sklearn/metrics/_regression.py:1187: UndefinedMetricWarning: R^2 score is not well-defined with less than two samples.\n",
      "  warnings.warn(msg, UndefinedMetricWarning)\n"
     ]
    }
   ],
   "source": [
    "import pandas as pd\n",
    "import numpy as np\n",
    "from sklearn.datasets import make_regression\n",
    "from sklearn.model_selection import train_test_split\n",
    "from sklearn.linear_model import LinearRegression\n",
    "from evidently.report import Report\n",
    "from evidently.metric_preset import RegressionPreset\n",
    "\n",
    "# Generate synthetic regression data\n",
    "X, y = make_regression(n_samples=1000, n_features=4, noise=0.1, random_state=42)\n",
    "data = pd.DataFrame(X, columns=['feature1', 'feature2', 'feature3', 'feature4'])\n",
    "data['target'] = y\n",
    "\n",
    "# Split into reference (training) and current (production) datasets\n",
    "reference_data, current_data = train_test_split(data, test_size=0.3, random_state=42)\n",
    "\n",
    "# Add predictions to both datasets by training a model\n",
    "model = LinearRegression()\n",
    "model.fit(reference_data.drop(columns=['target']), reference_data['target'])\n",
    "\n",
    "# Predict for reference and current datasets\n",
    "reference_data['prediction'] = model.predict(reference_data.drop(columns=['target']))\n",
    "current_data['prediction'] = model.predict(current_data.drop(columns=['target']))\n",
    "\n",
    "# Create a regression performance report\n",
    "regression_report = Report(metrics=[RegressionPreset()])\n",
    "\n",
    "# Run the report comparing reference and current data\n",
    "regression_report.run(reference_data=reference_data, current_data=current_data)\n",
    "\n",
    "# Display the report in a Jupyter notebook\n",
    "regression_report.show(mode='inline')  # Use 'inline' for Jupyter; omit for HTML export\n",
    "\n",
    "# Optionally, save the report as an HTML file\n",
    "regression_report.save_html(\"regression_performance_report.html\")"
   ]
  },
  {
   "cell_type": "code",
   "execution_count": null,
   "metadata": {},
   "outputs": [],
   "source": []
  }
 ],
 "metadata": {
  "kernelspec": {
   "display_name": "torch",
   "language": "python",
   "name": "python3"
  },
  "language_info": {
   "codemirror_mode": {
    "name": "ipython",
    "version": 3
   },
   "file_extension": ".py",
   "mimetype": "text/x-python",
   "name": "python",
   "nbconvert_exporter": "python",
   "pygments_lexer": "ipython3",
   "version": "3.12.7"
  }
 },
 "nbformat": 4,
 "nbformat_minor": 2
}
