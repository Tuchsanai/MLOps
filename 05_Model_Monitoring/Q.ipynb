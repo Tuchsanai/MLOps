{
 "cells": [
  {
   "cell_type": "code",
   "execution_count": 2,
   "metadata": {},
   "outputs": [
    {
     "name": "stderr",
     "output_type": "stream",
     "text": [
      "/opt/anaconda3/envs/torch/lib/python3.12/site-packages/scipy/stats/_stats_py.py:8064: RuntimeWarning:\n",
      "\n",
      "divide by zero encountered in divide\n",
      "\n",
      "/opt/anaconda3/envs/torch/lib/python3.12/site-packages/scipy/stats/_stats_py.py:8064: RuntimeWarning:\n",
      "\n",
      "divide by zero encountered in divide\n",
      "\n",
      "/opt/anaconda3/envs/torch/lib/python3.12/site-packages/scipy/stats/_stats_py.py:8064: RuntimeWarning:\n",
      "\n",
      "divide by zero encountered in divide\n",
      "\n",
      "/opt/anaconda3/envs/torch/lib/python3.12/site-packages/scipy/stats/_stats_py.py:8064: RuntimeWarning:\n",
      "\n",
      "divide by zero encountered in divide\n",
      "\n"
     ]
    },
    {
     "name": "stdout",
     "output_type": "stream",
     "text": [
      "Basic data drift report saved as 'data_drift_report_basic.html'\n",
      "Modified data drift report saved as 'data_drift_report_modified.html'\n"
     ]
    }
   ],
   "source": [
    "# Import required libraries\n",
    "import pandas as pd\n",
    "from sklearn import datasets\n",
    "from evidently.report import Report\n",
    "from evidently.metric_preset import DataDriftPreset\n",
    "\n",
    "# Load the Iris dataset as an example\n",
    "iris = datasets.load_iris(as_frame=True)\n",
    "iris_df = iris.frame\n",
    "\n",
    "# Split into reference and current datasets\n",
    "reference_data = iris_df.iloc[:75]  # First half as reference (baseline)\n",
    "current_data = iris_df.iloc[75:]    # Second half as current (comparison)\n",
    "\n",
    "# Step 1: Generate a basic Data Drift Report\n",
    "data_drift_report = Report(metrics=[DataDriftPreset()])\n",
    "data_drift_report.run(reference_data=reference_data, current_data=current_data)\n",
    "\n",
    "# Save the report as an HTML file\n",
    "data_drift_report.save_html(\"data_drift_report_basic.html\")\n",
    "print(\"Basic data drift report saved as 'data_drift_report_basic.html'\")\n",
    "\n",
    "# Step 2: Simulate a more obvious data difference\n",
    "current_data_modified = current_data.copy()\n",
    "current_data_modified['sepal length (cm)'] = current_data_modified['sepal length (cm)'] * 1.2  # Scale by 20%\n",
    "current_data_modified['petal width (cm)'] = current_data_modified['petal width (cm)'] + 0.5    # Shift by 0.5\n",
    "\n",
    "# Generate a new report with the modified data\n",
    "data_drift_report_modified = Report(metrics=[DataDriftPreset()])\n",
    "data_drift_report_modified.run(reference_data=reference_data, current_data=current_data_modified)\n",
    "\n",
    "# Save the modified report as an HTML file\n",
    "data_drift_report_modified.save_html(\"data_drift_report_modified.html\")\n",
    "print(\"Modified data drift report saved as 'data_drift_report_modified.html'\")\n"
   ]
  },
  {
   "cell_type": "code",
   "execution_count": null,
   "metadata": {},
   "outputs": [],
   "source": [
    "\n",
    "# Optional: Display basic statistics for reference\n",
    "print(\"\\nReference Data Sample:\")\n",
    "print(reference_data.head())\n",
    "print(\"\\nModified Current Data Sample:\")\n",
    "print(current_data_modified.head())\n",
    "\n"
   ]
  }
 ],
 "metadata": {
  "kernelspec": {
   "display_name": "torch",
   "language": "python",
   "name": "python3"
  },
  "language_info": {
   "codemirror_mode": {
    "name": "ipython",
    "version": 3
   },
   "file_extension": ".py",
   "mimetype": "text/x-python",
   "name": "python",
   "nbconvert_exporter": "python",
   "pygments_lexer": "ipython3",
   "version": "3.12.7"
  }
 },
 "nbformat": 4,
 "nbformat_minor": 2
}
