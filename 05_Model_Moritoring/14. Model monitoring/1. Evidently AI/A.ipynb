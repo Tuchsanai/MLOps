{
 "cells": [
  {
   "cell_type": "markdown",
   "metadata": {},
   "source": [
    "https://medium.com/the-modern-scientist/monitoring-machine-learning-models-an-in-depth-look-at-evidently-ai-dfebd5760643"
   ]
  },
  {
   "cell_type": "code",
   "execution_count": 3,
   "metadata": {},
   "outputs": [],
   "source": [
    "try:\n",
    "    import evidently\n",
    "except:\n",
    "    !pip install git+https://github.com/evidentlyai/evidently.git"
   ]
  },
  {
   "cell_type": "code",
   "execution_count": 1,
   "metadata": {},
   "outputs": [
    {
     "name": "stdout",
     "output_type": "stream",
     "text": [
      "Found existing installation: evidently 0.6.5\n",
      "Uninstalling evidently-0.6.5:\n",
      "  Successfully uninstalled evidently-0.6.5\n"
     ]
    }
   ],
   "source": [
    "!pip uninstall -y evidently\n"
   ]
  },
  {
   "cell_type": "code",
   "execution_count": 2,
   "metadata": {},
   "outputs": [
    {
     "name": "stdout",
     "output_type": "stream",
     "text": [
      "Collecting evidently\n",
      "  Using cached evidently-0.6.5-py3-none-any.whl.metadata (11 kB)\n",
      "Requirement already satisfied: plotly<6,>=5.10.0 in /opt/anaconda3/envs/torch/lib/python3.12/site-packages (from evidently) (5.24.1)\n",
      "Requirement already satisfied: statsmodels>=0.12.2 in /opt/anaconda3/envs/torch/lib/python3.12/site-packages (from evidently) (0.14.4)\n",
      "Requirement already satisfied: scikit-learn>=1.0.1 in /opt/anaconda3/envs/torch/lib/python3.12/site-packages (from evidently) (1.4.2)\n",
      "Requirement already satisfied: pandas>=1.3.5 in /opt/anaconda3/envs/torch/lib/python3.12/site-packages (from pandas[parquet]>=1.3.5->evidently) (2.1.4)\n",
      "Requirement already satisfied: numpy<2.1,>=1.22.0 in /opt/anaconda3/envs/torch/lib/python3.12/site-packages (from evidently) (1.26.4)\n",
      "Requirement already satisfied: nltk>=3.6.7 in /opt/anaconda3/envs/torch/lib/python3.12/site-packages (from evidently) (3.9.1)\n",
      "Requirement already satisfied: scipy>=1.10.0 in /opt/anaconda3/envs/torch/lib/python3.12/site-packages (from evidently) (1.11.4)\n",
      "Requirement already satisfied: requests>=2.32.0 in /opt/anaconda3/envs/torch/lib/python3.12/site-packages (from evidently) (2.32.3)\n",
      "Requirement already satisfied: PyYAML>=5.4 in /opt/anaconda3/envs/torch/lib/python3.12/site-packages (from evidently) (6.0.2)\n",
      "Requirement already satisfied: pydantic>=1.10.13 in /opt/anaconda3/envs/torch/lib/python3.12/site-packages (from evidently) (2.10.1)\n",
      "Requirement already satisfied: litestar>=2.8.3 in /opt/anaconda3/envs/torch/lib/python3.12/site-packages (from evidently) (2.15.1)\n",
      "Requirement already satisfied: typing-inspect>=0.9.0 in /opt/anaconda3/envs/torch/lib/python3.12/site-packages (from evidently) (0.9.0)\n",
      "Requirement already satisfied: uvicorn>=0.22.0 in /opt/anaconda3/envs/torch/lib/python3.12/site-packages (from uvicorn[standard]>=0.22.0->evidently) (0.34.0)\n",
      "Requirement already satisfied: watchdog>=3.0.0 in /opt/anaconda3/envs/torch/lib/python3.12/site-packages (from evidently) (6.0.0)\n",
      "Requirement already satisfied: typer>=0.3 in /opt/anaconda3/envs/torch/lib/python3.12/site-packages (from evidently) (0.15.1)\n",
      "Requirement already satisfied: rich>=13 in /opt/anaconda3/envs/torch/lib/python3.12/site-packages (from evidently) (13.9.4)\n",
      "Requirement already satisfied: iterative-telemetry>=0.0.5 in /opt/anaconda3/envs/torch/lib/python3.12/site-packages (from evidently) (0.0.10)\n",
      "Requirement already satisfied: dynaconf>=3.2.4 in /opt/anaconda3/envs/torch/lib/python3.12/site-packages (from evidently) (3.2.10)\n",
      "Requirement already satisfied: certifi>=2024.7.4 in /opt/anaconda3/envs/torch/lib/python3.12/site-packages (from evidently) (2024.8.30)\n",
      "Requirement already satisfied: urllib3>=1.26.19 in /opt/anaconda3/envs/torch/lib/python3.12/site-packages (from evidently) (2.2.3)\n",
      "Requirement already satisfied: fsspec>=2024.6.1 in /opt/anaconda3/envs/torch/lib/python3.12/site-packages (from evidently) (2024.10.0)\n",
      "Requirement already satisfied: ujson>=5.4.0 in /opt/anaconda3/envs/torch/lib/python3.12/site-packages (from evidently) (5.10.0)\n",
      "Requirement already satisfied: deprecation>=2.1.0 in /opt/anaconda3/envs/torch/lib/python3.12/site-packages (from evidently) (2.1.0)\n",
      "Requirement already satisfied: uuid6>=2024.7.10 in /opt/anaconda3/envs/torch/lib/python3.12/site-packages (from evidently) (2024.7.10)\n",
      "Requirement already satisfied: cryptography>=43.0.1 in /opt/anaconda3/envs/torch/lib/python3.12/site-packages (from evidently) (44.0.0)\n",
      "Requirement already satisfied: cffi>=1.12 in /opt/anaconda3/envs/torch/lib/python3.12/site-packages (from cryptography>=43.0.1->evidently) (1.17.1)\n",
      "Requirement already satisfied: packaging in /opt/anaconda3/envs/torch/lib/python3.12/site-packages (from deprecation>=2.1.0->evidently) (24.2)\n",
      "Requirement already satisfied: appdirs in /opt/anaconda3/envs/torch/lib/python3.12/site-packages (from iterative-telemetry>=0.0.5->evidently) (1.4.4)\n",
      "Requirement already satisfied: filelock in /opt/anaconda3/envs/torch/lib/python3.12/site-packages (from iterative-telemetry>=0.0.5->evidently) (3.16.1)\n",
      "Requirement already satisfied: distro in /opt/anaconda3/envs/torch/lib/python3.12/site-packages (from iterative-telemetry>=0.0.5->evidently) (1.9.0)\n",
      "Requirement already satisfied: anyio>=3 in /opt/anaconda3/envs/torch/lib/python3.12/site-packages (from litestar>=2.8.3->evidently) (4.6.2.post1)\n",
      "Requirement already satisfied: click in /opt/anaconda3/envs/torch/lib/python3.12/site-packages (from litestar>=2.8.3->evidently) (8.1.7)\n",
      "Requirement already satisfied: httpx>=0.22 in /opt/anaconda3/envs/torch/lib/python3.12/site-packages (from litestar>=2.8.3->evidently) (0.27.2)\n",
      "Requirement already satisfied: litestar-htmx>=0.4.0 in /opt/anaconda3/envs/torch/lib/python3.12/site-packages (from litestar>=2.8.3->evidently) (0.4.1)\n",
      "Requirement already satisfied: msgspec>=0.18.2 in /opt/anaconda3/envs/torch/lib/python3.12/site-packages (from litestar>=2.8.3->evidently) (0.19.0)\n",
      "Requirement already satisfied: multidict>=6.0.2 in /opt/anaconda3/envs/torch/lib/python3.12/site-packages (from litestar>=2.8.3->evidently) (6.1.0)\n",
      "Requirement already satisfied: multipart>=1.2.0 in /opt/anaconda3/envs/torch/lib/python3.12/site-packages (from litestar>=2.8.3->evidently) (1.2.1)\n",
      "Requirement already satisfied: polyfactory>=2.6.3 in /opt/anaconda3/envs/torch/lib/python3.12/site-packages (from litestar>=2.8.3->evidently) (2.19.0)\n",
      "Requirement already satisfied: rich-click in /opt/anaconda3/envs/torch/lib/python3.12/site-packages (from litestar>=2.8.3->evidently) (1.8.6)\n",
      "Requirement already satisfied: typing-extensions in /opt/anaconda3/envs/torch/lib/python3.12/site-packages (from litestar>=2.8.3->evidently) (4.12.2)\n",
      "Requirement already satisfied: joblib in /opt/anaconda3/envs/torch/lib/python3.12/site-packages (from nltk>=3.6.7->evidently) (1.3.2)\n",
      "Requirement already satisfied: regex>=2021.8.3 in /opt/anaconda3/envs/torch/lib/python3.12/site-packages (from nltk>=3.6.7->evidently) (2024.11.6)\n",
      "Requirement already satisfied: tqdm in /opt/anaconda3/envs/torch/lib/python3.12/site-packages (from nltk>=3.6.7->evidently) (4.67.1)\n",
      "Requirement already satisfied: python-dateutil>=2.8.2 in /opt/anaconda3/envs/torch/lib/python3.12/site-packages (from pandas>=1.3.5->pandas[parquet]>=1.3.5->evidently) (2.9.0.post0)\n",
      "Requirement already satisfied: pytz>=2020.1 in /opt/anaconda3/envs/torch/lib/python3.12/site-packages (from pandas>=1.3.5->pandas[parquet]>=1.3.5->evidently) (2024.2)\n",
      "Requirement already satisfied: tzdata>=2022.1 in /opt/anaconda3/envs/torch/lib/python3.12/site-packages (from pandas>=1.3.5->pandas[parquet]>=1.3.5->evidently) (2024.2)\n",
      "Requirement already satisfied: pyarrow>=7.0.0 in /opt/anaconda3/envs/torch/lib/python3.12/site-packages (from pandas[parquet]>=1.3.5->evidently) (19.0.1)\n",
      "Requirement already satisfied: tenacity>=6.2.0 in /opt/anaconda3/envs/torch/lib/python3.12/site-packages (from plotly<6,>=5.10.0->evidently) (9.0.0)\n",
      "Requirement already satisfied: annotated-types>=0.6.0 in /opt/anaconda3/envs/torch/lib/python3.12/site-packages (from pydantic>=1.10.13->evidently) (0.7.0)\n",
      "Requirement already satisfied: pydantic-core==2.27.1 in /opt/anaconda3/envs/torch/lib/python3.12/site-packages (from pydantic>=1.10.13->evidently) (2.27.1)\n",
      "Requirement already satisfied: charset-normalizer<4,>=2 in /opt/anaconda3/envs/torch/lib/python3.12/site-packages (from requests>=2.32.0->evidently) (3.4.0)\n",
      "Requirement already satisfied: idna<4,>=2.5 in /opt/anaconda3/envs/torch/lib/python3.12/site-packages (from requests>=2.32.0->evidently) (3.10)\n",
      "Requirement already satisfied: markdown-it-py>=2.2.0 in /opt/anaconda3/envs/torch/lib/python3.12/site-packages (from rich>=13->evidently) (3.0.0)\n",
      "Requirement already satisfied: pygments<3.0.0,>=2.13.0 in /opt/anaconda3/envs/torch/lib/python3.12/site-packages (from rich>=13->evidently) (2.18.0)\n",
      "Requirement already satisfied: threadpoolctl>=2.0.0 in /opt/anaconda3/envs/torch/lib/python3.12/site-packages (from scikit-learn>=1.0.1->evidently) (3.5.0)\n",
      "Requirement already satisfied: patsy>=0.5.6 in /opt/anaconda3/envs/torch/lib/python3.12/site-packages (from statsmodels>=0.12.2->evidently) (1.0.1)\n",
      "Requirement already satisfied: shellingham>=1.3.0 in /opt/anaconda3/envs/torch/lib/python3.12/site-packages (from typer>=0.3->evidently) (1.5.4)\n",
      "Requirement already satisfied: mypy-extensions>=0.3.0 in /opt/anaconda3/envs/torch/lib/python3.12/site-packages (from typing-inspect>=0.9.0->evidently) (1.0.0)\n",
      "Requirement already satisfied: h11>=0.8 in /opt/anaconda3/envs/torch/lib/python3.12/site-packages (from uvicorn>=0.22.0->uvicorn[standard]>=0.22.0->evidently) (0.14.0)\n",
      "Requirement already satisfied: httptools>=0.6.3 in /opt/anaconda3/envs/torch/lib/python3.12/site-packages (from uvicorn[standard]>=0.22.0->evidently) (0.6.4)\n",
      "Requirement already satisfied: python-dotenv>=0.13 in /opt/anaconda3/envs/torch/lib/python3.12/site-packages (from uvicorn[standard]>=0.22.0->evidently) (1.0.1)\n",
      "Requirement already satisfied: uvloop!=0.15.0,!=0.15.1,>=0.14.0 in /opt/anaconda3/envs/torch/lib/python3.12/site-packages (from uvicorn[standard]>=0.22.0->evidently) (0.21.0)\n",
      "Requirement already satisfied: watchfiles>=0.13 in /opt/anaconda3/envs/torch/lib/python3.12/site-packages (from uvicorn[standard]>=0.22.0->evidently) (1.0.4)\n",
      "Requirement already satisfied: websockets>=10.4 in /opt/anaconda3/envs/torch/lib/python3.12/site-packages (from uvicorn[standard]>=0.22.0->evidently) (14.1)\n",
      "Requirement already satisfied: sniffio>=1.1 in /opt/anaconda3/envs/torch/lib/python3.12/site-packages (from anyio>=3->litestar>=2.8.3->evidently) (1.3.1)\n",
      "Requirement already satisfied: pycparser in /opt/anaconda3/envs/torch/lib/python3.12/site-packages (from cffi>=1.12->cryptography>=43.0.1->evidently) (2.22)\n",
      "Requirement already satisfied: httpcore==1.* in /opt/anaconda3/envs/torch/lib/python3.12/site-packages (from httpx>=0.22->litestar>=2.8.3->evidently) (1.0.7)\n",
      "Requirement already satisfied: mdurl~=0.1 in /opt/anaconda3/envs/torch/lib/python3.12/site-packages (from markdown-it-py>=2.2.0->rich>=13->evidently) (0.1.2)\n",
      "Requirement already satisfied: faker in /opt/anaconda3/envs/torch/lib/python3.12/site-packages (from polyfactory>=2.6.3->litestar>=2.8.3->evidently) (36.1.1)\n",
      "Requirement already satisfied: six>=1.5 in /opt/anaconda3/envs/torch/lib/python3.12/site-packages (from python-dateutil>=2.8.2->pandas>=1.3.5->pandas[parquet]>=1.3.5->evidently) (1.16.0)\n",
      "Using cached evidently-0.6.5-py3-none-any.whl (3.5 MB)\n",
      "Installing collected packages: evidently\n",
      "Successfully installed evidently-0.6.5\n"
     ]
    }
   ],
   "source": [
    "!pip install --upgrade evidently"
   ]
  },
  {
   "cell_type": "code",
   "execution_count": 3,
   "metadata": {},
   "outputs": [
    {
     "name": "stdout",
     "output_type": "stream",
     "text": [
      "Name: evidently\n",
      "Version: 0.6.5\n",
      "Summary: Open-source tools to analyze, monitor, and debug machine learning model in production.\n",
      "Home-page: https://github.com/evidentlyai/evidently\n",
      "Author: Emeli Dral\n",
      "Author-email: emeli.dral@gmail.com\n",
      "License: UNKNOWN\n",
      "Location: /opt/anaconda3/envs/torch/lib/python3.12/site-packages\n",
      "Requires: certifi, cryptography, deprecation, dynaconf, fsspec, iterative-telemetry, litestar, nltk, numpy, pandas, plotly, pydantic, PyYAML, requests, rich, scikit-learn, scipy, statsmodels, typer, typing-inspect, ujson, urllib3, uuid6, uvicorn, watchdog\n",
      "Required-by: \n"
     ]
    }
   ],
   "source": [
    "!pip show evidently"
   ]
  },
  {
   "cell_type": "code",
   "execution_count": 4,
   "metadata": {},
   "outputs": [
    {
     "ename": "ImportError",
     "evalue": "cannot import name 'ColumnMapping' from 'evidently.options' (/opt/anaconda3/envs/torch/lib/python3.12/site-packages/evidently/options/__init__.py)",
     "output_type": "error",
     "traceback": [
      "\u001b[0;31m---------------------------------------------------------------------------\u001b[0m",
      "\u001b[0;31mImportError\u001b[0m                               Traceback (most recent call last)",
      "Cell \u001b[0;32mIn[4], line 9\u001b[0m\n\u001b[1;32m      7\u001b[0m \u001b[38;5;28;01mfrom\u001b[39;00m \u001b[38;5;21;01mevidently\u001b[39;00m\u001b[38;5;21;01m.\u001b[39;00m\u001b[38;5;21;01mreport\u001b[39;00m \u001b[38;5;28;01mimport\u001b[39;00m Report\n\u001b[1;32m      8\u001b[0m \u001b[38;5;28;01mfrom\u001b[39;00m \u001b[38;5;21;01mevidently\u001b[39;00m\u001b[38;5;21;01m.\u001b[39;00m\u001b[38;5;21;01mmetric_preset\u001b[39;00m \u001b[38;5;28;01mimport\u001b[39;00m DataDriftPreset, ClassificationPreset\n\u001b[0;32m----> 9\u001b[0m \u001b[38;5;28;01mfrom\u001b[39;00m \u001b[38;5;21;01mevidently\u001b[39;00m\u001b[38;5;21;01m.\u001b[39;00m\u001b[38;5;21;01moptions\u001b[39;00m \u001b[38;5;28;01mimport\u001b[39;00m ColumnMapping  \u001b[38;5;66;03m# Updated import\u001b[39;00m\n\u001b[1;32m     11\u001b[0m \u001b[38;5;66;03m# Step 1: Create synthetic dataset\u001b[39;00m\n\u001b[1;32m     12\u001b[0m X, y \u001b[38;5;241m=\u001b[39m make_classification(n_samples\u001b[38;5;241m=\u001b[39m\u001b[38;5;241m1000\u001b[39m, n_features\u001b[38;5;241m=\u001b[39m\u001b[38;5;241m20\u001b[39m, n_informative\u001b[38;5;241m=\u001b[39m\u001b[38;5;241m2\u001b[39m, n_redundant\u001b[38;5;241m=\u001b[39m\u001b[38;5;241m10\u001b[39m, random_state\u001b[38;5;241m=\u001b[39m\u001b[38;5;241m42\u001b[39m)\n",
      "\u001b[0;31mImportError\u001b[0m: cannot import name 'ColumnMapping' from 'evidently.options' (/opt/anaconda3/envs/torch/lib/python3.12/site-packages/evidently/options/__init__.py)"
     ]
    }
   ],
   "source": [
    "import numpy as np\n",
    "import pandas as pd\n",
    "from sklearn.datasets import make_classification\n",
    "from sklearn.model_selection import train_test_split\n",
    "from sklearn.linear_model import LogisticRegression\n",
    "from sklearn.metrics import accuracy_score\n",
    "from evidently.report import Report\n",
    "from evidently.metric_preset import DataDriftPreset, ClassificationPreset\n",
    "from evidently.options import ColumnMapping  # Updated import\n",
    "\n",
    "# Step 1: Create synthetic dataset\n",
    "X, y = make_classification(n_samples=1000, n_features=20, n_informative=2, n_redundant=10, random_state=42)\n",
    "data = pd.DataFrame(X, columns=[f'feature_{i}' for i in range(X.shape[1])])\n",
    "data['target'] = y\n",
    "\n",
    "# Step 2: Split into train and test sets\n",
    "X_train, X_test, y_train, y_test = train_test_split(data.drop('target', axis=1), data['target'], test_size=0.25, random_state=42)\n",
    "\n",
    "# Train a model\n",
    "model = LogisticRegression(max_iter=1000)\n",
    "model.fit(X_train, y_train)\n",
    "\n",
    "# Predict on the test set\n",
    "predictions = model.predict(X_test)\n",
    "\n",
    "# Calculate accuracy\n",
    "accuracy = accuracy_score(y_test, predictions)\n",
    "print(f'Model Accuracy: {accuracy}')\n",
    "\n",
    "# Step 3: Prepare data for Evidently\n",
    "reference_data = pd.concat([X_train, y_train], axis=1)\n",
    "current_data = X_test.copy()\n",
    "current_data['target'] = y_test\n",
    "current_data['prediction'] = predictions\n",
    "\n",
    "# Define column mapping using ColumnMapping\n",
    "column_mapping = ColumnMapping(\n",
    "    target='target',\n",
    "    prediction='prediction',\n",
    "    numerical_features=[f'feature_{i}' for i in range(20)],\n",
    "    categorical_features=[]\n",
    ")\n",
    "\n",
    "# Generate report\n",
    "report = Report(metrics=[DataDriftPreset(), ClassificationPreset()])\n",
    "report.run(reference_data=reference_data, current_data=current_data, column_mapping=column_mapping)\n",
    "report.save_html('evidently_report.html')"
   ]
  },
  {
   "cell_type": "code",
   "execution_count": null,
   "metadata": {},
   "outputs": [],
   "source": []
  }
 ],
 "metadata": {
  "kernelspec": {
   "display_name": "torch",
   "language": "python",
   "name": "python3"
  },
  "language_info": {
   "codemirror_mode": {
    "name": "ipython",
    "version": 3
   },
   "file_extension": ".py",
   "mimetype": "text/x-python",
   "name": "python",
   "nbconvert_exporter": "python",
   "pygments_lexer": "ipython3",
   "version": "3.12.7"
  }
 },
 "nbformat": 4,
 "nbformat_minor": 2
}
