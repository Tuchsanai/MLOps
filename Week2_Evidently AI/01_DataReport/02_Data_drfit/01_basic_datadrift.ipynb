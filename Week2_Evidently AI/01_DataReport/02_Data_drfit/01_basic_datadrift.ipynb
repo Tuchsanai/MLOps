{
 "cells": [
  {
   "cell_type": "code",
   "execution_count": null,
   "id": "533aac99",
   "metadata": {},
   "outputs": [],
   "source": [
    "import IPython\n",
    "import sys\n",
    "\n",
    "def clean_notebook():\n",
    "    IPython.display.clear_output(wait=True)\n",
    "    print(\"Notebook cleaned.\")\n",
    "\n",
    "!pip install --upgrade evidently==0.7.14\n",
    "\n",
    "# Clean up the notebook\n",
    "clean_notebook()"
   ]
  },
  {
   "cell_type": "code",
   "execution_count": null,
   "id": "1cb4b50b",
   "metadata": {},
   "outputs": [],
   "source": [
    "from evidently import Report\n",
    "from evidently.metrics import *\n",
    "from evidently.presets import *\n",
    "import pandas as pd\n",
    "import numpy as np\n",
    "\n",
    "# Create mockup DataFrame\n",
    "np.random.seed(42)\n",
    "\n",
    "df = pd.DataFrame({\n",
    "    'age': np.random.randint(18, 70, 1000),\n",
    "    'income': np.random.randint(20000, 150000, 1000),\n",
    "    'credit_score': np.random.randint(300, 850, 1000),\n",
    "    'loan_amount': np.random.randint(5000, 50000, 1000),\n",
    "    'employment_years': np.random.randint(0, 30, 1000),\n",
    "    'debt_ratio': np.random.uniform(0, 1, 1000),\n",
    "    'num_credit_lines': np.random.randint(1, 10, 1000),\n",
    "    'category': np.random.choice(['A', 'B', 'C', 'D'], 1000),\n",
    "    'approved': np.random.choice([0, 1], 1000, p=[0.3, 0.7])\n",
    "})\n",
    "\n",
    "\n",
    "# reference = ข้อมูล train\n",
    "reference = df.sample(500, random_state=42)\n",
    "\n",
    "# current = ข้อมูลใหม่ที่เข้าโมเดล\n",
    "current = df.sample(500, random_state=99)\n",
    "\n",
    "\n",
    "print(f\"DataFrame shape: {df.shape}\")\n",
    "df.head(10)\n"
   ]
  },
  {
   "cell_type": "markdown",
   "id": "1a4c43f4",
   "metadata": {},
   "source": [
    "#### Create Data dfift"
   ]
  },
  {
   "cell_type": "code",
   "execution_count": null,
   "id": "1cdd29fd",
   "metadata": {},
   "outputs": [],
   "source": [
    "# =========================\n",
    "# 2) Inject Drift in 2 Columns\n",
    "#    - Numeric drift:  income  (ขยับค่าเฉลี่ย/สเกลให้สูงขึ้น)\n",
    "#    - Categorical drift: category (บิดสัดส่วนให้ skew มากขึ้น)\n",
    "# =========================\n",
    "\n",
    " # Income drift (shift & scale), แล้ว clip ให้อยู่ในช่วงสมเหตุสมผล\n",
    "current['income'] = (current['income'] * 1.6 + 10_000).clip(lower=15_000, upper=300_000).astype(int)\n",
    "\n",
    "#  Category drift (เปลี่ยน distribution ให้ 'D' เด่นขึ้น)\n",
    "new_cats = np.random.choice(['A', 'B', 'C', 'D'], size=len(current), p=[0.10, 0.10, 0.10, 0.70])\n",
    "current['category'] = new_cats\n",
    "\n"
   ]
  },
  {
   "cell_type": "code",
   "execution_count": null,
   "id": "4bb49ffc",
   "metadata": {},
   "outputs": [],
   "source": [
    "\n",
    "# สร้างรายงาน Data Drift\n",
    "drift_report = Report([\n",
    "    DataDriftPreset()\n",
    "])\n",
    "\n",
    "my_eval = drift_report.run(reference,current)\n",
    "my_eval.save_html(\"data_drift_report.html\")\n",
    "\n"
   ]
  },
  {
   "cell_type": "code",
   "execution_count": null,
   "id": "b969c5cd",
   "metadata": {},
   "outputs": [],
   "source": [
    "metrics = [\n",
    "            DataDriftPreset(['age','income','credit_score','category'])\n",
    "    ]\n",
    "\n",
    "drift_report = Report(metrics)\n",
    "result = drift_report.run(reference_data=reference, current_data=current)\n",
    "\n",
    "# Save HTML\n",
    "result"
   ]
  },
  {
   "cell_type": "code",
   "execution_count": null,
   "id": "1cd69a03",
   "metadata": {},
   "outputs": [],
   "source": []
  }
 ],
 "metadata": {
  "kernelspec": {
   "display_name": "Python 3",
   "language": "python",
   "name": "python3"
  },
  "language_info": {
   "codemirror_mode": {
    "name": "ipython",
    "version": 3
   },
   "file_extension": ".py",
   "mimetype": "text/x-python",
   "name": "python",
   "nbconvert_exporter": "python",
   "pygments_lexer": "ipython3",
   "version": "3.12.3"
  }
 },
 "nbformat": 4,
 "nbformat_minor": 5
}
