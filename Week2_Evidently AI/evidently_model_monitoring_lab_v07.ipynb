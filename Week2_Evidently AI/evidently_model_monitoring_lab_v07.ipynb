{
 "cells": [
  {
   "cell_type": "markdown",
   "id": "630df50b",
   "metadata": {},
   "source": [
    "\n",
    "# 🧪 Lab: Model Monitoring with Evidently AI (v0.7 API)\n",
    "\n",
    "This lab demonstrates **model monitoring** for a classification model using the **Evidently 0.7** API:\n",
    "- **Data definition** (`Dataset`, `DataDefinition`, `BinaryClassification`)\n",
    "- **Presets**: `DataDriftPreset`, `ClassificationPreset`\n",
    "- **Metrics**: `DriftedColumnsCount`, `Accuracy`\n",
    "- Batch monitoring with **per-batch HTML reports** and **simple alerts**\n",
    "\n",
    "**Created:** 2025-09-15 (UTC)\n"
   ]
  },
  {
   "cell_type": "markdown",
   "id": "5fa27622",
   "metadata": {},
   "source": [
    "## 1) Setup"
   ]
  },
  {
   "cell_type": "code",
   "execution_count": 6,
   "id": "e594e4e6",
   "metadata": {},
   "outputs": [],
   "source": [
    "\n",
    "# If needed, install Evidently. (Skip if already installed at 0.7+)\n",
    "# %pip install -U evidently\n"
   ]
  },
  {
   "cell_type": "markdown",
   "id": "18f8b242",
   "metadata": {},
   "source": [
    "## 2) Imports"
   ]
  },
  {
   "cell_type": "code",
   "execution_count": 7,
   "id": "a0a41c2f",
   "metadata": {},
   "outputs": [
    {
     "name": "stdout",
     "output_type": "stream",
     "text": [
      "evidently.__version__ = 0.7.14\n"
     ]
    }
   ],
   "source": [
    "\n",
    "import numpy as np\n",
    "import pandas as pd\n",
    "import matplotlib.pyplot as plt\n",
    "from pathlib import Path\n",
    "\n",
    "from sklearn.datasets import load_breast_cancer\n",
    "from sklearn.model_selection import train_test_split\n",
    "from sklearn.preprocessing import StandardScaler\n",
    "from sklearn.pipeline import Pipeline\n",
    "from sklearn.linear_model import LogisticRegression\n",
    "from sklearn.metrics import roc_auc_score, accuracy_score\n",
    "\n",
    "import evidently\n",
    "from evidently import Dataset, DataDefinition, BinaryClassification, Report\n",
    "from evidently.presets import DataDriftPreset, ClassificationPreset\n",
    "from evidently.metrics import DriftedColumnsCount, Accuracy\n",
    "\n",
    "print(\"evidently.__version__ =\", evidently.__version__)\n"
   ]
  },
  {
   "cell_type": "markdown",
   "id": "c6cc37b5",
   "metadata": {},
   "source": [
    "## 3) Load dataset"
   ]
  },
  {
   "cell_type": "code",
   "execution_count": 8,
   "id": "7bc1201d",
   "metadata": {},
   "outputs": [
    {
     "data": {
      "text/html": [
       "<div>\n",
       "<style scoped>\n",
       "    .dataframe tbody tr th:only-of-type {\n",
       "        vertical-align: middle;\n",
       "    }\n",
       "\n",
       "    .dataframe tbody tr th {\n",
       "        vertical-align: top;\n",
       "    }\n",
       "\n",
       "    .dataframe thead th {\n",
       "        text-align: right;\n",
       "    }\n",
       "</style>\n",
       "<table border=\"1\" class=\"dataframe\">\n",
       "  <thead>\n",
       "    <tr style=\"text-align: right;\">\n",
       "      <th></th>\n",
       "      <th>mean radius</th>\n",
       "      <th>mean texture</th>\n",
       "      <th>mean perimeter</th>\n",
       "      <th>mean area</th>\n",
       "      <th>mean smoothness</th>\n",
       "      <th>mean compactness</th>\n",
       "      <th>mean concavity</th>\n",
       "      <th>mean concave points</th>\n",
       "      <th>mean symmetry</th>\n",
       "      <th>mean fractal dimension</th>\n",
       "      <th>...</th>\n",
       "      <th>worst texture</th>\n",
       "      <th>worst perimeter</th>\n",
       "      <th>worst area</th>\n",
       "      <th>worst smoothness</th>\n",
       "      <th>worst compactness</th>\n",
       "      <th>worst concavity</th>\n",
       "      <th>worst concave points</th>\n",
       "      <th>worst symmetry</th>\n",
       "      <th>worst fractal dimension</th>\n",
       "      <th>label</th>\n",
       "    </tr>\n",
       "  </thead>\n",
       "  <tbody>\n",
       "    <tr>\n",
       "      <th>0</th>\n",
       "      <td>17.99</td>\n",
       "      <td>10.38</td>\n",
       "      <td>122.80</td>\n",
       "      <td>1001.0</td>\n",
       "      <td>0.11840</td>\n",
       "      <td>0.27760</td>\n",
       "      <td>0.3001</td>\n",
       "      <td>0.14710</td>\n",
       "      <td>0.2419</td>\n",
       "      <td>0.07871</td>\n",
       "      <td>...</td>\n",
       "      <td>17.33</td>\n",
       "      <td>184.60</td>\n",
       "      <td>2019.0</td>\n",
       "      <td>0.1622</td>\n",
       "      <td>0.6656</td>\n",
       "      <td>0.7119</td>\n",
       "      <td>0.2654</td>\n",
       "      <td>0.4601</td>\n",
       "      <td>0.11890</td>\n",
       "      <td>0</td>\n",
       "    </tr>\n",
       "    <tr>\n",
       "      <th>1</th>\n",
       "      <td>20.57</td>\n",
       "      <td>17.77</td>\n",
       "      <td>132.90</td>\n",
       "      <td>1326.0</td>\n",
       "      <td>0.08474</td>\n",
       "      <td>0.07864</td>\n",
       "      <td>0.0869</td>\n",
       "      <td>0.07017</td>\n",
       "      <td>0.1812</td>\n",
       "      <td>0.05667</td>\n",
       "      <td>...</td>\n",
       "      <td>23.41</td>\n",
       "      <td>158.80</td>\n",
       "      <td>1956.0</td>\n",
       "      <td>0.1238</td>\n",
       "      <td>0.1866</td>\n",
       "      <td>0.2416</td>\n",
       "      <td>0.1860</td>\n",
       "      <td>0.2750</td>\n",
       "      <td>0.08902</td>\n",
       "      <td>0</td>\n",
       "    </tr>\n",
       "    <tr>\n",
       "      <th>2</th>\n",
       "      <td>19.69</td>\n",
       "      <td>21.25</td>\n",
       "      <td>130.00</td>\n",
       "      <td>1203.0</td>\n",
       "      <td>0.10960</td>\n",
       "      <td>0.15990</td>\n",
       "      <td>0.1974</td>\n",
       "      <td>0.12790</td>\n",
       "      <td>0.2069</td>\n",
       "      <td>0.05999</td>\n",
       "      <td>...</td>\n",
       "      <td>25.53</td>\n",
       "      <td>152.50</td>\n",
       "      <td>1709.0</td>\n",
       "      <td>0.1444</td>\n",
       "      <td>0.4245</td>\n",
       "      <td>0.4504</td>\n",
       "      <td>0.2430</td>\n",
       "      <td>0.3613</td>\n",
       "      <td>0.08758</td>\n",
       "      <td>0</td>\n",
       "    </tr>\n",
       "    <tr>\n",
       "      <th>3</th>\n",
       "      <td>11.42</td>\n",
       "      <td>20.38</td>\n",
       "      <td>77.58</td>\n",
       "      <td>386.1</td>\n",
       "      <td>0.14250</td>\n",
       "      <td>0.28390</td>\n",
       "      <td>0.2414</td>\n",
       "      <td>0.10520</td>\n",
       "      <td>0.2597</td>\n",
       "      <td>0.09744</td>\n",
       "      <td>...</td>\n",
       "      <td>26.50</td>\n",
       "      <td>98.87</td>\n",
       "      <td>567.7</td>\n",
       "      <td>0.2098</td>\n",
       "      <td>0.8663</td>\n",
       "      <td>0.6869</td>\n",
       "      <td>0.2575</td>\n",
       "      <td>0.6638</td>\n",
       "      <td>0.17300</td>\n",
       "      <td>0</td>\n",
       "    </tr>\n",
       "    <tr>\n",
       "      <th>4</th>\n",
       "      <td>20.29</td>\n",
       "      <td>14.34</td>\n",
       "      <td>135.10</td>\n",
       "      <td>1297.0</td>\n",
       "      <td>0.10030</td>\n",
       "      <td>0.13280</td>\n",
       "      <td>0.1980</td>\n",
       "      <td>0.10430</td>\n",
       "      <td>0.1809</td>\n",
       "      <td>0.05883</td>\n",
       "      <td>...</td>\n",
       "      <td>16.67</td>\n",
       "      <td>152.20</td>\n",
       "      <td>1575.0</td>\n",
       "      <td>0.1374</td>\n",
       "      <td>0.2050</td>\n",
       "      <td>0.4000</td>\n",
       "      <td>0.1625</td>\n",
       "      <td>0.2364</td>\n",
       "      <td>0.07678</td>\n",
       "      <td>0</td>\n",
       "    </tr>\n",
       "  </tbody>\n",
       "</table>\n",
       "<p>5 rows × 31 columns</p>\n",
       "</div>"
      ],
      "text/plain": [
       "   mean radius  mean texture  mean perimeter  mean area  mean smoothness  \\\n",
       "0        17.99         10.38          122.80     1001.0          0.11840   \n",
       "1        20.57         17.77          132.90     1326.0          0.08474   \n",
       "2        19.69         21.25          130.00     1203.0          0.10960   \n",
       "3        11.42         20.38           77.58      386.1          0.14250   \n",
       "4        20.29         14.34          135.10     1297.0          0.10030   \n",
       "\n",
       "   mean compactness  mean concavity  mean concave points  mean symmetry  \\\n",
       "0           0.27760          0.3001              0.14710         0.2419   \n",
       "1           0.07864          0.0869              0.07017         0.1812   \n",
       "2           0.15990          0.1974              0.12790         0.2069   \n",
       "3           0.28390          0.2414              0.10520         0.2597   \n",
       "4           0.13280          0.1980              0.10430         0.1809   \n",
       "\n",
       "   mean fractal dimension  ...  worst texture  worst perimeter  worst area  \\\n",
       "0                 0.07871  ...          17.33           184.60      2019.0   \n",
       "1                 0.05667  ...          23.41           158.80      1956.0   \n",
       "2                 0.05999  ...          25.53           152.50      1709.0   \n",
       "3                 0.09744  ...          26.50            98.87       567.7   \n",
       "4                 0.05883  ...          16.67           152.20      1575.0   \n",
       "\n",
       "   worst smoothness  worst compactness  worst concavity  worst concave points  \\\n",
       "0            0.1622             0.6656           0.7119                0.2654   \n",
       "1            0.1238             0.1866           0.2416                0.1860   \n",
       "2            0.1444             0.4245           0.4504                0.2430   \n",
       "3            0.2098             0.8663           0.6869                0.2575   \n",
       "4            0.1374             0.2050           0.4000                0.1625   \n",
       "\n",
       "   worst symmetry  worst fractal dimension  label  \n",
       "0          0.4601                  0.11890      0  \n",
       "1          0.2750                  0.08902      0  \n",
       "2          0.3613                  0.08758      0  \n",
       "3          0.6638                  0.17300      0  \n",
       "4          0.2364                  0.07678      0  \n",
       "\n",
       "[5 rows x 31 columns]"
      ]
     },
     "execution_count": 8,
     "metadata": {},
     "output_type": "execute_result"
    }
   ],
   "source": [
    "\n",
    "ds = load_breast_cancer(as_frame=True)\n",
    "df = ds.frame.rename(columns={'target':'label'}).copy()\n",
    "feature_names = [c for c in df.columns if c != 'label']\n",
    "df.head()\n"
   ]
  },
  {
   "cell_type": "markdown",
   "id": "317665c1",
   "metadata": {},
   "source": [
    "## 4) Train a classifier and define **reference** data"
   ]
  },
  {
   "cell_type": "code",
   "execution_count": 9,
   "id": "593ee9ed",
   "metadata": {},
   "outputs": [
    {
     "name": "stdout",
     "output_type": "stream",
     "text": [
      "Reference size: (284, 33)\n",
      "Reference AUC: 0.9971380114479542\n"
     ]
    }
   ],
   "source": [
    "\n",
    "ref_df, prod_pool = train_test_split(df, test_size=0.5, random_state=7, stratify=df['label'])\n",
    "X_ref, y_ref = ref_df[feature_names], ref_df['label']\n",
    "\n",
    "clf = Pipeline([('scaler', StandardScaler()), ('lr', LogisticRegression(max_iter=500, random_state=7))])\n",
    "clf.fit(X_ref, y_ref)\n",
    "\n",
    "ref_df = ref_df.copy()\n",
    "ref_df['pred_proba'] = clf.predict_proba(X_ref)[:,1]\n",
    "ref_df['prediction'] = (ref_df['pred_proba'] >= 0.5).astype(int)\n",
    "\n",
    "print(\"Reference size:\", ref_df.shape)\n",
    "print(\"Reference AUC:\", roc_auc_score(y_ref, ref_df['pred_proba']))\n"
   ]
  },
  {
   "cell_type": "markdown",
   "id": "70437e45",
   "metadata": {},
   "source": [
    "## 5) Build `Dataset` with `DataDefinition` (new API)"
   ]
  },
  {
   "cell_type": "code",
   "execution_count": 10,
   "id": "7a3c6708",
   "metadata": {},
   "outputs": [
    {
     "data": {
      "text/plain": [
       "<evidently.core.datasets.PandasDataset at 0x7a4fe95bb6e0>"
      ]
     },
     "execution_count": 10,
     "metadata": {},
     "output_type": "execute_result"
    }
   ],
   "source": [
    "\n",
    "# Define binary classification mapping\n",
    "data_def = DataDefinition(\n",
    "    classification=[BinaryClassification(\n",
    "        target=\"label\",\n",
    "        prediction_labels=\"prediction\",      # predicted class labels\n",
    "        prediction_probas=\"pred_proba\",     # predicted probability for positive class\n",
    "        pos_label=1\n",
    "    )]\n",
    ")\n",
    "\n",
    "# Create Evidently Dataset objects\n",
    "ref_eval = Dataset.from_pandas(ref_df, data_definition=data_def)\n",
    "ref_eval\n"
   ]
  },
  {
   "cell_type": "markdown",
   "id": "672e3a93",
   "metadata": {},
   "source": [
    "## 6) Simulate **production batches** with drift"
   ]
  },
  {
   "cell_type": "code",
   "execution_count": 11,
   "id": "d576cfbf",
   "metadata": {},
   "outputs": [
    {
     "data": {
      "text/plain": [
       "(6, [48, 48, 48, 48, 48, 45])"
      ]
     },
     "execution_count": 11,
     "metadata": {},
     "output_type": "execute_result"
    }
   ],
   "source": [
    "\n",
    "RNG = np.random.default_rng(42)\n",
    "\n",
    "def induce_feature_shift(df_in: pd.DataFrame, shift_cols, shift_by=0.35, scale=1.2, rng=None):\n",
    "    rng = rng or np.random.default_rng(0)\n",
    "    df_out = df_in.copy()\n",
    "    for c in shift_cols:\n",
    "        if pd.api.types.is_numeric_dtype(df_out[c]):\n",
    "            df_out[c] = df_out[c] + rng.normal(loc=shift_by, scale=0.1*scale, size=len(df_out))\n",
    "    return df_out\n",
    "\n",
    "def flip_labels(df_in: pd.DataFrame, flip_rate=0.1, rng=None):\n",
    "    rng = rng or np.random.default_rng(0)\n",
    "    df_out = df_in.copy()\n",
    "    if flip_rate > 0:\n",
    "        m = rng.random(len(df_out)) < flip_rate\n",
    "        df_out.loc[m, 'label'] = 1 - df_out.loc[m, 'label']\n",
    "    return df_out\n",
    "\n",
    "N_BATCHES = 6\n",
    "batch_size = int(np.ceil(len(prod_pool)/N_BATCHES))\n",
    "batches = []\n",
    "start = 0\n",
    "for i in range(N_BATCHES):\n",
    "    batch = prod_pool.iloc[start:start+batch_size].copy()\n",
    "    start += batch_size\n",
    "    if i >= 2:\n",
    "        batch = induce_feature_shift(batch, feature_names[:5], rng=RNG)\n",
    "    if i >= 4:\n",
    "        batch = flip_labels(batch, 0.10, rng=RNG)\n",
    "    Xb = batch[feature_names]\n",
    "    batch['pred_proba'] = clf.predict_proba(Xb)[:,1]\n",
    "    batch['prediction'] = (batch['pred_proba'] >= 0.5).astype(int)\n",
    "    batch['batch_id'] = i+1\n",
    "    batches.append(batch)\n",
    "\n",
    "len(batches), [len(b) for b in batches]\n"
   ]
  },
  {
   "cell_type": "markdown",
   "id": "b940f445",
   "metadata": {},
   "source": [
    "## 7) Single-batch reports: Data Drift + Classification Presets"
   ]
  },
  {
   "cell_type": "code",
   "execution_count": 12,
   "id": "86903d51",
   "metadata": {},
   "outputs": [
    {
     "ename": "ValueError",
     "evalue": "Column (batch_id) is partially present in data",
     "output_type": "error",
     "traceback": [
      "\u001b[31m---------------------------------------------------------------------------\u001b[39m",
      "\u001b[31mValueError\u001b[39m                                Traceback (most recent call last)",
      "\u001b[36mCell\u001b[39m\u001b[36m \u001b[39m\u001b[32mIn[12]\u001b[39m\u001b[32m, line 8\u001b[39m\n\u001b[32m      6\u001b[39m \u001b[38;5;66;03m# Data Drift (needs current and reference)\u001b[39;00m\n\u001b[32m      7\u001b[39m rep_drift = Report([DataDriftPreset()])\n\u001b[32m----> \u001b[39m\u001b[32m8\u001b[39m drift_eval = \u001b[43mrep_drift\u001b[49m\u001b[43m.\u001b[49m\u001b[43mrun\u001b[49m\u001b[43m(\u001b[49m\u001b[43mbatch1\u001b[49m\u001b[43m,\u001b[49m\u001b[43m \u001b[49m\u001b[43mref_eval\u001b[49m\u001b[43m)\u001b[49m\n\u001b[32m      9\u001b[39m drift_html = OUTPUT_DIR / \u001b[33m'\u001b[39m\u001b[33mdata_drift_batch1_vs_ref.html\u001b[39m\u001b[33m'\u001b[39m\n\u001b[32m     10\u001b[39m rep_drift.save_html(\u001b[38;5;28mstr\u001b[39m(drift_html))\n",
      "\u001b[36mFile \u001b[39m\u001b[32m/usr/local/lib/python3.12/dist-packages/evidently/core/report.py:542\u001b[39m, in \u001b[36mReport.run\u001b[39m\u001b[34m(self, current_data, reference_data, timestamp, metadata, tags, name)\u001b[39m\n\u001b[32m    540\u001b[39m     _tags.extend(tags)\n\u001b[32m    541\u001b[39m snapshot = Snapshot(\u001b[38;5;28mself\u001b[39m, name, _timestamp, _metadata, _tags)\n\u001b[32m--> \u001b[39m\u001b[32m542\u001b[39m \u001b[43msnapshot\u001b[49m\u001b[43m.\u001b[49m\u001b[43mrun\u001b[49m\u001b[43m(\u001b[49m\u001b[43mcurrent_dataset\u001b[49m\u001b[43m,\u001b[49m\u001b[43m \u001b[49m\u001b[43mreference_dataset\u001b[49m\u001b[43m)\u001b[49m\n\u001b[32m    543\u001b[39m \u001b[38;5;28;01mreturn\u001b[39;00m snapshot\n",
      "\u001b[36mFile \u001b[39m\u001b[32m/usr/local/lib/python3.12/dist-packages/evidently/core/report.py:355\u001b[39m, in \u001b[36mSnapshot.run\u001b[39m\u001b[34m(self, current_data, reference_data)\u001b[39m\n\u001b[32m    353\u001b[39m \u001b[38;5;28mself\u001b[39m.context.init_dataset(current_data, reference_data)\n\u001b[32m    354\u001b[39m \u001b[38;5;28mself\u001b[39m._metrics = {}\n\u001b[32m--> \u001b[39m\u001b[32m355\u001b[39m \u001b[38;5;28mself\u001b[39m._snapshot_item, \u001b[38;5;28mself\u001b[39m._widgets = \u001b[38;5;28;43mself\u001b[39;49m\u001b[43m.\u001b[49m\u001b[43m_run_items\u001b[49m\u001b[43m(\u001b[49m\u001b[38;5;28;43mself\u001b[39;49m\u001b[43m.\u001b[49m\u001b[43mreport\u001b[49m\u001b[43m.\u001b[49m\u001b[43mitems\u001b[49m\u001b[43m(\u001b[49m\u001b[43m)\u001b[49m\u001b[43m,\u001b[49m\u001b[43m \u001b[49m\u001b[38;5;28;43mself\u001b[39;49m\u001b[43m.\u001b[49m\u001b[43m_metrics\u001b[49m\u001b[43m)\u001b[49m\n\u001b[32m    356\u001b[39m \u001b[38;5;28mself\u001b[39m._top_level_metrics = \u001b[38;5;28mlist\u001b[39m(\u001b[38;5;28mself\u001b[39m.context._metrics_graph.keys())\n\u001b[32m    357\u001b[39m metrics_results = [\u001b[38;5;28mself\u001b[39m._metrics.get(result) \u001b[38;5;28;01mfor\u001b[39;00m result \u001b[38;5;129;01min\u001b[39;00m \u001b[38;5;28mself\u001b[39m._top_level_metrics]\n",
      "\u001b[36mFile \u001b[39m\u001b[32m/usr/local/lib/python3.12/dist-packages/evidently/core/report.py:340\u001b[39m, in \u001b[36mSnapshot._run_items\u001b[39m\u001b[34m(self, items, metric_results)\u001b[39m\n\u001b[32m    338\u001b[39m \u001b[38;5;28;01mfor\u001b[39;00m item \u001b[38;5;129;01min\u001b[39;00m items:\n\u001b[32m    339\u001b[39m     \u001b[38;5;28;01mif\u001b[39;00m \u001b[38;5;28misinstance\u001b[39m(item, MetricContainer):\n\u001b[32m--> \u001b[39m\u001b[32m340\u001b[39m         container_items, container_widgets = \u001b[38;5;28;43mself\u001b[39;49m\u001b[43m.\u001b[49m\u001b[43m_run_items\u001b[49m\u001b[43m(\u001b[49m\u001b[43mitem\u001b[49m\u001b[43m.\u001b[49m\u001b[43mmetrics\u001b[49m\u001b[43m(\u001b[49m\u001b[38;5;28;43mself\u001b[39;49m\u001b[43m.\u001b[49m\u001b[43mcontext\u001b[49m\u001b[43m)\u001b[49m\u001b[43m,\u001b[49m\u001b[43m \u001b[49m\u001b[43mmetric_results\u001b[49m\u001b[43m)\u001b[49m\n\u001b[32m    341\u001b[39m         widget = item.render(\u001b[38;5;28mself\u001b[39m.context, [(v.metric_id, v.widgets) \u001b[38;5;28;01mfor\u001b[39;00m v \u001b[38;5;129;01min\u001b[39;00m container_items])\n\u001b[32m    342\u001b[39m         widgets.extend(widget)\n",
      "\u001b[36mFile \u001b[39m\u001b[32m/usr/local/lib/python3.12/dist-packages/evidently/core/report.py:346\u001b[39m, in \u001b[36mSnapshot._run_items\u001b[39m\u001b[34m(self, items, metric_results)\u001b[39m\n\u001b[32m    344\u001b[39m \u001b[38;5;28;01melse\u001b[39;00m:\n\u001b[32m    345\u001b[39m     calc = item.to_calculation()\n\u001b[32m--> \u001b[39m\u001b[32m346\u001b[39m     metric_results[calc.id] = \u001b[38;5;28;43mself\u001b[39;49m\u001b[43m.\u001b[49m\u001b[43mcontext\u001b[49m\u001b[43m.\u001b[49m\u001b[43mcalculate_metric\u001b[49m\u001b[43m(\u001b[49m\u001b[43mcalc\u001b[49m\u001b[43m)\u001b[49m\n\u001b[32m    347\u001b[39m     widget = metric_results[calc.id].get_widgets()\n\u001b[32m    348\u001b[39m     widgets.extend(widget)\n",
      "\u001b[36mFile \u001b[39m\u001b[32m/usr/local/lib/python3.12/dist-packages/evidently/core/report.py:119\u001b[39m, in \u001b[36mContext.calculate_metric\u001b[39m\u001b[34m(self, calc)\u001b[39m\n\u001b[32m    117\u001b[39m \u001b[38;5;28mself\u001b[39m._current_graph_level = prev_level[calc.id]\n\u001b[32m    118\u001b[39m \u001b[38;5;28;01mif\u001b[39;00m calc.id \u001b[38;5;129;01mnot\u001b[39;00m \u001b[38;5;129;01min\u001b[39;00m \u001b[38;5;28mself\u001b[39m._metrics:\n\u001b[32m--> \u001b[39m\u001b[32m119\u001b[39m     current_result, reference_result = \u001b[43mcalc\u001b[49m\u001b[43m.\u001b[49m\u001b[43mcall\u001b[49m\u001b[43m(\u001b[49m\u001b[38;5;28;43mself\u001b[39;49m\u001b[43m)\u001b[49m\n\u001b[32m    120\u001b[39m     link_metric(current_result.widget, calc.to_metric())\n\u001b[32m    121\u001b[39m     metric_config = calc.to_metric_config()\n",
      "\u001b[36mFile \u001b[39m\u001b[32m/usr/local/lib/python3.12/dist-packages/evidently/core/metric_types.py:682\u001b[39m, in \u001b[36mMetricCalculationBase.call\u001b[39m\u001b[34m(self, context)\u001b[39m\n\u001b[32m    674\u001b[39m \u001b[38;5;28;01mdef\u001b[39;00m\u001b[38;5;250m \u001b[39m\u001b[34mcall\u001b[39m(\u001b[38;5;28mself\u001b[39m, context: \u001b[33m\"\u001b[39m\u001b[33mContext\u001b[39m\u001b[33m\"\u001b[39m) -> Tuple[TResult, Optional[TResult]]:\n\u001b[32m    675\u001b[39m \u001b[38;5;250m    \u001b[39m\u001b[33;03m\"\"\"\u001b[39;00m\n\u001b[32m    676\u001b[39m \u001b[33;03m    main method is used for executing metric\u001b[39;00m\n\u001b[32m    677\u001b[39m \u001b[33;03m    Args:\u001b[39;00m\n\u001b[32m   (...)\u001b[39m\u001b[32m    680\u001b[39m \n\u001b[32m    681\u001b[39m \u001b[33;03m    \"\"\"\u001b[39;00m\n\u001b[32m--> \u001b[39m\u001b[32m682\u001b[39m     result = \u001b[38;5;28;43mself\u001b[39;49m\u001b[43m.\u001b[49m\u001b[43mcalculate\u001b[49m\u001b[43m(\u001b[49m\u001b[43mcontext\u001b[49m\u001b[43m,\u001b[49m\u001b[43m \u001b[49m\u001b[43m*\u001b[49m\u001b[43mcontext\u001b[49m\u001b[43m.\u001b[49m\u001b[43m_input_data\u001b[49m\u001b[43m)\u001b[49m\n\u001b[32m    683\u001b[39m     \u001b[38;5;28;01mif\u001b[39;00m \u001b[38;5;28misinstance\u001b[39m(result, \u001b[38;5;28mtuple\u001b[39m):\n\u001b[32m    684\u001b[39m         curr_result, ref_result = result\n",
      "\u001b[36mFile \u001b[39m\u001b[32m/usr/local/lib/python3.12/dist-packages/evidently/metrics/_legacy.py:42\u001b[39m, in \u001b[36mLegacyMetricCalculation.calculate\u001b[39m\u001b[34m(self, context, current_data, reference_data)\u001b[39m\n\u001b[32m     41\u001b[39m \u001b[38;5;28;01mdef\u001b[39;00m\u001b[38;5;250m \u001b[39m\u001b[34mcalculate\u001b[39m(\u001b[38;5;28mself\u001b[39m, context: \u001b[33m\"\u001b[39m\u001b[33mContext\u001b[39m\u001b[33m\"\u001b[39m, current_data: Dataset, reference_data: Optional[Dataset]) -> TMetricResult:\n\u001b[32m---> \u001b[39m\u001b[32m42\u001b[39m     result, render = \u001b[43mcontext\u001b[49m\u001b[43m.\u001b[49m\u001b[43mget_legacy_metric\u001b[49m\u001b[43m(\u001b[49m\u001b[38;5;28;43mself\u001b[39;49m\u001b[43m.\u001b[49m\u001b[43mlegacy_metric\u001b[49m\u001b[43m(\u001b[49m\u001b[43m)\u001b[49m\u001b[43m,\u001b[49m\u001b[43m \u001b[49m\u001b[38;5;28;43mself\u001b[39;49m\u001b[43m.\u001b[49m\u001b[43m_gen_input_data\u001b[49m\u001b[43m,\u001b[49m\u001b[43m \u001b[49m\u001b[38;5;28;43mself\u001b[39;49m\u001b[43m.\u001b[49m\u001b[43mtask_name\u001b[49m\u001b[43m(\u001b[49m\u001b[43m)\u001b[49m\u001b[43m)\u001b[49m\n\u001b[32m     43\u001b[39m     metric_result = \u001b[38;5;28mself\u001b[39m.calculate_value(context, result, render)\n\u001b[32m     44\u001b[39m     \u001b[38;5;28;01mif\u001b[39;00m \u001b[38;5;28misinstance\u001b[39m(metric_result, \u001b[38;5;28mtuple\u001b[39m):\n",
      "\u001b[36mFile \u001b[39m\u001b[32m/usr/local/lib/python3.12/dist-packages/evidently/core/report.py:159\u001b[39m, in \u001b[36mContext.get_legacy_metric\u001b[39m\u001b[34m(self, metric, input_data_generator, task_name)\u001b[39m\n\u001b[32m    157\u001b[39m \u001b[38;5;28;01mif\u001b[39;00m input_data_generator \u001b[38;5;129;01mis\u001b[39;00m \u001b[38;5;28;01mNone\u001b[39;00m:\n\u001b[32m    158\u001b[39m     input_data_generator = _default_input_data_generator\n\u001b[32m--> \u001b[39m\u001b[32m159\u001b[39m input_data = \u001b[43minput_data_generator\u001b[49m\u001b[43m(\u001b[49m\u001b[38;5;28;43mself\u001b[39;49m\u001b[43m,\u001b[49m\u001b[43m \u001b[49m\u001b[43mtask_name\u001b[49m\u001b[43m)\u001b[49m\n\u001b[32m    160\u001b[39m dependencies = _discover_dependencies(metric)\n\u001b[32m    161\u001b[39m \u001b[38;5;28;01mfor\u001b[39;00m _, obj \u001b[38;5;129;01min\u001b[39;00m dependencies:\n",
      "\u001b[36mFile \u001b[39m\u001b[32m/usr/local/lib/python3.12/dist-packages/evidently/metrics/_legacy.py:69\u001b[39m, in \u001b[36mLegacyMetricCalculation._gen_input_data\u001b[39m\u001b[34m(self, context, task_name)\u001b[39m\n\u001b[32m     68\u001b[39m \u001b[38;5;28;01mdef\u001b[39;00m\u001b[38;5;250m \u001b[39m\u001b[34m_gen_input_data\u001b[39m(\u001b[38;5;28mself\u001b[39m, context: \u001b[33m\"\u001b[39m\u001b[33mContext\u001b[39m\u001b[33m\"\u001b[39m, task_name: Optional[\u001b[38;5;28mstr\u001b[39m]) -> InputData:\n\u001b[32m---> \u001b[39m\u001b[32m69\u001b[39m     default_input_data = \u001b[43m_default_input_data_generator\u001b[49m\u001b[43m(\u001b[49m\u001b[43mcontext\u001b[49m\u001b[43m,\u001b[49m\u001b[43m \u001b[49m\u001b[43mtask_name\u001b[49m\u001b[43m)\u001b[49m\n\u001b[32m     70\u001b[39m     \u001b[38;5;28;01mreturn\u001b[39;00m default_input_data\n",
      "\u001b[36mFile \u001b[39m\u001b[32m/usr/local/lib/python3.12/dist-packages/evidently/core/report.py:254\u001b[39m, in \u001b[36m_default_input_data_generator\u001b[39m\u001b[34m(context, task_name)\u001b[39m\n\u001b[32m    240\u001b[39m     target = ranking.target\n\u001b[32m    241\u001b[39m mapping = ColumnMapping(\n\u001b[32m    242\u001b[39m     \u001b[38;5;28mid\u001b[39m=context.data_definition.id_column,\n\u001b[32m    243\u001b[39m     datetime=context.data_definition.timestamp,\n\u001b[32m   (...)\u001b[39m\u001b[32m    252\u001b[39m     datetime_features=[x \u001b[38;5;28;01mfor\u001b[39;00m x \u001b[38;5;129;01min\u001b[39;00m context.data_definition.get_columns([ColumnType.Datetime])],\n\u001b[32m    253\u001b[39m )\n\u001b[32m--> \u001b[39m\u001b[32m254\u001b[39m definition = \u001b[43mcreate_data_definition\u001b[49m\u001b[43m(\u001b[49m\n\u001b[32m    255\u001b[39m \u001b[43m    \u001b[49m\u001b[43mreference\u001b[49m\u001b[43m,\u001b[49m\n\u001b[32m    256\u001b[39m \u001b[43m    \u001b[49m\u001b[43mcurrent\u001b[49m\u001b[43m,\u001b[49m\n\u001b[32m    257\u001b[39m \u001b[43m    \u001b[49m\u001b[43mmapping\u001b[49m\u001b[43m,\u001b[49m\n\u001b[32m    258\u001b[39m \u001b[43m\u001b[49m\u001b[43m)\u001b[49m\n\u001b[32m    259\u001b[39m input_data = InputData(\n\u001b[32m    260\u001b[39m     reference,\n\u001b[32m    261\u001b[39m     current,\n\u001b[32m   (...)\u001b[39m\u001b[32m    266\u001b[39m     \u001b[38;5;28;01mNone\u001b[39;00m,\n\u001b[32m    267\u001b[39m )\n\u001b[32m    268\u001b[39m \u001b[38;5;28;01mreturn\u001b[39;00m input_data\n",
      "\u001b[36mFile \u001b[39m\u001b[32m/usr/local/lib/python3.12/dist-packages/evidently/legacy/utils/data_preprocessing.py:396\u001b[39m, in \u001b[36mcreate_data_definition\u001b[39m\u001b[34m(reference_data, current_data, mapping, categorical_features_cardinality_limit)\u001b[39m\n\u001b[32m    393\u001b[39m     all_columns.extend(cat)\n\u001b[32m    394\u001b[39m \u001b[38;5;28;01melse\u001b[39;00m:\n\u001b[32m    395\u001b[39m     categorical_features = [\n\u001b[32m--> \u001b[39m\u001b[32m396\u001b[39m         \u001b[43m_process_column\u001b[49m\u001b[43m(\u001b[49m\n\u001b[32m    397\u001b[39m \u001b[43m            \u001b[49m\u001b[43mcolumn_name\u001b[49m\u001b[43m,\u001b[49m\n\u001b[32m    398\u001b[39m \u001b[43m            \u001b[49m\u001b[43mdata\u001b[49m\u001b[43m,\u001b[49m\n\u001b[32m    399\u001b[39m \u001b[43m            \u001b[49m\u001b[43mpredefined_type\u001b[49m\u001b[43m=\u001b[49m\u001b[43mColumnType\u001b[49m\u001b[43m.\u001b[49m\u001b[43mCategorical\u001b[49m\u001b[43m,\u001b[49m\n\u001b[32m    400\u001b[39m \u001b[43m            \u001b[49m\u001b[43mmapping\u001b[49m\u001b[43m=\u001b[49m\u001b[43mmapping\u001b[49m\u001b[43m,\u001b[49m\n\u001b[32m    401\u001b[39m \u001b[43m            \u001b[49m\u001b[43mcardinality_limit\u001b[49m\u001b[43m=\u001b[49m\u001b[43mcategorical_features_cardinality_limit\u001b[49m\u001b[43m,\u001b[49m\n\u001b[32m    402\u001b[39m \u001b[43m        \u001b[49m\u001b[43m)\u001b[49m\n\u001b[32m    403\u001b[39m         \u001b[38;5;28;01mfor\u001b[39;00m column_name \u001b[38;5;129;01min\u001b[39;00m mapping.categorical_features\n\u001b[32m    404\u001b[39m         \u001b[38;5;28;01mif\u001b[39;00m column_name \u001b[38;5;129;01mnot\u001b[39;00m \u001b[38;5;129;01min\u001b[39;00m utility_column_names\n\u001b[32m    405\u001b[39m         \u001b[38;5;129;01mand\u001b[39;00m _column_not_present_in_list(\n\u001b[32m    406\u001b[39m             column_name,\n\u001b[32m    407\u001b[39m             embedding_columns,\n\u001b[32m    408\u001b[39m             \u001b[33m\"\u001b[39m\u001b[33mwarning\u001b[39m\u001b[33m\"\u001b[39m,\n\u001b[32m    409\u001b[39m             \u001b[33m\"\u001b[39m\u001b[33mColumn \u001b[39m\u001b[38;5;132;01m{column}\u001b[39;00m\u001b[33m is in embedding list and in categorical features list.\u001b[39m\u001b[33m\"\u001b[39m\n\u001b[32m    410\u001b[39m             \u001b[33m\"\u001b[39m\u001b[33m Ignoring it in a features list.\u001b[39m\u001b[33m\"\u001b[39m,\n\u001b[32m    411\u001b[39m         )\n\u001b[32m    412\u001b[39m     ]\n\u001b[32m    413\u001b[39m     all_columns.extend(categorical_features)\n\u001b[32m    415\u001b[39m \u001b[38;5;28;01mif\u001b[39;00m mapping.datetime_features \u001b[38;5;129;01mis\u001b[39;00m \u001b[38;5;28;01mNone\u001b[39;00m:\n",
      "\u001b[36mFile \u001b[39m\u001b[32m/usr/local/lib/python3.12/dist-packages/evidently/legacy/utils/data_preprocessing.py:167\u001b[39m, in \u001b[36m_process_column\u001b[39m\u001b[34m(column_name, data, if_partially_present, predefined_type, mapping, cardinality_limit)\u001b[39m\n\u001b[32m    165\u001b[39m \u001b[38;5;28;01mif\u001b[39;00m presence == ColumnPresenceState.Partially:\n\u001b[32m    166\u001b[39m     \u001b[38;5;28;01mif\u001b[39;00m if_partially_present == \u001b[33m\"\u001b[39m\u001b[33mraise\u001b[39m\u001b[33m\"\u001b[39m:\n\u001b[32m--> \u001b[39m\u001b[32m167\u001b[39m         \u001b[38;5;28;01mraise\u001b[39;00m \u001b[38;5;167;01mValueError\u001b[39;00m(\u001b[33mf\u001b[39m\u001b[33m\"\u001b[39m\u001b[33mColumn (\u001b[39m\u001b[38;5;132;01m{\u001b[39;00mcolumn_name\u001b[38;5;132;01m}\u001b[39;00m\u001b[33m) is partially present in data\u001b[39m\u001b[33m\"\u001b[39m)\n\u001b[32m    168\u001b[39m     \u001b[38;5;28;01mif\u001b[39;00m if_partially_present == \u001b[33m\"\u001b[39m\u001b[33mskip\u001b[39m\u001b[33m\"\u001b[39m:\n\u001b[32m    169\u001b[39m         \u001b[38;5;28;01mreturn\u001b[39;00m \u001b[38;5;28;01mNone\u001b[39;00m\n",
      "\u001b[31mValueError\u001b[39m: Column (batch_id) is partially present in data"
     ]
    }
   ],
   "source": [
    "\n",
    "OUTPUT_DIR = Path('evidently_reports_v07')\n",
    "OUTPUT_DIR.mkdir(exist_ok=True)\n",
    "\n",
    "batch1 = Dataset.from_pandas(batches[0], data_definition=data_def)\n",
    "\n",
    "# Data Drift (needs current and reference)\n",
    "rep_drift = Report([DataDriftPreset()])\n",
    "drift_eval = rep_drift.run(batch1, ref_eval)\n",
    "drift_html = OUTPUT_DIR / 'data_drift_batch1_vs_ref.html'\n",
    "rep_drift.save_html(str(drift_html))\n",
    "print(\"Saved:\", drift_html.resolve())\n",
    "\n",
    "# Classification Quality (can be single dataset or compared to ref)\n",
    "rep_cls = Report([ClassificationPreset()])\n",
    "cls_eval = rep_cls.run(batch1, ref_eval)\n",
    "cls_html = OUTPUT_DIR / 'classification_batch1_vs_ref.html'\n",
    "rep_cls.save_html(str(cls_html))\n",
    "print(\"Saved:\", cls_html.resolve())\n"
   ]
  },
  {
   "cell_type": "markdown",
   "id": "c486b080",
   "metadata": {},
   "source": [
    "## 8) Batch monitoring loop with **metrics** and alerts"
   ]
  },
  {
   "cell_type": "code",
   "execution_count": 13,
   "id": "f953eb3d",
   "metadata": {},
   "outputs": [
    {
     "name": "stdout",
     "output_type": "stream",
     "text": [
      "Reference Accuracy=0.989, AUC=0.997\n"
     ]
    },
    {
     "ename": "ValueError",
     "evalue": "Column (batch_id) is partially present in data",
     "output_type": "error",
     "traceback": [
      "\u001b[31m---------------------------------------------------------------------------\u001b[39m",
      "\u001b[31mValueError\u001b[39m                                Traceback (most recent call last)",
      "\u001b[36mCell\u001b[39m\u001b[36m \u001b[39m\u001b[32mIn[13]\u001b[39m\u001b[32m, line 14\u001b[39m\n\u001b[32m     12\u001b[39m \u001b[38;5;66;03m# Compute share of drifted columns\u001b[39;00m\n\u001b[32m     13\u001b[39m rep_share = Report([DriftedColumnsCount()])\n\u001b[32m---> \u001b[39m\u001b[32m14\u001b[39m share_eval = \u001b[43mrep_share\u001b[49m\u001b[43m.\u001b[49m\u001b[43mrun\u001b[49m\u001b[43m(\u001b[49m\u001b[43mbatch_eval\u001b[49m\u001b[43m,\u001b[49m\u001b[43m \u001b[49m\u001b[43mref_eval\u001b[49m\u001b[43m)\u001b[49m\n\u001b[32m     15\u001b[39m share_json = share_eval.json()\n\u001b[32m     16\u001b[39m \u001b[38;5;66;03m# simple extraction: the result object stores metrics in order; DriftedColumnsCount returns 'share'\u001b[39;00m\n",
      "\u001b[36mFile \u001b[39m\u001b[32m/usr/local/lib/python3.12/dist-packages/evidently/core/report.py:542\u001b[39m, in \u001b[36mReport.run\u001b[39m\u001b[34m(self, current_data, reference_data, timestamp, metadata, tags, name)\u001b[39m\n\u001b[32m    540\u001b[39m     _tags.extend(tags)\n\u001b[32m    541\u001b[39m snapshot = Snapshot(\u001b[38;5;28mself\u001b[39m, name, _timestamp, _metadata, _tags)\n\u001b[32m--> \u001b[39m\u001b[32m542\u001b[39m \u001b[43msnapshot\u001b[49m\u001b[43m.\u001b[49m\u001b[43mrun\u001b[49m\u001b[43m(\u001b[49m\u001b[43mcurrent_dataset\u001b[49m\u001b[43m,\u001b[49m\u001b[43m \u001b[49m\u001b[43mreference_dataset\u001b[49m\u001b[43m)\u001b[49m\n\u001b[32m    543\u001b[39m \u001b[38;5;28;01mreturn\u001b[39;00m snapshot\n",
      "\u001b[36mFile \u001b[39m\u001b[32m/usr/local/lib/python3.12/dist-packages/evidently/core/report.py:355\u001b[39m, in \u001b[36mSnapshot.run\u001b[39m\u001b[34m(self, current_data, reference_data)\u001b[39m\n\u001b[32m    353\u001b[39m \u001b[38;5;28mself\u001b[39m.context.init_dataset(current_data, reference_data)\n\u001b[32m    354\u001b[39m \u001b[38;5;28mself\u001b[39m._metrics = {}\n\u001b[32m--> \u001b[39m\u001b[32m355\u001b[39m \u001b[38;5;28mself\u001b[39m._snapshot_item, \u001b[38;5;28mself\u001b[39m._widgets = \u001b[38;5;28;43mself\u001b[39;49m\u001b[43m.\u001b[49m\u001b[43m_run_items\u001b[49m\u001b[43m(\u001b[49m\u001b[38;5;28;43mself\u001b[39;49m\u001b[43m.\u001b[49m\u001b[43mreport\u001b[49m\u001b[43m.\u001b[49m\u001b[43mitems\u001b[49m\u001b[43m(\u001b[49m\u001b[43m)\u001b[49m\u001b[43m,\u001b[49m\u001b[43m \u001b[49m\u001b[38;5;28;43mself\u001b[39;49m\u001b[43m.\u001b[49m\u001b[43m_metrics\u001b[49m\u001b[43m)\u001b[49m\n\u001b[32m    356\u001b[39m \u001b[38;5;28mself\u001b[39m._top_level_metrics = \u001b[38;5;28mlist\u001b[39m(\u001b[38;5;28mself\u001b[39m.context._metrics_graph.keys())\n\u001b[32m    357\u001b[39m metrics_results = [\u001b[38;5;28mself\u001b[39m._metrics.get(result) \u001b[38;5;28;01mfor\u001b[39;00m result \u001b[38;5;129;01min\u001b[39;00m \u001b[38;5;28mself\u001b[39m._top_level_metrics]\n",
      "\u001b[36mFile \u001b[39m\u001b[32m/usr/local/lib/python3.12/dist-packages/evidently/core/report.py:346\u001b[39m, in \u001b[36mSnapshot._run_items\u001b[39m\u001b[34m(self, items, metric_results)\u001b[39m\n\u001b[32m    344\u001b[39m \u001b[38;5;28;01melse\u001b[39;00m:\n\u001b[32m    345\u001b[39m     calc = item.to_calculation()\n\u001b[32m--> \u001b[39m\u001b[32m346\u001b[39m     metric_results[calc.id] = \u001b[38;5;28;43mself\u001b[39;49m\u001b[43m.\u001b[49m\u001b[43mcontext\u001b[49m\u001b[43m.\u001b[49m\u001b[43mcalculate_metric\u001b[49m\u001b[43m(\u001b[49m\u001b[43mcalc\u001b[49m\u001b[43m)\u001b[49m\n\u001b[32m    347\u001b[39m     widget = metric_results[calc.id].get_widgets()\n\u001b[32m    348\u001b[39m     widgets.extend(widget)\n",
      "\u001b[36mFile \u001b[39m\u001b[32m/usr/local/lib/python3.12/dist-packages/evidently/core/report.py:119\u001b[39m, in \u001b[36mContext.calculate_metric\u001b[39m\u001b[34m(self, calc)\u001b[39m\n\u001b[32m    117\u001b[39m \u001b[38;5;28mself\u001b[39m._current_graph_level = prev_level[calc.id]\n\u001b[32m    118\u001b[39m \u001b[38;5;28;01mif\u001b[39;00m calc.id \u001b[38;5;129;01mnot\u001b[39;00m \u001b[38;5;129;01min\u001b[39;00m \u001b[38;5;28mself\u001b[39m._metrics:\n\u001b[32m--> \u001b[39m\u001b[32m119\u001b[39m     current_result, reference_result = \u001b[43mcalc\u001b[49m\u001b[43m.\u001b[49m\u001b[43mcall\u001b[49m\u001b[43m(\u001b[49m\u001b[38;5;28;43mself\u001b[39;49m\u001b[43m)\u001b[49m\n\u001b[32m    120\u001b[39m     link_metric(current_result.widget, calc.to_metric())\n\u001b[32m    121\u001b[39m     metric_config = calc.to_metric_config()\n",
      "\u001b[36mFile \u001b[39m\u001b[32m/usr/local/lib/python3.12/dist-packages/evidently/core/metric_types.py:682\u001b[39m, in \u001b[36mMetricCalculationBase.call\u001b[39m\u001b[34m(self, context)\u001b[39m\n\u001b[32m    674\u001b[39m \u001b[38;5;28;01mdef\u001b[39;00m\u001b[38;5;250m \u001b[39m\u001b[34mcall\u001b[39m(\u001b[38;5;28mself\u001b[39m, context: \u001b[33m\"\u001b[39m\u001b[33mContext\u001b[39m\u001b[33m\"\u001b[39m) -> Tuple[TResult, Optional[TResult]]:\n\u001b[32m    675\u001b[39m \u001b[38;5;250m    \u001b[39m\u001b[33;03m\"\"\"\u001b[39;00m\n\u001b[32m    676\u001b[39m \u001b[33;03m    main method is used for executing metric\u001b[39;00m\n\u001b[32m    677\u001b[39m \u001b[33;03m    Args:\u001b[39;00m\n\u001b[32m   (...)\u001b[39m\u001b[32m    680\u001b[39m \n\u001b[32m    681\u001b[39m \u001b[33;03m    \"\"\"\u001b[39;00m\n\u001b[32m--> \u001b[39m\u001b[32m682\u001b[39m     result = \u001b[38;5;28;43mself\u001b[39;49m\u001b[43m.\u001b[49m\u001b[43mcalculate\u001b[49m\u001b[43m(\u001b[49m\u001b[43mcontext\u001b[49m\u001b[43m,\u001b[49m\u001b[43m \u001b[49m\u001b[43m*\u001b[49m\u001b[43mcontext\u001b[49m\u001b[43m.\u001b[49m\u001b[43m_input_data\u001b[49m\u001b[43m)\u001b[49m\n\u001b[32m    683\u001b[39m     \u001b[38;5;28;01mif\u001b[39;00m \u001b[38;5;28misinstance\u001b[39m(result, \u001b[38;5;28mtuple\u001b[39m):\n\u001b[32m    684\u001b[39m         curr_result, ref_result = result\n",
      "\u001b[36mFile \u001b[39m\u001b[32m/usr/local/lib/python3.12/dist-packages/evidently/metrics/_legacy.py:42\u001b[39m, in \u001b[36mLegacyMetricCalculation.calculate\u001b[39m\u001b[34m(self, context, current_data, reference_data)\u001b[39m\n\u001b[32m     41\u001b[39m \u001b[38;5;28;01mdef\u001b[39;00m\u001b[38;5;250m \u001b[39m\u001b[34mcalculate\u001b[39m(\u001b[38;5;28mself\u001b[39m, context: \u001b[33m\"\u001b[39m\u001b[33mContext\u001b[39m\u001b[33m\"\u001b[39m, current_data: Dataset, reference_data: Optional[Dataset]) -> TMetricResult:\n\u001b[32m---> \u001b[39m\u001b[32m42\u001b[39m     result, render = \u001b[43mcontext\u001b[49m\u001b[43m.\u001b[49m\u001b[43mget_legacy_metric\u001b[49m\u001b[43m(\u001b[49m\u001b[38;5;28;43mself\u001b[39;49m\u001b[43m.\u001b[49m\u001b[43mlegacy_metric\u001b[49m\u001b[43m(\u001b[49m\u001b[43m)\u001b[49m\u001b[43m,\u001b[49m\u001b[43m \u001b[49m\u001b[38;5;28;43mself\u001b[39;49m\u001b[43m.\u001b[49m\u001b[43m_gen_input_data\u001b[49m\u001b[43m,\u001b[49m\u001b[43m \u001b[49m\u001b[38;5;28;43mself\u001b[39;49m\u001b[43m.\u001b[49m\u001b[43mtask_name\u001b[49m\u001b[43m(\u001b[49m\u001b[43m)\u001b[49m\u001b[43m)\u001b[49m\n\u001b[32m     43\u001b[39m     metric_result = \u001b[38;5;28mself\u001b[39m.calculate_value(context, result, render)\n\u001b[32m     44\u001b[39m     \u001b[38;5;28;01mif\u001b[39;00m \u001b[38;5;28misinstance\u001b[39m(metric_result, \u001b[38;5;28mtuple\u001b[39m):\n",
      "\u001b[36mFile \u001b[39m\u001b[32m/usr/local/lib/python3.12/dist-packages/evidently/core/report.py:159\u001b[39m, in \u001b[36mContext.get_legacy_metric\u001b[39m\u001b[34m(self, metric, input_data_generator, task_name)\u001b[39m\n\u001b[32m    157\u001b[39m \u001b[38;5;28;01mif\u001b[39;00m input_data_generator \u001b[38;5;129;01mis\u001b[39;00m \u001b[38;5;28;01mNone\u001b[39;00m:\n\u001b[32m    158\u001b[39m     input_data_generator = _default_input_data_generator\n\u001b[32m--> \u001b[39m\u001b[32m159\u001b[39m input_data = \u001b[43minput_data_generator\u001b[49m\u001b[43m(\u001b[49m\u001b[38;5;28;43mself\u001b[39;49m\u001b[43m,\u001b[49m\u001b[43m \u001b[49m\u001b[43mtask_name\u001b[49m\u001b[43m)\u001b[49m\n\u001b[32m    160\u001b[39m dependencies = _discover_dependencies(metric)\n\u001b[32m    161\u001b[39m \u001b[38;5;28;01mfor\u001b[39;00m _, obj \u001b[38;5;129;01min\u001b[39;00m dependencies:\n",
      "\u001b[36mFile \u001b[39m\u001b[32m/usr/local/lib/python3.12/dist-packages/evidently/metrics/_legacy.py:69\u001b[39m, in \u001b[36mLegacyMetricCalculation._gen_input_data\u001b[39m\u001b[34m(self, context, task_name)\u001b[39m\n\u001b[32m     68\u001b[39m \u001b[38;5;28;01mdef\u001b[39;00m\u001b[38;5;250m \u001b[39m\u001b[34m_gen_input_data\u001b[39m(\u001b[38;5;28mself\u001b[39m, context: \u001b[33m\"\u001b[39m\u001b[33mContext\u001b[39m\u001b[33m\"\u001b[39m, task_name: Optional[\u001b[38;5;28mstr\u001b[39m]) -> InputData:\n\u001b[32m---> \u001b[39m\u001b[32m69\u001b[39m     default_input_data = \u001b[43m_default_input_data_generator\u001b[49m\u001b[43m(\u001b[49m\u001b[43mcontext\u001b[49m\u001b[43m,\u001b[49m\u001b[43m \u001b[49m\u001b[43mtask_name\u001b[49m\u001b[43m)\u001b[49m\n\u001b[32m     70\u001b[39m     \u001b[38;5;28;01mreturn\u001b[39;00m default_input_data\n",
      "\u001b[36mFile \u001b[39m\u001b[32m/usr/local/lib/python3.12/dist-packages/evidently/core/report.py:254\u001b[39m, in \u001b[36m_default_input_data_generator\u001b[39m\u001b[34m(context, task_name)\u001b[39m\n\u001b[32m    240\u001b[39m     target = ranking.target\n\u001b[32m    241\u001b[39m mapping = ColumnMapping(\n\u001b[32m    242\u001b[39m     \u001b[38;5;28mid\u001b[39m=context.data_definition.id_column,\n\u001b[32m    243\u001b[39m     datetime=context.data_definition.timestamp,\n\u001b[32m   (...)\u001b[39m\u001b[32m    252\u001b[39m     datetime_features=[x \u001b[38;5;28;01mfor\u001b[39;00m x \u001b[38;5;129;01min\u001b[39;00m context.data_definition.get_columns([ColumnType.Datetime])],\n\u001b[32m    253\u001b[39m )\n\u001b[32m--> \u001b[39m\u001b[32m254\u001b[39m definition = \u001b[43mcreate_data_definition\u001b[49m\u001b[43m(\u001b[49m\n\u001b[32m    255\u001b[39m \u001b[43m    \u001b[49m\u001b[43mreference\u001b[49m\u001b[43m,\u001b[49m\n\u001b[32m    256\u001b[39m \u001b[43m    \u001b[49m\u001b[43mcurrent\u001b[49m\u001b[43m,\u001b[49m\n\u001b[32m    257\u001b[39m \u001b[43m    \u001b[49m\u001b[43mmapping\u001b[49m\u001b[43m,\u001b[49m\n\u001b[32m    258\u001b[39m \u001b[43m\u001b[49m\u001b[43m)\u001b[49m\n\u001b[32m    259\u001b[39m input_data = InputData(\n\u001b[32m    260\u001b[39m     reference,\n\u001b[32m    261\u001b[39m     current,\n\u001b[32m   (...)\u001b[39m\u001b[32m    266\u001b[39m     \u001b[38;5;28;01mNone\u001b[39;00m,\n\u001b[32m    267\u001b[39m )\n\u001b[32m    268\u001b[39m \u001b[38;5;28;01mreturn\u001b[39;00m input_data\n",
      "\u001b[36mFile \u001b[39m\u001b[32m/usr/local/lib/python3.12/dist-packages/evidently/legacy/utils/data_preprocessing.py:396\u001b[39m, in \u001b[36mcreate_data_definition\u001b[39m\u001b[34m(reference_data, current_data, mapping, categorical_features_cardinality_limit)\u001b[39m\n\u001b[32m    393\u001b[39m     all_columns.extend(cat)\n\u001b[32m    394\u001b[39m \u001b[38;5;28;01melse\u001b[39;00m:\n\u001b[32m    395\u001b[39m     categorical_features = [\n\u001b[32m--> \u001b[39m\u001b[32m396\u001b[39m         \u001b[43m_process_column\u001b[49m\u001b[43m(\u001b[49m\n\u001b[32m    397\u001b[39m \u001b[43m            \u001b[49m\u001b[43mcolumn_name\u001b[49m\u001b[43m,\u001b[49m\n\u001b[32m    398\u001b[39m \u001b[43m            \u001b[49m\u001b[43mdata\u001b[49m\u001b[43m,\u001b[49m\n\u001b[32m    399\u001b[39m \u001b[43m            \u001b[49m\u001b[43mpredefined_type\u001b[49m\u001b[43m=\u001b[49m\u001b[43mColumnType\u001b[49m\u001b[43m.\u001b[49m\u001b[43mCategorical\u001b[49m\u001b[43m,\u001b[49m\n\u001b[32m    400\u001b[39m \u001b[43m            \u001b[49m\u001b[43mmapping\u001b[49m\u001b[43m=\u001b[49m\u001b[43mmapping\u001b[49m\u001b[43m,\u001b[49m\n\u001b[32m    401\u001b[39m \u001b[43m            \u001b[49m\u001b[43mcardinality_limit\u001b[49m\u001b[43m=\u001b[49m\u001b[43mcategorical_features_cardinality_limit\u001b[49m\u001b[43m,\u001b[49m\n\u001b[32m    402\u001b[39m \u001b[43m        \u001b[49m\u001b[43m)\u001b[49m\n\u001b[32m    403\u001b[39m         \u001b[38;5;28;01mfor\u001b[39;00m column_name \u001b[38;5;129;01min\u001b[39;00m mapping.categorical_features\n\u001b[32m    404\u001b[39m         \u001b[38;5;28;01mif\u001b[39;00m column_name \u001b[38;5;129;01mnot\u001b[39;00m \u001b[38;5;129;01min\u001b[39;00m utility_column_names\n\u001b[32m    405\u001b[39m         \u001b[38;5;129;01mand\u001b[39;00m _column_not_present_in_list(\n\u001b[32m    406\u001b[39m             column_name,\n\u001b[32m    407\u001b[39m             embedding_columns,\n\u001b[32m    408\u001b[39m             \u001b[33m\"\u001b[39m\u001b[33mwarning\u001b[39m\u001b[33m\"\u001b[39m,\n\u001b[32m    409\u001b[39m             \u001b[33m\"\u001b[39m\u001b[33mColumn \u001b[39m\u001b[38;5;132;01m{column}\u001b[39;00m\u001b[33m is in embedding list and in categorical features list.\u001b[39m\u001b[33m\"\u001b[39m\n\u001b[32m    410\u001b[39m             \u001b[33m\"\u001b[39m\u001b[33m Ignoring it in a features list.\u001b[39m\u001b[33m\"\u001b[39m,\n\u001b[32m    411\u001b[39m         )\n\u001b[32m    412\u001b[39m     ]\n\u001b[32m    413\u001b[39m     all_columns.extend(categorical_features)\n\u001b[32m    415\u001b[39m \u001b[38;5;28;01mif\u001b[39;00m mapping.datetime_features \u001b[38;5;129;01mis\u001b[39;00m \u001b[38;5;28;01mNone\u001b[39;00m:\n",
      "\u001b[36mFile \u001b[39m\u001b[32m/usr/local/lib/python3.12/dist-packages/evidently/legacy/utils/data_preprocessing.py:167\u001b[39m, in \u001b[36m_process_column\u001b[39m\u001b[34m(column_name, data, if_partially_present, predefined_type, mapping, cardinality_limit)\u001b[39m\n\u001b[32m    165\u001b[39m \u001b[38;5;28;01mif\u001b[39;00m presence == ColumnPresenceState.Partially:\n\u001b[32m    166\u001b[39m     \u001b[38;5;28;01mif\u001b[39;00m if_partially_present == \u001b[33m\"\u001b[39m\u001b[33mraise\u001b[39m\u001b[33m\"\u001b[39m:\n\u001b[32m--> \u001b[39m\u001b[32m167\u001b[39m         \u001b[38;5;28;01mraise\u001b[39;00m \u001b[38;5;167;01mValueError\u001b[39;00m(\u001b[33mf\u001b[39m\u001b[33m\"\u001b[39m\u001b[33mColumn (\u001b[39m\u001b[38;5;132;01m{\u001b[39;00mcolumn_name\u001b[38;5;132;01m}\u001b[39;00m\u001b[33m) is partially present in data\u001b[39m\u001b[33m\"\u001b[39m)\n\u001b[32m    168\u001b[39m     \u001b[38;5;28;01mif\u001b[39;00m if_partially_present == \u001b[33m\"\u001b[39m\u001b[33mskip\u001b[39m\u001b[33m\"\u001b[39m:\n\u001b[32m    169\u001b[39m         \u001b[38;5;28;01mreturn\u001b[39;00m \u001b[38;5;28;01mNone\u001b[39;00m\n",
      "\u001b[31mValueError\u001b[39m: Column (batch_id) is partially present in data"
     ]
    }
   ],
   "source": [
    "\n",
    "records = []\n",
    "DRIFT_ALERT_THRESHOLD = 0.3\n",
    "ACCURACY_ALERT_DROP = 0.08\n",
    "\n",
    "ref_acc = accuracy_score(y_ref, ref_df['prediction'])\n",
    "ref_auc = roc_auc_score(y_ref, ref_df['pred_proba'])\n",
    "print(f\"Reference Accuracy={ref_acc:.3f}, AUC={ref_auc:.3f}\")\n",
    "\n",
    "for batch_df in batches:\n",
    "    batch_eval = Dataset.from_pandas(batch_df, data_definition=data_def)\n",
    "\n",
    "    # Compute share of drifted columns\n",
    "    rep_share = Report([DriftedColumnsCount()])\n",
    "    share_eval = rep_share.run(batch_eval, ref_eval)\n",
    "    share_json = share_eval.json()\n",
    "    # simple extraction: the result object stores metrics in order; DriftedColumnsCount returns 'share'\n",
    "    share_drifted = None\n",
    "    try:\n",
    "        share_drifted = share_json['metrics'][0]['result']['share']\n",
    "    except Exception:\n",
    "        # fallback in case of schema change\n",
    "        share_drifted = np.nan\n",
    "\n",
    "    # Compute accuracy on this batch using Evidently metric for consistency\n",
    "    rep_acc = Report([Accuracy()])\n",
    "    acc_eval = rep_acc.run(batch_eval, None)\n",
    "    acc_json = acc_eval.json()\n",
    "    acc = None\n",
    "    try:\n",
    "        acc = acc_json['metrics'][0]['result']['value']\n",
    "    except Exception:\n",
    "        # fallback to sklearn\n",
    "        acc = accuracy_score(batch_df['label'], batch_df['prediction'])\n",
    "\n",
    "    # Simple alert logic\n",
    "    alert = False\n",
    "    reasons = []\n",
    "    if share_drifted is not None and not np.isnan(share_drifted) and share_drifted >= DRIFT_ALERT_THRESHOLD:\n",
    "        alert = True\n",
    "        reasons.append(f\"drifted_share={share_drifted:.2f} ≥ {DRIFT_ALERT_THRESHOLD}\")\n",
    "    if acc <= (ref_acc - ACCURACY_ALERT_DROP):\n",
    "        alert = True\n",
    "        reasons.append(f\"accuracy_drop={ref_acc-acc:.2f} ≥ {ACCURACY_ALERT_DROP}\")\n",
    "\n",
    "    # Save combined report for the batch\n",
    "    rep_batch = Report([DataDriftPreset(), ClassificationPreset()])\n",
    "    _ = rep_batch.run(batch_eval, ref_eval)\n",
    "    out_html = OUTPUT_DIR / f\"batch{int(batch_df['batch_id'].iloc[0])}_report.html\"\n",
    "    rep_batch.save_html(str(out_html))\n",
    "\n",
    "    records.append({\n",
    "        'batch_id': int(batch_df['batch_id'].iloc[0]),\n",
    "        'rows': len(batch_df),\n",
    "        'share_drifted_columns': share_drifted,\n",
    "        'accuracy': float(acc),\n",
    "        'alert': alert,\n",
    "        'reasons': \"; \".join(reasons)\n",
    "    })\n",
    "\n",
    "monitor_df = pd.DataFrame(records).sort_values('batch_id')\n",
    "monitor_df\n"
   ]
  },
  {
   "cell_type": "markdown",
   "id": "674d6ad5",
   "metadata": {},
   "source": [
    "## 9) Visualize drift share and accuracy"
   ]
  },
  {
   "cell_type": "code",
   "execution_count": null,
   "id": "5972ce58",
   "metadata": {},
   "outputs": [],
   "source": [
    "\n",
    "plt.figure(figsize=(7,4))\n",
    "plt.plot(monitor_df['batch_id'], monitor_df['share_drifted_columns'], marker='o')\n",
    "plt.axhline(0.3, linestyle='--')\n",
    "plt.title('Share of Drifted Columns over Batches')\n",
    "plt.xlabel('Batch ID'); plt.ylabel('Share drifted'); plt.grid(True)\n",
    "\n",
    "plt.figure(figsize=(7,4))\n",
    "plt.plot(monitor_df['batch_id'], monitor_df['accuracy'], marker='o')\n",
    "plt.axhline(monitor_df['accuracy'].iloc[0]-0.08, linestyle='--')\n",
    "plt.title('Accuracy over Batches')\n",
    "plt.xlabel('Batch ID'); plt.ylabel('Accuracy'); plt.grid(True)\n",
    "\n",
    "monitor_df\n"
   ]
  },
  {
   "cell_type": "markdown",
   "id": "0ea645ad",
   "metadata": {},
   "source": [
    "## 10) Exercises"
   ]
  },
  {
   "cell_type": "markdown",
   "id": "425e3590",
   "metadata": {},
   "source": [
    "\n",
    "1. Change drift method/thresholds, e.g.:\n",
    "   ```python\n",
    "   Report([DataDriftPreset(method=\"psi\", drift_share=0.7)])\n",
    "   ```\n",
    "2. Add `include_tests=True` to the `Report(...)` constructor to enable pass/fail checks in the same HTML.\n",
    "3. Adjust the decision threshold for classification (e.g., 0.4) and observe the impact on alerts.\n",
    "4. Replace the dataset with your own production logs and re-map with `DataDefinition`.\n",
    "5. Export `monitor_df` to CSV and connect to a dashboard.\n"
   ]
  }
 ],
 "metadata": {
  "kernelspec": {
   "display_name": "Python 3",
   "language": "python",
   "name": "python3"
  },
  "language_info": {
   "codemirror_mode": {
    "name": "ipython",
    "version": 3
   },
   "file_extension": ".py",
   "mimetype": "text/x-python",
   "name": "python",
   "nbconvert_exporter": "python",
   "pygments_lexer": "ipython3",
   "version": "3.12.3"
  }
 },
 "nbformat": 4,
 "nbformat_minor": 5
}
