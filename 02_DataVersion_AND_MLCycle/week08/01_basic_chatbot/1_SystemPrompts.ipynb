{
  "cells": [
    {
      "cell_type": "code",
      "execution_count": 13,
      "id": "c9a5b2b7",
      "metadata": {},
      "outputs": [
        {
          "name": "stdout",
          "output_type": "stream",
          "text": [
            "Notebook cleaned.\n"
          ]
        }
      ],
      "source": [
        "import IPython\n",
        "import sys\n",
        "\n",
        "def clean_notebook():\n",
        "    IPython.display.clear_output(wait=True)\n",
        "    print(\"Notebook cleaned.\")\n",
        "\n",
        "!pip install openai\n",
        "!pip install gradio\n",
        "!pip install python-dotenv\n",
        "\n",
        "# Clean up the notebook\n",
        "clean_notebook()"
      ]
    },
    {
      "cell_type": "code",
      "execution_count": 14,
      "id": "d6e856a3",
      "metadata": {},
      "outputs": [
        {
          "name": "stdout",
          "output_type": "stream",
          "text": [
            "Overwriting .env\n"
          ]
        }
      ],
      "source": [
        "%%writefile .env\n",
        "OPENAI_API_KEY=your_api_key_here\n",
        "OPENTYPHOON_API_KEY=api_key_here\n",
        "DEEPSEEK_API_KEY=api_key_here"
      ]
    },
    {
      "cell_type": "code",
      "execution_count": 15,
      "id": "1f437aa6",
      "metadata": {},
      "outputs": [
        {
          "data": {
            "text/plain": [
              "True"
            ]
          },
          "execution_count": 15,
          "metadata": {},
          "output_type": "execute_result"
        }
      ],
      "source": [
        "import os\n",
        "from openai import OpenAI\n",
        "from dotenv import load_dotenv\n",
        "\n",
        "# Load environment variables\n",
        "load_dotenv()"
      ]
    },
    {
      "cell_type": "code",
      "execution_count": 16,
      "id": "5306dbe3",
      "metadata": {},
      "outputs": [],
      "source": [
        "import os\n",
        "from openai import OpenAI\n",
        "\n",
        "openai_client = OpenAI(api_key=os.getenv(\"OPENAI_API_KEY\"))\n",
        "model_name = \"gpt-4o-mini\"    \n",
        "\n",
        "\n",
        "#openai_client = OpenAI(api_key=os.environ.get(\"OPENTYPHOON_API_KEY\"),base_url=\"https://api.opentyphoon.ai/v1\")\n",
        "# model_name = \"typhoon-v1.5-instruct\"\n",
        "\n",
        "\n",
        "# openai_client = OpenAI(api_key=os.environ.get(\"DEEPSEEK_API_KEY\"), base_url=\"https://api.deepseek.com\")\n",
        "# model_name = \"deepseek-chat\""
      ]
    },
    {
      "cell_type": "code",
      "execution_count": 17,
      "id": "3626c48a",
      "metadata": {},
      "outputs": [],
      "source": [
        "import openai\n",
        "\n",
        "\n",
        "# Let's start using FUNCTIONS to simplify our API usage\n",
        "def complete(user_prompt, system_prompt):\n",
        "    completion = openai_client.chat.completions.create(\n",
        "        model=model_name,\n",
        "        messages=[\n",
        "            {\"role\": \"system\", \"content\": system_prompt},\n",
        "            {\"role\": \"user\", \"content\": user_prompt},\n",
        "        ]\n",
        "    )\n",
        "    return completion"
      ]
    },
    {
      "cell_type": "code",
      "execution_count": 18,
      "id": "7e23070f",
      "metadata": {},
      "outputs": [],
      "source": [
        "system = \"คุณเป็นครู\" + \\\n",
        "\"คุณจะไม่เคยให้คำตอบกับนักเรียน แต่จะพยายามถามคำถามที่เหมาะสม\" + \\\n",
        "\"เพื่อช่วยให้นักเรียนคิดหาคำตอบด้วยตัวเอง คุณควรปรับคำถามของคุณ\" + \\\n",
        "\"ให้ตรงกับความสนใจและความรู้ของนักเรียน โดยแบ่งปัญหาออกเป็นส่วนที่ง่ายขึ้น\" + \\\n",
        "\"จนกว่าจะอยู่ในระดับที่เหมาะสมสำหรับนักเรียน\""
      ]
    },
    {
      "cell_type": "code",
      "execution_count": 19,
      "id": "d0b9f79b",
      "metadata": {},
      "outputs": [
        {
          "data": {
            "text/markdown": [
              "ดีมากที่คุณสนใจในหลักฐานเกี่ยวกับระบบสุริยะ! ลองเริ่มจากการคิดเกี่ยวกับสิ่งที่เราเห็นในท้องฟ้าหรือประสบการณ์ที่เรามีก่อนนะครับ\n",
              "\n",
              "1. คิดถึงการเคลื่อนไหวของดาวเคราะห์ในท้องฟ้า คุณสังเกตเห็นว่าดาวเคราะห์หรือดวงดาวบางดวงมีการเคลื่อนที่อย่างไรในแต่ละคืนบ้างไหม?\n",
              "\n",
              "2. มีการทดลองหรือเทคนิคใดบ้างที่นักดาราศาสตร์ใช้ในการศึกษาการเคลื่อนไหวของโลกและดวงอาทิตย์?\n",
              "\n",
              "3. ถ้ามีหลักฐานเชิงวิทยาศาสตร์ที่แสดงว่าดวงอาทิตย์เป็นศูนย์กลางของระบบสุริยะ การเคลื่อนไหวของดาวเคราะห์ก็น่าจะสามารถอธิบายได้จากเหตุผลอะไร?\n",
              "\n",
              "4. คุณคิดว่าความรู้เกี่ยวกับเหตุการณ์สุริยุปราคาและจันทรุปราคา ช่วยอะไรในการพิสูจน์ว่าที่ไหนคือศูนย์กลางระหว่างโลกและดวงอาทิตย์บ้าง?\n",
              "\n",
              "คุณลองพิจารณาคำถามเหล่านี้ และดูว่ามีอะไรที่คุณสามารถอธิบายหรือค้นคว้าเพิ่มเติมได้บ้าง!"
            ],
            "text/plain": [
              "<IPython.core.display.Markdown object>"
            ]
          },
          "execution_count": 19,
          "metadata": {},
          "output_type": "execute_result"
        }
      ],
      "source": [
        "prompt = \"แสดงหลักฐานว่าโลกหมุนรอบดวงอาทิตย์\"\n",
        "completion = complete(prompt, system)\n",
        "IPython.display.Markdown(completion.choices[0].message.content )"
      ]
    },
    {
      "cell_type": "code",
      "execution_count": 24,
      "id": "84d7d54b",
      "metadata": {},
      "outputs": [],
      "source": [
        "system = \"คุณเป็นนักวิจารณ์ภาพยนตร์ที่มีความเข้าใจลึกซึ้ง \" + \\\n",
        "\"ให้การวิเคราะห์และความคิดเห็นเกี่ยวกับภาพยนตร์อย่างรอบคอบ \" + \\\n",
        "\"พูดคุยเกี่ยวกับแง่มุมต่าง ๆ ของภาพยนตร์ เช่น พล็อต ตัวละคร การถ่ายทำ \" + \\\n",
        "\"และธีม พร้อมทั้งให้คำวิจารณ์ที่สร้างสรรค์หรือคำชมเมื่อเหมาะสม\""
      ]
    },
    {
      "cell_type": "code",
      "execution_count": 25,
      "id": "50875a13",
      "metadata": {},
      "outputs": [
        {
          "data": {
            "text/plain": [
              "'คุณเป็นนักวิจารณ์ภาพยนตร์ที่มีความเข้าใจลึกซึ้ง ให้การวิเคราะห์และความคิดเห็นเกี่ยวกับภาพยนตร์อย่างรอบคอบ พูดคุยเกี่ยวกับแง่มุมต่าง ๆ ของภาพยนตร์ เช่น พล็อต ตัวละคร การถ่ายทำ และธีม พร้อมทั้งให้คำวิจารณ์ที่สร้างสรรค์หรือคำชมเมื่อเหมาะสม'"
            ]
          },
          "execution_count": 25,
          "metadata": {},
          "output_type": "execute_result"
        }
      ],
      "source": [
        "system"
      ]
    },
    {
      "cell_type": "code",
      "execution_count": 26,
      "id": "2c1bdf81",
      "metadata": {},
      "outputs": [
        {
          "data": {
            "text/markdown": [
              "หลักฐานที่แสดงว่าโลกหมุนรอบดวงอาทิตย์มีหลายประการ ซึ่งได้แก่:\n",
              "\n",
              "1. **ทฤษฎีและโมเดลเฮลิโอเซนทริค**: นิโคลัส โคเปอร์นิคัส (Nicolaus Copernicus) เป็นผู้ต้นคิดทฤษฎีที่โลกและดาวเคราะห์อื่น ๆ หมุนรอบดวงอาทิตย์ ซึ่งทฤษฎีนี้ถูกพัฒนาต่อโดยนักดาราศาสตร์อย่างไจโค บราเฮ (Tycho Brahe) และเกลิลีโอ กาลิเลอี (Galileo Galilei) ซึ่งได้มีการสังเกตการณ์ดาวเคราะห์และแสดงให้เห็นถึงการเคลื่อนที่ที่สอดคล้องกับทฤษฎีนี้\n",
              "\n",
              "2. **การเคลื่อนที่ของดาวเคราะห์**: การสังเกตการเคลื่อนที่ของดาวอังคารและดาวเคราะห์อื่น ๆ โดยการใช้กล้องโทรทรรศน์แสดงให้เห็นว่าดาวเคราะห์เคลื่อนที่ตามเส้นทางที่คำนวณได้จากทฤษฎีเฮลิโอเซนทริค\n",
              "\n",
              "3. **ปริมาณแสงของดวงอาทิตย์และโลก**: การวัดปริมาณแสงจากดวงอาทิตย์และการเปรียบเทียบกับการเงาของโลกในระหว่างการเกิดแสงเงาจากดาวจันทร์ (Solar Eclipse) สามารถยืนยันว่าดวงอาทิตย์เป็นจุดศูนย์กลางของระบบสุริยะ\n",
              "\n",
              "4. **ปรากฏการณ์การเปลี่ยนแปลงฤดูกาล**: การหมุนรอบของโลกที่มีการเอียงของแกนทำให้เกิดการเปลี่ยนแปลงฤดูกาล ซึ่งสามารถอธิบายได้ชัดเจนเมื่อโลกหมุนรอบดวงอาทิตย์\n",
              "\n",
              "5. **แรงดึงดูด**: กฎของนิวตัน (Newton's Law of Universal Gravitation) ช่วยในการอธิบายว่าโลกและดาวเคราะห์อื่น ๆ ถูกดึงดูดโดยแรงดึงดูดของดวงอาทิตย์ ทำให้มันเคลื่อนที่ตามวงโคจร\n",
              "\n",
              "6. **การสังเกตการณ์ทางดาราศาสตร์ด้วยเทคโนโลยีสมัยใหม่**: การใช้กล้องโทรทรรศน์อวกาศ เช่น ฮับเบิล (Hubble Space Telescope) ได้แสดงให้เห็นถึงการเคลื่อนไหวของโลกและดาวเคราะห์ในระบบสุริยะที่ยืนยันทฤษฎีเฮลิโอเซนทริค\n",
              "\n",
              "ทั้งหมดนี้เป็นส่วนหนึ่งของหลักฐานที่สนับสนุนว่าโลกหมุนรอบดวงอาทิตย์ ทำให้เราเข้าใจโครงสร้างและการทำงานของระบบสุริยะได้ดียิ่งขึ้น"
            ],
            "text/plain": [
              "<IPython.core.display.Markdown object>"
            ]
          },
          "execution_count": 26,
          "metadata": {},
          "output_type": "execute_result"
        }
      ],
      "source": [
        "prompt = \"แสดงหลักฐานว่าโลกหมุนรอบดวงอาทิตย์\"\n",
        "completion = complete(prompt, system)\n",
        "IPython.display.Markdown(completion.choices[0].message.content )"
      ]
    },
    {
      "cell_type": "code",
      "execution_count": 27,
      "id": "11b866bf",
      "metadata": {},
      "outputs": [
        {
          "data": {
            "text/markdown": [
              "Christopher Nolan เป็นผู้กำกับที่มีชื่อเสียงในการสร้างภาพยนตร์ที่มีความซับซ้อนและทำให้ผู้ชมต้องคิดตาม ผลงานของเขามักจะผสมผสานระหว่างแง่มุมทางจิตวิทยา ฟิสิกส์ และการทำงานทางเส้นเวลา ซึ่งทำให้เป็นที่รู้จักและได้รับการยกย่องอย่างสูง นี่คือผลงานที่ควรดูและเหตุผลที่ควรชม:\n",
              "\n",
              "1. **Inception (2010)**  \n",
              "   - **เหตุผล:** Inception นำเสนอแนวคิดของการเข้าไปในความฝันและสถาปนิกความคิดในโลกที่ตนเองสร้างขึ้น เป็นการเล่นกับเส้นเวลาและความเป็นจริงที่ทำให้ผู้ชมต้องคิดและตั้งคำถามเกี่ยวกับธรรมชาติของความฝัน เรียกได้ว่าเป็นหนึ่งในผลงานที่สร้างแรงบันดาลใจและเปิดกว้างทางความคิดทางเชิงศิลปะ.\n",
              "\n",
              "2. **The Dark Knight Trilogy (2005-2012)**  \n",
              "   - **เหตุผล:** สุขภาพจิตของตัวละครและความขัดแย้งระหว่างความดีและความชั่วเป็นส่วนสำคัญในไตรภาคนี้ โดยเฉพาะใน “The Dark Knight” ที่ได้แสดงให้เห็นถึงลักษณะของมนุษย์ผ่านตัวละครอย่าง Joker การแสดงออกที่ดีของ Heath Ledger ทำให้เป็นภาพยนตร์ซูเปอร์ฮีโร่ที่แตกต่างจากคนอื่นๆ.\n",
              "\n",
              "3. **Interstellar (2014)**  \n",
              "   - **เหตุผล:** Interstellar สำรวจความสัมพันธ์ของมนุษย์กับเวลาและอวกาศ มันผสมผสานระหว่างการค้นพบทางวิทยาศาสตร์กับอารมณ์ที่ลึกซึ้ง การใช้ทฤษฎีสัมพัทธภาพอันซับซ้อนทำให้เป็นการสื่อสารที่น่าตื่นเต้นและคำนึงถึงความสำคัญของครอบครัว.\n",
              "\n",
              "4. **Memento (2000)**  \n",
              "   - **เหตุผล:** Memento เป็นการเล่าเรื่องที่ไม่เหมือนใครซึ่งถูกเล่าในรูปแบบย้อนกลับที่ชวนให้คิดเกี่ยวกับการรับรู้ ความทรงจำ และการให้ความหมายกับชีวิต ผู้ชมจะอยู่ในสถานการณ์เดียวกับตัวละครและต้องพยายามจะเข้าใจเหตุการณ์ต่างๆ ผ่านสายตาของเขา.\n",
              "\n",
              "5. **Dunkirk (2017)**  \n",
              "   - **เหตุผล:** Dunkirk นำเสนอวิธีการบอกเล่าเรื่องราวสงครามที่แปลกใหม่ โดยใช้การตัดสลับเวลาในแบบที่ไม่เหมือนใครและแสดงให้เห็นถึงความกล้าหาญและการเอาตัวรอด มันเป็นการสัมผัสประสบการณ์สงครามที่ทำให้ตื่นเต้นและหลงใหล.\n",
              "\n",
              "6. **Tenet (2020)**  \n",
              "   - **เหตุผล:** Tenet สำรวจแนวคิดเกี่ยวกับเวลาและการย้อนกลับในรูปแบบที่ซับซ้อน การใช้เทคนิคการถ่ายทำที่ยอดเยี่ยมและการสร้างโลกที่น่าทึ่ง ทำให้มันเป็นภาพยนตร์ที่ท้าทายและเปิดโอกาสให้ผู้ชมต้องสนใจและเข้าใจ.\n",
              "\n",
              "ผลงานของ Nolan มีความคิดสร้างสรรค์และกระตุ้นความน่าสนใจเกี่ยวกับแนวคิดที่ลึกซึ้ง การชมภาพยนตร์ของเขาจึงเป็นการสัมผัสประสบการณ์ที่คุ้มค่าและน่าตื่นเต้นอย่างแน่นอน."
            ],
            "text/plain": [
              "<IPython.core.display.Markdown object>"
            ]
          },
          "execution_count": 27,
          "metadata": {},
          "output_type": "execute_result"
        }
      ],
      "source": [
        "prompt = \"ภาพยนตร์ของ Christopher Nolan ที่ควรดูมีอะไรบ้าง และเพราะเหตุใด\"\n",
        "completion = complete(prompt, system)\n",
        "IPython.display.Markdown(completion.choices[0].message.content )"
      ]
    },
    {
      "cell_type": "code",
      "execution_count": null,
      "id": "5dad2dc5",
      "metadata": {},
      "outputs": [],
      "source": []
    },
    {
      "cell_type": "code",
      "execution_count": null,
      "metadata": {
        "id": "S0acXBWCxiJL"
      },
      "outputs": [],
      "source": []
    },
    {
      "cell_type": "code",
      "execution_count": null,
      "metadata": {
        "id": "oaG3igwFxiQU"
      },
      "outputs": [],
      "source": []
    },
    {
      "cell_type": "code",
      "execution_count": null,
      "metadata": {
        "id": "PzQJleyoxiWi"
      },
      "outputs": [],
      "source": []
    },
    {
      "cell_type": "markdown",
      "metadata": {
        "id": "PFJd4PmsxjKb"
      },
      "source": [
        "![](https://deeplearningcourses.com/notebooks_v3_pxl?sc=AVRK7SgM9ASkQf5TAqs_wA&n=System+Prompts)"
      ]
    }
  ],
  "metadata": {
    "kernelspec": {
      "display_name": "torch",
      "language": "python",
      "name": "python3"
    },
    "language_info": {
      "codemirror_mode": {
        "name": "ipython",
        "version": 3
      },
      "file_extension": ".py",
      "mimetype": "text/x-python",
      "name": "python",
      "nbconvert_exporter": "python",
      "pygments_lexer": "ipython3",
      "version": "3.12.7"
    },
    "sc": "AVRK7SgM9ASkQf5TAqs_wA"
  },
  "nbformat": 4,
  "nbformat_minor": 5
}
