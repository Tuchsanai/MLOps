{
  "cells": [
    {
      "cell_type": "code",
      "execution_count": 58,
      "id": "ebb537e6",
      "metadata": {},
      "outputs": [
        {
          "name": "stdout",
          "output_type": "stream",
          "text": [
            "Notebook cleaned.\n"
          ]
        }
      ],
      "source": [
        "import IPython\n",
        "import sys\n",
        "\n",
        "def clean_notebook():\n",
        "    IPython.display.clear_output(wait=True)\n",
        "    print(\"Notebook cleaned.\")\n",
        "\n",
        "!pip install openai\n",
        "!pip install gradio\n",
        "\n",
        "# Clean up the notebook\n",
        "clean_notebook()"
      ]
    },
    {
      "cell_type": "code",
      "execution_count": 59,
      "id": "af52591f",
      "metadata": {},
      "outputs": [
        {
          "name": "stdout",
          "output_type": "stream",
          "text": [
            "Overwriting .env\n"
          ]
        }
      ],
      "source": [
        "%%writefile .env\n",
        "OPENAI_API_KEY=your_api_key_here\n",
        "OPENTYPHOON_API_KEY=api_key_here\n",
        "DEEPSEEK_API_KEY=api_key_here"
      ]
    },
    {
      "cell_type": "code",
      "execution_count": 60,
      "id": "6ef5cda5",
      "metadata": {},
      "outputs": [
        {
          "data": {
            "text/plain": [
              "True"
            ]
          },
          "execution_count": 60,
          "metadata": {},
          "output_type": "execute_result"
        }
      ],
      "source": [
        "import os\n",
        "from openai import OpenAI\n",
        "from dotenv import load_dotenv\n",
        "\n",
        "# Load environment variables\n",
        "load_dotenv()"
      ]
    },
    {
      "cell_type": "code",
      "execution_count": 68,
      "id": "b2600d04",
      "metadata": {},
      "outputs": [],
      "source": [
        "import os\n",
        "from openai import OpenAI\n",
        "\n",
        "openai_client = OpenAI(api_key=os.getenv(\"OPENAI_API_KEY\"))\n",
        "model_name = \"gpt-4o-mini\"    \n",
        "\n",
        "\n",
        "#openai_client = OpenAI(api_key=os.environ.get(\"OPENTYPHOON_API_KEY\"),base_url=\"https://api.opentyphoon.ai/v1\")\n",
        "# model_name = \"typhoon-v1.5-instruct\"\n",
        "\n",
        "\n",
        "# openai_client = OpenAI(api_key=os.environ.get(\"DEEPSEEK_API_KEY\"), base_url=\"https://api.deepseek.com\")\n",
        "# model_name = \"deepseek-chat\""
      ]
    },
    {
      "cell_type": "code",
      "execution_count": 69,
      "id": "3c3a2bf8",
      "metadata": {},
      "outputs": [],
      "source": [
        "import openai\n",
        "\n",
        "\n",
        "# Let's start using FUNCTIONS to simplify our API usage\n",
        "def complete(user_prompt, system_prompt):\n",
        "    completion = openai_client.chat.completions.create(\n",
        "        model=model_name,\n",
        "        messages=[\n",
        "            {\"role\": \"system\", \"content\": \"you are a helpful assistant.\"},\n",
        "            {\"role\": \"user\", \"content\": user_prompt},\n",
        "        ],\n",
        "        temperature=0,\n",
        "        max_tokens=500,\n",
        "    )\n",
        "    return completion"
      ]
    },
    {
      "cell_type": "code",
      "execution_count": 70,
      "id": "8a7d1fc4",
      "metadata": {},
      "outputs": [],
      "source": [
        "stemcells = \"\"\"What are stem cells?\n",
        "\n",
        "Stem cells are the body's raw materials — cells \\\n",
        "from which all other cells with specialized functions \\\n",
        "are generated. Under the right conditions in the body \\\n",
        "or a laboratory, stem cells divide to form more cells \\\n",
        "called daughter cells.\n",
        "\n",
        "These daughter cells become either new stem cells or \\\n",
        "specialized cells (differentiation) with a more specific \\\n",
        "function, such as blood cells, brain cells, heart muscle \\\n",
        "cells or bone cells. No other cell in the body has the \\\n",
        "natural ability to generate new cell types.\n",
        "\n",
        "Why is there such an interest in stem cells?\n",
        "Researchers hope stem cell studies can help to:\n",
        "\n",
        "Increase understanding of how diseases occur. By watching \\\n",
        "stem cells mature into cells in bones, heart muscle, nerves, \\\n",
        "and other organs and tissue, researchers may better \\\n",
        "understand how diseases and conditions develop.\n",
        "Generate healthy cells to replace cells affected by disease \\\n",
        "(regenerative medicine). Stem cells can be guided into \\\n",
        "becoming specific cells that can be used in people to \\\n",
        "regenerate and repair tissues that have been damaged or \\\n",
        "affected by disease.\n",
        "\n",
        "People who might benefit from stem cell therapies include \\\n",
        "those with spinal cord injuries, type 1 diabetes, Parkinson's \\\n",
        "disease, amyotrophic lateral sclerosis, Alzheimer's disease, \\\n",
        "heart disease, stroke, burns, cancer and osteoarthritis.\n",
        "\n",
        "Stem cells may have the potential to be grown to become new \\\n",
        "tissue for use in transplant and regenerative medicine. \\\n",
        "Researchers continue to advance the knowledge on stem cells \\\n",
        "and their applications in transplant and regenerative medicine.\n",
        "\n",
        "Test new drugs for safety and effectiveness. Before using \\\n",
        "investigational drugs in people, researchers can use some \\\n",
        "types of stem cells to test the drugs for safety and quality. \\\n",
        "This type of testing will most likely first have a direct \\\n",
        "impact on drug development for cardiac toxicity testing.\n",
        "\n",
        "New areas of study include the effectiveness of using human \\\n",
        "stem cells that have been programmed into tissue-specific \\\n",
        "cells to test new drugs. For the testing of new drugs to \\\n",
        "be accurate, the cells must be programmed to acquire \\\n",
        "properties of the type of cells targeted by the drug. \\\n",
        "Techniques to program cells into specific cells are under study.\n",
        "\n",
        "For instance, nerve cells could be generated to test a \\\n",
        "new drug for a nerve disease. Tests could show whether \\\n",
        "the new drug had any effect on the cells and whether the \\\n",
        "cells were harmed.\n",
        "\"\"\""
      ]
    },
    {
      "cell_type": "markdown",
      "id": "248ee0a5",
      "metadata": {},
      "source": [
        "# Example 1"
      ]
    },
    {
      "cell_type": "code",
      "execution_count": 71,
      "id": "ad3b8f3f",
      "metadata": {},
      "outputs": [],
      "source": [
        "prompt = f\"\"\"Please summarize the following article:\n",
        "\n",
        "```\n",
        "{stemcells}\n",
        "```\n",
        "\"\"\""
      ]
    },
    {
      "cell_type": "code",
      "execution_count": 72,
      "id": "64afdc93",
      "metadata": {},
      "outputs": [
        {
          "data": {
            "text/plain": [
              "\"Please summarize the following article:\\n\\n```\\nWhat are stem cells?\\n\\nStem cells are the body's raw materials — cells from which all other cells with specialized functions are generated. Under the right conditions in the body or a laboratory, stem cells divide to form more cells called daughter cells.\\n\\nThese daughter cells become either new stem cells or specialized cells (differentiation) with a more specific function, such as blood cells, brain cells, heart muscle cells or bone cells. No other cell in the body has the natural ability to generate new cell types.\\n\\nWhy is there such an interest in stem cells?\\nResearchers hope stem cell studies can help to:\\n\\nIncrease understanding of how diseases occur. By watching stem cells mature into cells in bones, heart muscle, nerves, and other organs and tissue, researchers may better understand how diseases and conditions develop.\\nGenerate healthy cells to replace cells affected by disease (regenerative medicine). Stem cells can be guided into becoming specific cells that can be used in people to regenerate and repair tissues that have been damaged or affected by disease.\\n\\nPeople who might benefit from stem cell therapies include those with spinal cord injuries, type 1 diabetes, Parkinson's disease, amyotrophic lateral sclerosis, Alzheimer's disease, heart disease, stroke, burns, cancer and osteoarthritis.\\n\\nStem cells may have the potential to be grown to become new tissue for use in transplant and regenerative medicine. Researchers continue to advance the knowledge on stem cells and their applications in transplant and regenerative medicine.\\n\\nTest new drugs for safety and effectiveness. Before using investigational drugs in people, researchers can use some types of stem cells to test the drugs for safety and quality. This type of testing will most likely first have a direct impact on drug development for cardiac toxicity testing.\\n\\nNew areas of study include the effectiveness of using human stem cells that have been programmed into tissue-specific cells to test new drugs. For the testing of new drugs to be accurate, the cells must be programmed to acquire properties of the type of cells targeted by the drug. Techniques to program cells into specific cells are under study.\\n\\nFor instance, nerve cells could be generated to test a new drug for a nerve disease. Tests could show whether the new drug had any effect on the cells and whether the cells were harmed.\\n\\n```\\n\""
            ]
          },
          "execution_count": 72,
          "metadata": {},
          "output_type": "execute_result"
        }
      ],
      "source": [
        "prompt "
      ]
    },
    {
      "cell_type": "code",
      "execution_count": 73,
      "id": "8416b8e7",
      "metadata": {},
      "outputs": [
        {
          "data": {
            "text/markdown": [
              "Please summarize the following article:\n",
              "\n",
              "```\n",
              "What are stem cells?\n",
              "\n",
              "Stem cells are the body's raw materials — cells from which all other cells with specialized functions are generated. Under the right conditions in the body or a laboratory, stem cells divide to form more cells called daughter cells.\n",
              "\n",
              "These daughter cells become either new stem cells or specialized cells (differentiation) with a more specific function, such as blood cells, brain cells, heart muscle cells or bone cells. No other cell in the body has the natural ability to generate new cell types.\n",
              "\n",
              "Why is there such an interest in stem cells?\n",
              "Researchers hope stem cell studies can help to:\n",
              "\n",
              "Increase understanding of how diseases occur. By watching stem cells mature into cells in bones, heart muscle, nerves, and other organs and tissue, researchers may better understand how diseases and conditions develop.\n",
              "Generate healthy cells to replace cells affected by disease (regenerative medicine). Stem cells can be guided into becoming specific cells that can be used in people to regenerate and repair tissues that have been damaged or affected by disease.\n",
              "\n",
              "People who might benefit from stem cell therapies include those with spinal cord injuries, type 1 diabetes, Parkinson's disease, amyotrophic lateral sclerosis, Alzheimer's disease, heart disease, stroke, burns, cancer and osteoarthritis.\n",
              "\n",
              "Stem cells may have the potential to be grown to become new tissue for use in transplant and regenerative medicine. Researchers continue to advance the knowledge on stem cells and their applications in transplant and regenerative medicine.\n",
              "\n",
              "Test new drugs for safety and effectiveness. Before using investigational drugs in people, researchers can use some types of stem cells to test the drugs for safety and quality. This type of testing will most likely first have a direct impact on drug development for cardiac toxicity testing.\n",
              "\n",
              "New areas of study include the effectiveness of using human stem cells that have been programmed into tissue-specific cells to test new drugs. For the testing of new drugs to be accurate, the cells must be programmed to acquire properties of the type of cells targeted by the drug. Techniques to program cells into specific cells are under study.\n",
              "\n",
              "For instance, nerve cells could be generated to test a new drug for a nerve disease. Tests could show whether the new drug had any effect on the cells and whether the cells were harmed.\n",
              "\n",
              "```\n"
            ],
            "text/plain": [
              "<IPython.core.display.Markdown object>"
            ]
          },
          "execution_count": 73,
          "metadata": {},
          "output_type": "execute_result"
        }
      ],
      "source": [
        "# pretty format the response\n",
        "IPython.display.Markdown(prompt )"
      ]
    },
    {
      "cell_type": "code",
      "execution_count": 75,
      "id": "f9aba9cb",
      "metadata": {},
      "outputs": [
        {
          "ename": "AuthenticationError",
          "evalue": "Error code: 401 - {'error': {'message': 'Incorrect API key provided: your_api*****here. You can find your API key at https://platform.openai.com/account/api-keys.', 'type': 'invalid_request_error', 'param': None, 'code': 'invalid_api_key'}}",
          "output_type": "error",
          "traceback": [
            "\u001b[0;31m---------------------------------------------------------------------------\u001b[0m",
            "\u001b[0;31mAuthenticationError\u001b[0m                       Traceback (most recent call last)",
            "Cell \u001b[0;32mIn[75], line 1\u001b[0m\n\u001b[0;32m----> 1\u001b[0m completion \u001b[38;5;241m=\u001b[39m \u001b[43mcomplete\u001b[49m\u001b[43m(\u001b[49m\u001b[43mprompt\u001b[49m\u001b[43m,\u001b[49m\u001b[43m \u001b[49m\u001b[43msystem_prompt\u001b[49m\u001b[38;5;241;43m=\u001b[39;49m\u001b[38;5;124;43m\"\u001b[39;49m\u001b[38;5;124;43m\"\u001b[39;49m\u001b[43m)\u001b[49m\n\u001b[1;32m      2\u001b[0m IPython\u001b[38;5;241m.\u001b[39mdisplay\u001b[38;5;241m.\u001b[39mMarkdown(completion\u001b[38;5;241m.\u001b[39mchoices[\u001b[38;5;241m0\u001b[39m]\u001b[38;5;241m.\u001b[39mmessage\u001b[38;5;241m.\u001b[39mcontent )\n",
            "Cell \u001b[0;32mIn[69], line 6\u001b[0m, in \u001b[0;36mcomplete\u001b[0;34m(user_prompt, system_prompt)\u001b[0m\n\u001b[1;32m      5\u001b[0m \u001b[38;5;28;01mdef\u001b[39;00m \u001b[38;5;21mcomplete\u001b[39m(user_prompt, system_prompt):\n\u001b[0;32m----> 6\u001b[0m     completion \u001b[38;5;241m=\u001b[39m \u001b[43mopenai_client\u001b[49m\u001b[38;5;241;43m.\u001b[39;49m\u001b[43mchat\u001b[49m\u001b[38;5;241;43m.\u001b[39;49m\u001b[43mcompletions\u001b[49m\u001b[38;5;241;43m.\u001b[39;49m\u001b[43mcreate\u001b[49m\u001b[43m(\u001b[49m\n\u001b[1;32m      7\u001b[0m \u001b[43m        \u001b[49m\u001b[43mmodel\u001b[49m\u001b[38;5;241;43m=\u001b[39;49m\u001b[43mmodel_name\u001b[49m\u001b[43m,\u001b[49m\n\u001b[1;32m      8\u001b[0m \u001b[43m        \u001b[49m\u001b[43mmessages\u001b[49m\u001b[38;5;241;43m=\u001b[39;49m\u001b[43m[\u001b[49m\n\u001b[1;32m      9\u001b[0m \u001b[43m            \u001b[49m\u001b[43m{\u001b[49m\u001b[38;5;124;43m\"\u001b[39;49m\u001b[38;5;124;43mrole\u001b[39;49m\u001b[38;5;124;43m\"\u001b[39;49m\u001b[43m:\u001b[49m\u001b[43m \u001b[49m\u001b[38;5;124;43m\"\u001b[39;49m\u001b[38;5;124;43msystem\u001b[39;49m\u001b[38;5;124;43m\"\u001b[39;49m\u001b[43m,\u001b[49m\u001b[43m \u001b[49m\u001b[38;5;124;43m\"\u001b[39;49m\u001b[38;5;124;43mcontent\u001b[39;49m\u001b[38;5;124;43m\"\u001b[39;49m\u001b[43m:\u001b[49m\u001b[43m \u001b[49m\u001b[38;5;124;43m\"\u001b[39;49m\u001b[38;5;124;43myou are a helpful assistant.\u001b[39;49m\u001b[38;5;124;43m\"\u001b[39;49m\u001b[43m}\u001b[49m\u001b[43m,\u001b[49m\n\u001b[1;32m     10\u001b[0m \u001b[43m            \u001b[49m\u001b[43m{\u001b[49m\u001b[38;5;124;43m\"\u001b[39;49m\u001b[38;5;124;43mrole\u001b[39;49m\u001b[38;5;124;43m\"\u001b[39;49m\u001b[43m:\u001b[49m\u001b[43m \u001b[49m\u001b[38;5;124;43m\"\u001b[39;49m\u001b[38;5;124;43muser\u001b[39;49m\u001b[38;5;124;43m\"\u001b[39;49m\u001b[43m,\u001b[49m\u001b[43m \u001b[49m\u001b[38;5;124;43m\"\u001b[39;49m\u001b[38;5;124;43mcontent\u001b[39;49m\u001b[38;5;124;43m\"\u001b[39;49m\u001b[43m:\u001b[49m\u001b[43m \u001b[49m\u001b[43muser_prompt\u001b[49m\u001b[43m}\u001b[49m\u001b[43m,\u001b[49m\n\u001b[1;32m     11\u001b[0m \u001b[43m        \u001b[49m\u001b[43m]\u001b[49m\u001b[43m,\u001b[49m\n\u001b[1;32m     12\u001b[0m \u001b[43m        \u001b[49m\u001b[43mtemperature\u001b[49m\u001b[38;5;241;43m=\u001b[39;49m\u001b[38;5;241;43m0\u001b[39;49m\u001b[43m,\u001b[49m\n\u001b[1;32m     13\u001b[0m \u001b[43m        \u001b[49m\u001b[43mmax_tokens\u001b[49m\u001b[38;5;241;43m=\u001b[39;49m\u001b[38;5;241;43m500\u001b[39;49m\u001b[43m,\u001b[49m\n\u001b[1;32m     14\u001b[0m \u001b[43m    \u001b[49m\u001b[43m)\u001b[49m\n\u001b[1;32m     15\u001b[0m     \u001b[38;5;28;01mreturn\u001b[39;00m completion\n",
            "File \u001b[0;32m/opt/anaconda3/envs/torch/lib/python3.12/site-packages/openai/_utils/_utils.py:275\u001b[0m, in \u001b[0;36mrequired_args.<locals>.inner.<locals>.wrapper\u001b[0;34m(*args, **kwargs)\u001b[0m\n\u001b[1;32m    273\u001b[0m             msg \u001b[38;5;241m=\u001b[39m \u001b[38;5;124mf\u001b[39m\u001b[38;5;124m\"\u001b[39m\u001b[38;5;124mMissing required argument: \u001b[39m\u001b[38;5;132;01m{\u001b[39;00mquote(missing[\u001b[38;5;241m0\u001b[39m])\u001b[38;5;132;01m}\u001b[39;00m\u001b[38;5;124m\"\u001b[39m\n\u001b[1;32m    274\u001b[0m     \u001b[38;5;28;01mraise\u001b[39;00m \u001b[38;5;167;01mTypeError\u001b[39;00m(msg)\n\u001b[0;32m--> 275\u001b[0m \u001b[38;5;28;01mreturn\u001b[39;00m \u001b[43mfunc\u001b[49m\u001b[43m(\u001b[49m\u001b[38;5;241;43m*\u001b[39;49m\u001b[43margs\u001b[49m\u001b[43m,\u001b[49m\u001b[43m \u001b[49m\u001b[38;5;241;43m*\u001b[39;49m\u001b[38;5;241;43m*\u001b[39;49m\u001b[43mkwargs\u001b[49m\u001b[43m)\u001b[49m\n",
            "File \u001b[0;32m/opt/anaconda3/envs/torch/lib/python3.12/site-packages/openai/resources/chat/completions.py:859\u001b[0m, in \u001b[0;36mCompletions.create\u001b[0;34m(self, messages, model, audio, frequency_penalty, function_call, functions, logit_bias, logprobs, max_completion_tokens, max_tokens, metadata, modalities, n, parallel_tool_calls, prediction, presence_penalty, reasoning_effort, response_format, seed, service_tier, stop, store, stream, stream_options, temperature, tool_choice, tools, top_logprobs, top_p, user, extra_headers, extra_query, extra_body, timeout)\u001b[0m\n\u001b[1;32m    817\u001b[0m \u001b[38;5;129m@required_args\u001b[39m([\u001b[38;5;124m\"\u001b[39m\u001b[38;5;124mmessages\u001b[39m\u001b[38;5;124m\"\u001b[39m, \u001b[38;5;124m\"\u001b[39m\u001b[38;5;124mmodel\u001b[39m\u001b[38;5;124m\"\u001b[39m], [\u001b[38;5;124m\"\u001b[39m\u001b[38;5;124mmessages\u001b[39m\u001b[38;5;124m\"\u001b[39m, \u001b[38;5;124m\"\u001b[39m\u001b[38;5;124mmodel\u001b[39m\u001b[38;5;124m\"\u001b[39m, \u001b[38;5;124m\"\u001b[39m\u001b[38;5;124mstream\u001b[39m\u001b[38;5;124m\"\u001b[39m])\n\u001b[1;32m    818\u001b[0m \u001b[38;5;28;01mdef\u001b[39;00m \u001b[38;5;21mcreate\u001b[39m(\n\u001b[1;32m    819\u001b[0m     \u001b[38;5;28mself\u001b[39m,\n\u001b[0;32m   (...)\u001b[0m\n\u001b[1;32m    856\u001b[0m     timeout: \u001b[38;5;28mfloat\u001b[39m \u001b[38;5;241m|\u001b[39m httpx\u001b[38;5;241m.\u001b[39mTimeout \u001b[38;5;241m|\u001b[39m \u001b[38;5;28;01mNone\u001b[39;00m \u001b[38;5;241m|\u001b[39m NotGiven \u001b[38;5;241m=\u001b[39m NOT_GIVEN,\n\u001b[1;32m    857\u001b[0m ) \u001b[38;5;241m-\u001b[39m\u001b[38;5;241m>\u001b[39m ChatCompletion \u001b[38;5;241m|\u001b[39m Stream[ChatCompletionChunk]:\n\u001b[1;32m    858\u001b[0m     validate_response_format(response_format)\n\u001b[0;32m--> 859\u001b[0m     \u001b[38;5;28;01mreturn\u001b[39;00m \u001b[38;5;28;43mself\u001b[39;49m\u001b[38;5;241;43m.\u001b[39;49m\u001b[43m_post\u001b[49m\u001b[43m(\u001b[49m\n\u001b[1;32m    860\u001b[0m \u001b[43m        \u001b[49m\u001b[38;5;124;43m\"\u001b[39;49m\u001b[38;5;124;43m/chat/completions\u001b[39;49m\u001b[38;5;124;43m\"\u001b[39;49m\u001b[43m,\u001b[49m\n\u001b[1;32m    861\u001b[0m \u001b[43m        \u001b[49m\u001b[43mbody\u001b[49m\u001b[38;5;241;43m=\u001b[39;49m\u001b[43mmaybe_transform\u001b[49m\u001b[43m(\u001b[49m\n\u001b[1;32m    862\u001b[0m \u001b[43m            \u001b[49m\u001b[43m{\u001b[49m\n\u001b[1;32m    863\u001b[0m \u001b[43m                \u001b[49m\u001b[38;5;124;43m\"\u001b[39;49m\u001b[38;5;124;43mmessages\u001b[39;49m\u001b[38;5;124;43m\"\u001b[39;49m\u001b[43m:\u001b[49m\u001b[43m \u001b[49m\u001b[43mmessages\u001b[49m\u001b[43m,\u001b[49m\n\u001b[1;32m    864\u001b[0m \u001b[43m                \u001b[49m\u001b[38;5;124;43m\"\u001b[39;49m\u001b[38;5;124;43mmodel\u001b[39;49m\u001b[38;5;124;43m\"\u001b[39;49m\u001b[43m:\u001b[49m\u001b[43m \u001b[49m\u001b[43mmodel\u001b[49m\u001b[43m,\u001b[49m\n\u001b[1;32m    865\u001b[0m \u001b[43m                \u001b[49m\u001b[38;5;124;43m\"\u001b[39;49m\u001b[38;5;124;43maudio\u001b[39;49m\u001b[38;5;124;43m\"\u001b[39;49m\u001b[43m:\u001b[49m\u001b[43m \u001b[49m\u001b[43maudio\u001b[49m\u001b[43m,\u001b[49m\n\u001b[1;32m    866\u001b[0m \u001b[43m                \u001b[49m\u001b[38;5;124;43m\"\u001b[39;49m\u001b[38;5;124;43mfrequency_penalty\u001b[39;49m\u001b[38;5;124;43m\"\u001b[39;49m\u001b[43m:\u001b[49m\u001b[43m \u001b[49m\u001b[43mfrequency_penalty\u001b[49m\u001b[43m,\u001b[49m\n\u001b[1;32m    867\u001b[0m \u001b[43m                \u001b[49m\u001b[38;5;124;43m\"\u001b[39;49m\u001b[38;5;124;43mfunction_call\u001b[39;49m\u001b[38;5;124;43m\"\u001b[39;49m\u001b[43m:\u001b[49m\u001b[43m \u001b[49m\u001b[43mfunction_call\u001b[49m\u001b[43m,\u001b[49m\n\u001b[1;32m    868\u001b[0m \u001b[43m                \u001b[49m\u001b[38;5;124;43m\"\u001b[39;49m\u001b[38;5;124;43mfunctions\u001b[39;49m\u001b[38;5;124;43m\"\u001b[39;49m\u001b[43m:\u001b[49m\u001b[43m \u001b[49m\u001b[43mfunctions\u001b[49m\u001b[43m,\u001b[49m\n\u001b[1;32m    869\u001b[0m \u001b[43m                \u001b[49m\u001b[38;5;124;43m\"\u001b[39;49m\u001b[38;5;124;43mlogit_bias\u001b[39;49m\u001b[38;5;124;43m\"\u001b[39;49m\u001b[43m:\u001b[49m\u001b[43m \u001b[49m\u001b[43mlogit_bias\u001b[49m\u001b[43m,\u001b[49m\n\u001b[1;32m    870\u001b[0m \u001b[43m                \u001b[49m\u001b[38;5;124;43m\"\u001b[39;49m\u001b[38;5;124;43mlogprobs\u001b[39;49m\u001b[38;5;124;43m\"\u001b[39;49m\u001b[43m:\u001b[49m\u001b[43m \u001b[49m\u001b[43mlogprobs\u001b[49m\u001b[43m,\u001b[49m\n\u001b[1;32m    871\u001b[0m \u001b[43m                \u001b[49m\u001b[38;5;124;43m\"\u001b[39;49m\u001b[38;5;124;43mmax_completion_tokens\u001b[39;49m\u001b[38;5;124;43m\"\u001b[39;49m\u001b[43m:\u001b[49m\u001b[43m \u001b[49m\u001b[43mmax_completion_tokens\u001b[49m\u001b[43m,\u001b[49m\n\u001b[1;32m    872\u001b[0m \u001b[43m                \u001b[49m\u001b[38;5;124;43m\"\u001b[39;49m\u001b[38;5;124;43mmax_tokens\u001b[39;49m\u001b[38;5;124;43m\"\u001b[39;49m\u001b[43m:\u001b[49m\u001b[43m \u001b[49m\u001b[43mmax_tokens\u001b[49m\u001b[43m,\u001b[49m\n\u001b[1;32m    873\u001b[0m \u001b[43m                \u001b[49m\u001b[38;5;124;43m\"\u001b[39;49m\u001b[38;5;124;43mmetadata\u001b[39;49m\u001b[38;5;124;43m\"\u001b[39;49m\u001b[43m:\u001b[49m\u001b[43m \u001b[49m\u001b[43mmetadata\u001b[49m\u001b[43m,\u001b[49m\n\u001b[1;32m    874\u001b[0m \u001b[43m                \u001b[49m\u001b[38;5;124;43m\"\u001b[39;49m\u001b[38;5;124;43mmodalities\u001b[39;49m\u001b[38;5;124;43m\"\u001b[39;49m\u001b[43m:\u001b[49m\u001b[43m \u001b[49m\u001b[43mmodalities\u001b[49m\u001b[43m,\u001b[49m\n\u001b[1;32m    875\u001b[0m \u001b[43m                \u001b[49m\u001b[38;5;124;43m\"\u001b[39;49m\u001b[38;5;124;43mn\u001b[39;49m\u001b[38;5;124;43m\"\u001b[39;49m\u001b[43m:\u001b[49m\u001b[43m \u001b[49m\u001b[43mn\u001b[49m\u001b[43m,\u001b[49m\n\u001b[1;32m    876\u001b[0m \u001b[43m                \u001b[49m\u001b[38;5;124;43m\"\u001b[39;49m\u001b[38;5;124;43mparallel_tool_calls\u001b[39;49m\u001b[38;5;124;43m\"\u001b[39;49m\u001b[43m:\u001b[49m\u001b[43m \u001b[49m\u001b[43mparallel_tool_calls\u001b[49m\u001b[43m,\u001b[49m\n\u001b[1;32m    877\u001b[0m \u001b[43m                \u001b[49m\u001b[38;5;124;43m\"\u001b[39;49m\u001b[38;5;124;43mprediction\u001b[39;49m\u001b[38;5;124;43m\"\u001b[39;49m\u001b[43m:\u001b[49m\u001b[43m \u001b[49m\u001b[43mprediction\u001b[49m\u001b[43m,\u001b[49m\n\u001b[1;32m    878\u001b[0m \u001b[43m                \u001b[49m\u001b[38;5;124;43m\"\u001b[39;49m\u001b[38;5;124;43mpresence_penalty\u001b[39;49m\u001b[38;5;124;43m\"\u001b[39;49m\u001b[43m:\u001b[49m\u001b[43m \u001b[49m\u001b[43mpresence_penalty\u001b[49m\u001b[43m,\u001b[49m\n\u001b[1;32m    879\u001b[0m \u001b[43m                \u001b[49m\u001b[38;5;124;43m\"\u001b[39;49m\u001b[38;5;124;43mreasoning_effort\u001b[39;49m\u001b[38;5;124;43m\"\u001b[39;49m\u001b[43m:\u001b[49m\u001b[43m \u001b[49m\u001b[43mreasoning_effort\u001b[49m\u001b[43m,\u001b[49m\n\u001b[1;32m    880\u001b[0m \u001b[43m                \u001b[49m\u001b[38;5;124;43m\"\u001b[39;49m\u001b[38;5;124;43mresponse_format\u001b[39;49m\u001b[38;5;124;43m\"\u001b[39;49m\u001b[43m:\u001b[49m\u001b[43m \u001b[49m\u001b[43mresponse_format\u001b[49m\u001b[43m,\u001b[49m\n\u001b[1;32m    881\u001b[0m \u001b[43m                \u001b[49m\u001b[38;5;124;43m\"\u001b[39;49m\u001b[38;5;124;43mseed\u001b[39;49m\u001b[38;5;124;43m\"\u001b[39;49m\u001b[43m:\u001b[49m\u001b[43m \u001b[49m\u001b[43mseed\u001b[49m\u001b[43m,\u001b[49m\n\u001b[1;32m    882\u001b[0m \u001b[43m                \u001b[49m\u001b[38;5;124;43m\"\u001b[39;49m\u001b[38;5;124;43mservice_tier\u001b[39;49m\u001b[38;5;124;43m\"\u001b[39;49m\u001b[43m:\u001b[49m\u001b[43m \u001b[49m\u001b[43mservice_tier\u001b[49m\u001b[43m,\u001b[49m\n\u001b[1;32m    883\u001b[0m \u001b[43m                \u001b[49m\u001b[38;5;124;43m\"\u001b[39;49m\u001b[38;5;124;43mstop\u001b[39;49m\u001b[38;5;124;43m\"\u001b[39;49m\u001b[43m:\u001b[49m\u001b[43m \u001b[49m\u001b[43mstop\u001b[49m\u001b[43m,\u001b[49m\n\u001b[1;32m    884\u001b[0m \u001b[43m                \u001b[49m\u001b[38;5;124;43m\"\u001b[39;49m\u001b[38;5;124;43mstore\u001b[39;49m\u001b[38;5;124;43m\"\u001b[39;49m\u001b[43m:\u001b[49m\u001b[43m \u001b[49m\u001b[43mstore\u001b[49m\u001b[43m,\u001b[49m\n\u001b[1;32m    885\u001b[0m \u001b[43m                \u001b[49m\u001b[38;5;124;43m\"\u001b[39;49m\u001b[38;5;124;43mstream\u001b[39;49m\u001b[38;5;124;43m\"\u001b[39;49m\u001b[43m:\u001b[49m\u001b[43m \u001b[49m\u001b[43mstream\u001b[49m\u001b[43m,\u001b[49m\n\u001b[1;32m    886\u001b[0m \u001b[43m                \u001b[49m\u001b[38;5;124;43m\"\u001b[39;49m\u001b[38;5;124;43mstream_options\u001b[39;49m\u001b[38;5;124;43m\"\u001b[39;49m\u001b[43m:\u001b[49m\u001b[43m \u001b[49m\u001b[43mstream_options\u001b[49m\u001b[43m,\u001b[49m\n\u001b[1;32m    887\u001b[0m \u001b[43m                \u001b[49m\u001b[38;5;124;43m\"\u001b[39;49m\u001b[38;5;124;43mtemperature\u001b[39;49m\u001b[38;5;124;43m\"\u001b[39;49m\u001b[43m:\u001b[49m\u001b[43m \u001b[49m\u001b[43mtemperature\u001b[49m\u001b[43m,\u001b[49m\n\u001b[1;32m    888\u001b[0m \u001b[43m                \u001b[49m\u001b[38;5;124;43m\"\u001b[39;49m\u001b[38;5;124;43mtool_choice\u001b[39;49m\u001b[38;5;124;43m\"\u001b[39;49m\u001b[43m:\u001b[49m\u001b[43m \u001b[49m\u001b[43mtool_choice\u001b[49m\u001b[43m,\u001b[49m\n\u001b[1;32m    889\u001b[0m \u001b[43m                \u001b[49m\u001b[38;5;124;43m\"\u001b[39;49m\u001b[38;5;124;43mtools\u001b[39;49m\u001b[38;5;124;43m\"\u001b[39;49m\u001b[43m:\u001b[49m\u001b[43m \u001b[49m\u001b[43mtools\u001b[49m\u001b[43m,\u001b[49m\n\u001b[1;32m    890\u001b[0m \u001b[43m                \u001b[49m\u001b[38;5;124;43m\"\u001b[39;49m\u001b[38;5;124;43mtop_logprobs\u001b[39;49m\u001b[38;5;124;43m\"\u001b[39;49m\u001b[43m:\u001b[49m\u001b[43m \u001b[49m\u001b[43mtop_logprobs\u001b[49m\u001b[43m,\u001b[49m\n\u001b[1;32m    891\u001b[0m \u001b[43m                \u001b[49m\u001b[38;5;124;43m\"\u001b[39;49m\u001b[38;5;124;43mtop_p\u001b[39;49m\u001b[38;5;124;43m\"\u001b[39;49m\u001b[43m:\u001b[49m\u001b[43m \u001b[49m\u001b[43mtop_p\u001b[49m\u001b[43m,\u001b[49m\n\u001b[1;32m    892\u001b[0m \u001b[43m                \u001b[49m\u001b[38;5;124;43m\"\u001b[39;49m\u001b[38;5;124;43muser\u001b[39;49m\u001b[38;5;124;43m\"\u001b[39;49m\u001b[43m:\u001b[49m\u001b[43m \u001b[49m\u001b[43muser\u001b[49m\u001b[43m,\u001b[49m\n\u001b[1;32m    893\u001b[0m \u001b[43m            \u001b[49m\u001b[43m}\u001b[49m\u001b[43m,\u001b[49m\n\u001b[1;32m    894\u001b[0m \u001b[43m            \u001b[49m\u001b[43mcompletion_create_params\u001b[49m\u001b[38;5;241;43m.\u001b[39;49m\u001b[43mCompletionCreateParams\u001b[49m\u001b[43m,\u001b[49m\n\u001b[1;32m    895\u001b[0m \u001b[43m        \u001b[49m\u001b[43m)\u001b[49m\u001b[43m,\u001b[49m\n\u001b[1;32m    896\u001b[0m \u001b[43m        \u001b[49m\u001b[43moptions\u001b[49m\u001b[38;5;241;43m=\u001b[39;49m\u001b[43mmake_request_options\u001b[49m\u001b[43m(\u001b[49m\n\u001b[1;32m    897\u001b[0m \u001b[43m            \u001b[49m\u001b[43mextra_headers\u001b[49m\u001b[38;5;241;43m=\u001b[39;49m\u001b[43mextra_headers\u001b[49m\u001b[43m,\u001b[49m\u001b[43m \u001b[49m\u001b[43mextra_query\u001b[49m\u001b[38;5;241;43m=\u001b[39;49m\u001b[43mextra_query\u001b[49m\u001b[43m,\u001b[49m\u001b[43m \u001b[49m\u001b[43mextra_body\u001b[49m\u001b[38;5;241;43m=\u001b[39;49m\u001b[43mextra_body\u001b[49m\u001b[43m,\u001b[49m\u001b[43m \u001b[49m\u001b[43mtimeout\u001b[49m\u001b[38;5;241;43m=\u001b[39;49m\u001b[43mtimeout\u001b[49m\n\u001b[1;32m    898\u001b[0m \u001b[43m        \u001b[49m\u001b[43m)\u001b[49m\u001b[43m,\u001b[49m\n\u001b[1;32m    899\u001b[0m \u001b[43m        \u001b[49m\u001b[43mcast_to\u001b[49m\u001b[38;5;241;43m=\u001b[39;49m\u001b[43mChatCompletion\u001b[49m\u001b[43m,\u001b[49m\n\u001b[1;32m    900\u001b[0m \u001b[43m        \u001b[49m\u001b[43mstream\u001b[49m\u001b[38;5;241;43m=\u001b[39;49m\u001b[43mstream\u001b[49m\u001b[43m \u001b[49m\u001b[38;5;129;43;01mor\u001b[39;49;00m\u001b[43m \u001b[49m\u001b[38;5;28;43;01mFalse\u001b[39;49;00m\u001b[43m,\u001b[49m\n\u001b[1;32m    901\u001b[0m \u001b[43m        \u001b[49m\u001b[43mstream_cls\u001b[49m\u001b[38;5;241;43m=\u001b[39;49m\u001b[43mStream\u001b[49m\u001b[43m[\u001b[49m\u001b[43mChatCompletionChunk\u001b[49m\u001b[43m]\u001b[49m\u001b[43m,\u001b[49m\n\u001b[1;32m    902\u001b[0m \u001b[43m    \u001b[49m\u001b[43m)\u001b[49m\n",
            "File \u001b[0;32m/opt/anaconda3/envs/torch/lib/python3.12/site-packages/openai/_base_client.py:1280\u001b[0m, in \u001b[0;36mSyncAPIClient.post\u001b[0;34m(self, path, cast_to, body, options, files, stream, stream_cls)\u001b[0m\n\u001b[1;32m   1266\u001b[0m \u001b[38;5;28;01mdef\u001b[39;00m \u001b[38;5;21mpost\u001b[39m(\n\u001b[1;32m   1267\u001b[0m     \u001b[38;5;28mself\u001b[39m,\n\u001b[1;32m   1268\u001b[0m     path: \u001b[38;5;28mstr\u001b[39m,\n\u001b[0;32m   (...)\u001b[0m\n\u001b[1;32m   1275\u001b[0m     stream_cls: \u001b[38;5;28mtype\u001b[39m[_StreamT] \u001b[38;5;241m|\u001b[39m \u001b[38;5;28;01mNone\u001b[39;00m \u001b[38;5;241m=\u001b[39m \u001b[38;5;28;01mNone\u001b[39;00m,\n\u001b[1;32m   1276\u001b[0m ) \u001b[38;5;241m-\u001b[39m\u001b[38;5;241m>\u001b[39m ResponseT \u001b[38;5;241m|\u001b[39m _StreamT:\n\u001b[1;32m   1277\u001b[0m     opts \u001b[38;5;241m=\u001b[39m FinalRequestOptions\u001b[38;5;241m.\u001b[39mconstruct(\n\u001b[1;32m   1278\u001b[0m         method\u001b[38;5;241m=\u001b[39m\u001b[38;5;124m\"\u001b[39m\u001b[38;5;124mpost\u001b[39m\u001b[38;5;124m\"\u001b[39m, url\u001b[38;5;241m=\u001b[39mpath, json_data\u001b[38;5;241m=\u001b[39mbody, files\u001b[38;5;241m=\u001b[39mto_httpx_files(files), \u001b[38;5;241m*\u001b[39m\u001b[38;5;241m*\u001b[39moptions\n\u001b[1;32m   1279\u001b[0m     )\n\u001b[0;32m-> 1280\u001b[0m     \u001b[38;5;28;01mreturn\u001b[39;00m cast(ResponseT, \u001b[38;5;28;43mself\u001b[39;49m\u001b[38;5;241;43m.\u001b[39;49m\u001b[43mrequest\u001b[49m\u001b[43m(\u001b[49m\u001b[43mcast_to\u001b[49m\u001b[43m,\u001b[49m\u001b[43m \u001b[49m\u001b[43mopts\u001b[49m\u001b[43m,\u001b[49m\u001b[43m \u001b[49m\u001b[43mstream\u001b[49m\u001b[38;5;241;43m=\u001b[39;49m\u001b[43mstream\u001b[49m\u001b[43m,\u001b[49m\u001b[43m \u001b[49m\u001b[43mstream_cls\u001b[49m\u001b[38;5;241;43m=\u001b[39;49m\u001b[43mstream_cls\u001b[49m\u001b[43m)\u001b[49m)\n",
            "File \u001b[0;32m/opt/anaconda3/envs/torch/lib/python3.12/site-packages/openai/_base_client.py:957\u001b[0m, in \u001b[0;36mSyncAPIClient.request\u001b[0;34m(self, cast_to, options, remaining_retries, stream, stream_cls)\u001b[0m\n\u001b[1;32m    954\u001b[0m \u001b[38;5;28;01melse\u001b[39;00m:\n\u001b[1;32m    955\u001b[0m     retries_taken \u001b[38;5;241m=\u001b[39m \u001b[38;5;241m0\u001b[39m\n\u001b[0;32m--> 957\u001b[0m \u001b[38;5;28;01mreturn\u001b[39;00m \u001b[38;5;28;43mself\u001b[39;49m\u001b[38;5;241;43m.\u001b[39;49m\u001b[43m_request\u001b[49m\u001b[43m(\u001b[49m\n\u001b[1;32m    958\u001b[0m \u001b[43m    \u001b[49m\u001b[43mcast_to\u001b[49m\u001b[38;5;241;43m=\u001b[39;49m\u001b[43mcast_to\u001b[49m\u001b[43m,\u001b[49m\n\u001b[1;32m    959\u001b[0m \u001b[43m    \u001b[49m\u001b[43moptions\u001b[49m\u001b[38;5;241;43m=\u001b[39;49m\u001b[43moptions\u001b[49m\u001b[43m,\u001b[49m\n\u001b[1;32m    960\u001b[0m \u001b[43m    \u001b[49m\u001b[43mstream\u001b[49m\u001b[38;5;241;43m=\u001b[39;49m\u001b[43mstream\u001b[49m\u001b[43m,\u001b[49m\n\u001b[1;32m    961\u001b[0m \u001b[43m    \u001b[49m\u001b[43mstream_cls\u001b[49m\u001b[38;5;241;43m=\u001b[39;49m\u001b[43mstream_cls\u001b[49m\u001b[43m,\u001b[49m\n\u001b[1;32m    962\u001b[0m \u001b[43m    \u001b[49m\u001b[43mretries_taken\u001b[49m\u001b[38;5;241;43m=\u001b[39;49m\u001b[43mretries_taken\u001b[49m\u001b[43m,\u001b[49m\n\u001b[1;32m    963\u001b[0m \u001b[43m\u001b[49m\u001b[43m)\u001b[49m\n",
            "File \u001b[0;32m/opt/anaconda3/envs/torch/lib/python3.12/site-packages/openai/_base_client.py:1061\u001b[0m, in \u001b[0;36mSyncAPIClient._request\u001b[0;34m(self, cast_to, options, retries_taken, stream, stream_cls)\u001b[0m\n\u001b[1;32m   1058\u001b[0m         err\u001b[38;5;241m.\u001b[39mresponse\u001b[38;5;241m.\u001b[39mread()\n\u001b[1;32m   1060\u001b[0m     log\u001b[38;5;241m.\u001b[39mdebug(\u001b[38;5;124m\"\u001b[39m\u001b[38;5;124mRe-raising status error\u001b[39m\u001b[38;5;124m\"\u001b[39m)\n\u001b[0;32m-> 1061\u001b[0m     \u001b[38;5;28;01mraise\u001b[39;00m \u001b[38;5;28mself\u001b[39m\u001b[38;5;241m.\u001b[39m_make_status_error_from_response(err\u001b[38;5;241m.\u001b[39mresponse) \u001b[38;5;28;01mfrom\u001b[39;00m \u001b[38;5;28;01mNone\u001b[39;00m\n\u001b[1;32m   1063\u001b[0m \u001b[38;5;28;01mreturn\u001b[39;00m \u001b[38;5;28mself\u001b[39m\u001b[38;5;241m.\u001b[39m_process_response(\n\u001b[1;32m   1064\u001b[0m     cast_to\u001b[38;5;241m=\u001b[39mcast_to,\n\u001b[1;32m   1065\u001b[0m     options\u001b[38;5;241m=\u001b[39moptions,\n\u001b[0;32m   (...)\u001b[0m\n\u001b[1;32m   1069\u001b[0m     retries_taken\u001b[38;5;241m=\u001b[39mretries_taken,\n\u001b[1;32m   1070\u001b[0m )\n",
            "\u001b[0;31mAuthenticationError\u001b[0m: Error code: 401 - {'error': {'message': 'Incorrect API key provided: your_api*****here. You can find your API key at https://platform.openai.com/account/api-keys.', 'type': 'invalid_request_error', 'param': None, 'code': 'invalid_api_key'}}"
          ]
        }
      ],
      "source": [
        "completion = complete(prompt, system_prompt=\"\")\n",
        "IPython.display.Markdown(completion.choices[0].message.content )"
      ]
    },
    {
      "cell_type": "markdown",
      "id": "9952c6df",
      "metadata": {},
      "source": [
        "# Example 2"
      ]
    },
    {
      "cell_type": "code",
      "execution_count": 32,
      "id": "5a95c744",
      "metadata": {},
      "outputs": [],
      "source": [
        "prompt = f\"\"\"Please summarize the following article. \\\n",
        "Use a maximum of 3 sentences:\n",
        "\n",
        "```\n",
        "{stemcells}\n",
        "```\n",
        "\"\"\""
      ]
    },
    {
      "cell_type": "code",
      "execution_count": 36,
      "id": "d32b8ff9",
      "metadata": {},
      "outputs": [
        {
          "data": {
            "text/markdown": [
              "Stem cells are the body's basic building blocks, capable of developing into various specialized cells with specific functions. Research into stem cells aims to increase understanding of disease development, generate healthy cells to replace diseased ones, and test new drugs for safety and effectiveness. Potential beneficiaries of stem cell therapies include individuals with conditions such as spinal cord injuries, diabetes, Parkinson's disease, and heart disease."
            ],
            "text/plain": [
              "<IPython.core.display.Markdown object>"
            ]
          },
          "execution_count": 36,
          "metadata": {},
          "output_type": "execute_result"
        }
      ],
      "source": [
        "completion = complete(prompt, system_prompt=\"\")\n",
        "IPython.display.Markdown(completion.choices[0].message.content) "
      ]
    },
    {
      "cell_type": "markdown",
      "id": "1a53e032",
      "metadata": {},
      "source": [
        "# Example 3"
      ]
    },
    {
      "cell_type": "code",
      "execution_count": 11,
      "metadata": {
        "id": "S0acXBWCxiJL"
      },
      "outputs": [],
      "source": [
        "Text = \"\"\" \n",
        "ปัญญาประดิษฐ์ (AI) ในประเทศไทย: โอกาสและความท้าทาย\n",
        "\n",
        "ในยุคที่เทคโนโลยีก้าวหน้าอย่างรวดเร็ว ปัญญาประดิษฐ์ (Artificial Intelligence หรือ AI) กำลังเข้ามามีบทบาทสำคัญในการขับเคลื่อนเศรษฐกิจและสังคมของประเทศต่างๆ ทั่วโลก รวมถึงประเทศไทย ในช่วงไม่กี่ปีที่ผ่านมา ประเทศไทยได้ตื่นตัวและให้ความสำคัญกับการพัฒนาและประยุกต์ใช้ AI มากขึ้นอย่างเห็นได้ชัด ทั้งในภาครัฐและเอกชน แต่ก็ยังมีความท้าทายหลายประการที่ต้องเผชิญ บทความนี้จะนำเสนอภาพรวมของสถานการณ์ AI ในประเทศไทย ทั้งในแง่ของนโยบาย การพัฒนา การประยุกต์ใช้ ตลอดจนโอกาสและความท้าทายที่เกิดขึ้น\n",
        "\n",
        "1. นโยบายและยุทธศาสตร์ด้าน AI ของประเทศไทย\n",
        "\n",
        "รัฐบาลไทยได้ตระหนักถึงความสำคัญของ AI และได้กำหนดนโยบายและยุทธศาสตร์เพื่อส่งเสริมการพัฒนาและใช้งาน AI ในประเทศ โดยมีการจัดทำ \"ยุทธศาสตร์ปัญญาประดิษฐ์แห่งชาติ\" (National AI Strategy) ซึ่งมีเป้าหมายหลักในการยกระดับขีดความสามารถในการแข่งขันของประเทศ พัฒนาทรัพยากรมนุษย์ และสร้างระบบนิเวศที่เอื้อต่อการพัฒนา AI\n",
        "\n",
        "ยุทธศาสตร์นี้ครอบคลุมหลายมิติ เช่น:\n",
        "- การพัฒนาโครงสร้างพื้นฐานด้านดิจิทัลและข้อมูล\n",
        "- การส่งเสริมการวิจัยและพัฒนา AI\n",
        "- การพัฒนาบุคลากรด้าน AI\n",
        "- การสร้างความร่วมมือระหว่างภาครัฐ เอกชน และสถาบันการศึกษา\n",
        "- การส่งเสริมการใช้ AI ในภาคธุรกิจและอุตสาหกรรม\n",
        "- การสร้างความตระหนักรู้และความเข้าใจเกี่ยวกับ AI ในสังคม\n",
        "\n",
        "นอกจากนี้ ยังมีการจัดตั้งหน่วยงานเฉพาะทางเพื่อขับเคลื่อนการพัฒนา AI ในประเทศ เช่น ศูนย์ความเป็นเลิศด้านชีววิทยาศาสตร์ (TCELS) ที่มีบทบาทในการส่งเสริมการวิจัยและพัฒนา AI ในด้านการแพทย์และสาธารณสุข\n",
        "\n",
        "2. การพัฒนา AI ในประเทศไทย\n",
        "\n",
        "ในช่วงหลายปีที่ผ่านมา ประเทศไทยได้มีความก้าวหน้าในการพัฒนา AI อย่างต่อเนื่อง โดยมีการดำเนินการในหลายด้าน ดังนี้:\n",
        "\n",
        "2.1 การวิจัยและพัฒนา\n",
        "มหาวิทยาลัยและสถาบันวิจัยชั้นนำของไทยได้ทุ่มเทกำลังในการวิจัยและพัฒนาเทคโนโลยี AI โดยมีการจัดตั้งศูนย์วิจัยเฉพาะทาง เช่น ศูนย์เทคโนโลยีปัญญาประดิษฐ์และการเรียนรู้ของเครื่อง (CMKL) ที่จุฬาลงกรณ์มหาวิทยาลัย และศูนย์ความเป็นเลิศด้านชีววิทยาศาสตร์ (TCELS) นอกจากนี้ ยังมีการสร้างความร่วมมือกับสถาบันวิจัยและมหาวิทยาลัยชั้นนำในต่างประเทศเพื่อแลกเปลี่ยนความรู้และประสบการณ์\n",
        "\n",
        "2.2 การพัฒนาบุคลากร\n",
        "การผลิตบุคลากรที่มีความเชี่ยวชาญด้าน AI เป็นหนึ่งในความท้าทายที่สำคัญของประเทศไทย มหาวิทยาลัยหลายแห่งได้เปิดหลักสูตรเฉพาะทางด้าน AI และ Machine Learning ทั้งในระดับปริญญาตรีและบัณฑิตศึกษา นอกจากนี้ ยังมีการจัดอบรมและหลักสูตรระยะสั้นเพื่อพัฒนาทักษะด้าน AI ให้กับบุคลากรในภาคธุรกิจและอุตสาหกรรม\n",
        "\n",
        "2.3 การสร้างระบบนิเวศ AI\n",
        "การสร้างระบบนิเวศที่เอื้อต่อการพัฒนา AI เป็นอีกหนึ่งประเด็นสำคัญ โดยมีการส่งเสริมการลงทุนในธุรกิจ Startup ด้าน AI ผ่านมาตรการสนับสนุนต่างๆ เช่น การให้สิทธิประโยชน์ทางภาษี การจัดตั้งกองทุนร่วมลงทุน และการสร้างพื้นที่ทดลอง (Sandbox) สำหรับนวัตกรรม AI\n",
        "\n",
        "3. การประยุกต์ใช้ AI ในประเทศไทย\n",
        "\n",
        "AI กำลังถูกนำมาประยุกต์ใช้ในหลากหลายภาคส่วนของประเทศไทย ทั้งในภาครัฐและเอกชน โดยมีตัวอย่างที่น่าสนใจดังนี้:\n",
        "\n",
        "3.1 ภาคการเงินและการธนาคาร\n",
        "ธนาคารและสถาบันการเงินในไทยได้นำ AI มาใช้ในการพัฒนาบริการทางการเงิน เช่น:\n",
        "- ระบบ Chatbot สำหรับให้บริการลูกค้า\n",
        "- การวิเคราะห์ความเสี่ยงในการให้สินเชื่อ\n",
        "- ระบบตรวจจับการฉ้อโกงและป้องกันการฟอกเงิน\n",
        "- การวิเคราะห์พฤติกรรมลูกค้าเพื่อนำเสนอผลิตภัณฑ์ที่เหมาะสม\n",
        "\n",
        "3.2 ภาคการเกษตร\n",
        "AI ถูกนำมาใช้ในการพัฒนาเกษตรกรรมอัจฉริยะ (Smart Farming) เช่น:\n",
        "- ระบบวิเคราะห์ภาพถ่ายดาวเทียมเพื่อคาดการณ์ผลผลิตและวางแผนการเพาะปลูก\n",
        "- ระบบควบคุมการให้น้ำและปุ๋ยอัตโนมัติ\n",
        "- การใช้โดรนและหุ่นยนต์ในการสำรวจพื้นที่เกษตรและเก็บเกี่ยวผลผลิต\n",
        "- การวิเคราะห์ข้อมูลสภาพอากาศเพื่อการเตือนภัยและวางแผนการผลิต\n",
        "\n",
        "3.3 ภาคการแพทย์และสาธารณสุข\n",
        "AI กำลังมีบทบาทสำคัญในการยกระดับการให้บริการทางการแพทย์ในประเทศไทย เช่น:\n",
        "- การวิเคราะห์ภาพถ่ายทางการแพทย์เพื่อช่วยในการวินิจฉัยโรค\n",
        "- ระบบสนับสนุนการตัดสินใจทางคลินิก\n",
        "- การพัฒนายาและวัคซีนด้วย AI\n",
        "- การใช้ AI ในการวิเคราะห์ข้อมูลระบาดวิทยาและคาดการณ์การแพร่ระบาดของโรค\n",
        "\n",
        "3.4 ภาคการท่องเที่ยวและบริการ\n",
        "อุตสาหกรรมการท่องเที่ยวซึ่งเป็นหนึ่งในอุตสาหกรรมหลักของไทยก็ได้นำ AI มาประยุกต์ใช้ เช่น:\n",
        "- ระบบแนะนำสถานที่ท่องเที่ยวและร้านอาหารแบบส่วนตัว\n",
        "- การใช้ Chatbot ในการให้ข้อมูลและตอบคำถามนักท่องเที่ยว\n",
        "- ระบบจองและการบริหารจัดการโรงแรมอัจฉริยะ\n",
        "- การวิเคราะห์ข้อมูลพฤติกรรมนักท่องเที่ยวเพื่อการวางแผนการตลาด\n",
        "\n",
        "3.5 ภาคการศึกษา\n",
        "AI กำลังเปลี่ยนแปลงวงการการศึกษาไทย โดยมีการนำมาใช้ในรูปแบบต่างๆ เช่น:\n",
        "- ระบบการเรียนการสอนแบบปรับเหมาะ (Adaptive Learning)\n",
        "- การใช้ AI ในการตรวจข้อสอบและให้คำแนะนำแก่ผู้เรียน\n",
        "- การวิเคราะห์ข้อมูลผู้เรียนเพื่อปรับปรุงหลักสูตรและวิธีการสอน\n",
        "- การใช้ Chatbot เพื่อตอบคำถามและให้คำปรึกษาแก่นักเรียนนักศึกษา\n",
        "\n",
        "3.6 ภาคการขนส่งและโลจิสติกส์\n",
        "AI ถูกนำมาใช้ในการพัฒนาระบบขนส่งอัจฉริยะ (Smart Transportation) และเพิ่มประสิทธิภาพในการจัดการโลจิสติกส์ เช่น:\n",
        "- ระบบบริหารจัดการจราจรอัจฉริยะ\n",
        "- การวางแผนเส้นทางการขนส่งที่มีประสิทธิภาพ\n",
        "- ระบบคาดการณ์ความต้องการสินค้าและการจัดการสต็อก\n",
        "- การใช้หุ่นยนต์และระบบอัตโนมัติในคลังสินค้า\n",
        "\n",
        "4. โอกาสและความท้าทายของ AI ในประเทศไทย\n",
        "\n",
        "การพัฒนาและการใช้งาน AI ในประเทศไทยนำมาซึ่งทั้งโอกาสและความท้าทายหลายประการ:\n",
        "\n",
        "4.1 โอกาส\n",
        "- การเพิ่มขีดความสามารถในการแข่งขันของประเทศ: AI สามารถช่วยเพิ่มประสิทธิภาพและผลิตภาพในภาคธุรกิจและอุตสาหกรรม ซึ่งจะช่วยยกระดับความสามารถในการแข่งขันของประเทศไทยในเวทีโลก\n",
        "- การพัฒนาคุณภาพชีวิต: AI สามารถช่วยพัฒนาคุณภาพชีวิตของประชาชนในหลายด้าน เช่น การรักษาพยาบาล การศึกษา และการบริการสาธารณะ\n",
        "- การสร้างอาชีพและธุรกิจใหม่: การเติบโตของอุตสาหกรรม AI จะนำมาซึ่งโอกาสในการสร้างอาชีพและธุรกิจใหม่ๆ ในประเทศไทย\n",
        "- การแก้ไปไขปัญหาสังคมและสิ่งแวดล้อม: AI สามารถช่วยในการวิเคราะห์และแก้ไขปัญหาที่ซับซ้อน เช่น การจัดการทรัพยากรธรรมชาติ การลดมลพิษ และการแก้ไขปัญหาการจราจร\n",
        "4.2 ความท้าทาย\n",
        "\n",
        "การขาดแคลนบุคลากรที่มีทักษะด้าน AI: ประเทศไทยยังขาดแคลนบุคลากรที่มีความเชี่ยวชาญด้าน AI ทั้งนักวิจัย วิศวกร และผู้เชี่ยวชาญในการประยุกต์ใช้ AI ในภาคธุรกิจ\n",
        "ความเหลื่อมล้ำทางดิจิทัล: การนำ AI มาใช้อาจทำให้เกิดความเหลื่อมล้ำระหว่างผู้ที่สามารถเข้าถึงและใช้ประโยชน์จากเทคโนโลยีกับผู้ที่ไม่สามารถเข้าถึงได้\n",
        "ผลกระทบต่อการจ้างงาน: การนำ AI มาใช้อาจส่งผลให้เกิดการเปลี่ยนแปลงในตลาดแรงงาน โดยอาจทำให้งานบางประเภทหายไปหรือต้องปรับเปลี่ยนรูปแบบ\n",
        "ความปลอดภัยและความเป็นส่วนตัวของข้อมูล: การใช้ AI ต้องอาศัยข้อมูลจำนวนมาก จึงเกิดความกังวลเกี่ยวกับความปลอดภัยและความเป็นส่วนตัวของข้อมูล\n",
        "จริยธรรมและความโปร่งใสของ AI: การพัฒนาและใช้งาน AI ต้องคำนึงถึงประเด็นด้านจริยธรรมและความโปร่งใส เพื่อสร้างความเชื่อมั่นและการยอมรับในสังคม\n",
        "\n",
        "\n",
        "แนวทางการพัฒนา AI ในประเทศไทยในอนาคต\n",
        "\n",
        "เพื่อให้ประเทศไทยสามารถใช้ประโยชน์จาก AI ได้อย่างเต็มที่และรับมือกับความท้าทายที่เกิดขึ้น จำเป็นต้องมีแนวทางการพัฒนาที่ชัดเจนและครอบคลุม ดังนี้:\n",
        "5.1 การพัฒนาบุคลากร\n",
        "\n",
        "เร่งผลิตบุคลากรด้าน AI ทั้งในระดับอาชีวศึกษาและอุดมศึกษา\n",
        "ส่งเสริมการพัฒนาทักษะด้าน AI ให้กับบุคลากรในภาคธุรกิจและอุตสาหกรรม\n",
        "สร้างความร่วมมือกับสถาบันการศึกษาและบริษัทชั้นนำในต่างประเทศเพื่อแลกเปลี่ยนความรู้และประสบการณ์\n",
        "\n",
        "5.2 การส่งเสริมการวิจัยและพัฒนา\n",
        "\n",
        "เพิ่มงบประมาณสนับสนุนการวิจัยและพัฒนาด้าน AI\n",
        "สร้างความร่วมมือระหว่างภาครัฐ เอกชน และสถาบันการศึกษาในการวิจัยและพัฒนา AI\n",
        "ส่งเสริมการนำผลงานวิจัยไปใช้ในเชิงพาณิชย์และการแก้ปัญหาสังคม\n",
        "\n",
        "5.3 การพัฒนาโครงสร้างพื้นฐานและระบบนิเวศ\n",
        "\n",
        "พัฒนาโครงสร้างพื้นฐานด้านดิจิทัลและการสื่อสารให้ครอบคลุมและมีประสิทธิภาพ\n",
        "สร้างศูนย์ข้อมูลและคลังข้อมูลขนาดใหญ่เพื่อรองรับการพัฒนา AI\n",
        "ส่งเสริมการลงทุนในธุรกิจ Startup ด้าน AI และสร้างระบบนิเวศที่เอื้อต่อการพัฒนานวัตกรรม\n",
        "\n",
        "5.4 การส่งเสริมการใช้งาน AI ในภาคธุรกิจและอุตสาหกรรม\n",
        "\n",
        "ให้สิทธิประโยชน์ทางภาษีและการลงทุนสำหรับบริษัทที่นำ AI มาใช้ในการพัฒนาธุรกิจ\n",
        "สร้างความร่วมมือระหว่างภาครัฐและเอกชนในการพัฒนาโซลูชัน AI สำหรับอุตสาหกรรมเป้าหมาย\n",
        "จัดทำมาตรฐานและแนวปฏิบัติในการใช้งาน AI ในภาคธุรกิจและอุตสาหกรรม\n",
        "\n",
        "5.5 การสร้างความตระหนักรู้และการยอมรับในสังคม\n",
        "\n",
        "จัดกิจกรรมให้ความรู้และสร้างความเข้าใจเกี่ยวกับ AI แก่สาธารณชน\n",
        "ส่งเสริมการเรียนรู้เกี่ยวกับ AI ตั้งแต่ระดับการศึกษาขั้นพื้นฐาน\n",
        "สร้างเวทีแลกเปลี่ยนความคิดเห็นและหารือเกี่ยวกับผลกระทบของ AI ต่อสังคมและเศรษฐกิจ\n",
        "\n",
        "5.6 การพัฒนากฎหมายและจริยธรรม\n",
        "\n",
        "ปรับปรุงกฎหมายและระเบียบที่เกี่ยวข้องให้รองรับการพัฒนาและใช้งาน AI\n",
        "จัดทำแนวปฏิบัติด้านจริยธรรมสำหรับการพัฒนาและใช้งาน AI\n",
        "สร้างกลไกการกำกับดูแลการใช้งาน AI ที่มีประสิทธิภาพและโปร่งใส\n",
        "\"\"\""
      ]
    },
    {
      "cell_type": "code",
      "execution_count": 15,
      "metadata": {
        "id": "oaG3igwFxiQU"
      },
      "outputs": [],
      "source": [
        "prompt = f\"\"\"Please summarize the following article. \\\n",
        "Use a maximum of 50 sentences in thailanguage:\n",
        "\n",
        "```\n",
        "{Text}\n",
        "```\n",
        "\"\"\""
      ]
    },
    {
      "cell_type": "code",
      "execution_count": 18,
      "id": "5247f909",
      "metadata": {},
      "outputs": [],
      "source": [
        "import openai\n",
        "\n",
        "\n",
        "# Let's start using FUNCTIONS to simplify our API usage\n",
        "def complete(user_prompt, system_prompt):\n",
        "    completion = openai_client.chat.completions.create(\n",
        "        model=model_name,\n",
        "        messages=[\n",
        "            {\"role\": \"system\", \"content\": \"you are a helpful assistant.\"},\n",
        "            {\"role\": \"user\", \"content\": user_prompt},\n",
        "        ],\n",
        "        temperature=0.5,\n",
        "        max_tokens=4000,\n",
        "    )\n",
        "    return completion"
      ]
    },
    {
      "cell_type": "code",
      "execution_count": 19,
      "metadata": {
        "id": "PzQJleyoxiWi"
      },
      "outputs": [
        {
          "data": {
            "text/markdown": [
              "ปัญญาประดิษฐ์ (AI) กำลังเข้ามามีบทบาทสำคัญในการขับเคลื่อนเศรษฐกิจและสังคมของประเทศต่างๆ ทั่วโลก รวมถึงประเทศไทย รัฐบาลไทยได้ตระหนักถึงความสำคัญของ AI และได้กำหนดนโยบายและยุทธศาสตร์เพื่อส่งเสริมการพัฒนาและใช้งาน AI ในประเทศ โดยมีการจัดทำ \"ยุทธศาสตร์ปัญญาประดิษฐ์แห่งชาติ\" (National AI Strategy) ซึ่งมีเป้าหมายหลักในการยกระดับขีดความสามารถในการแข่งขันของประเทศ พัฒนาทรัพยากรมนุษย์ และสร้างระบบนิเวศที่เอื้อต่อการพัฒนา AI\n",
              "\n",
              "ประเทศไทยได้มีความก้าวหน้าในการพัฒนา AI อย่างต่อเนื่อง โดยมีการดำเนินการในหลายด้าน เช่น การวิจัยและพัฒนา, การพัฒนาบุคลากร, และการสร้างระบบนิเวศ AI นอกจากนี้ ยังมีการนำ AI มาประยุกต์ใช้ในหลากหลายภาคส่วนของประเทศไทย ทั้งในภาครัฐและเอกชน เช่น ภาคการเงินและการธนาคาร, ภาคการเกษตร, ภาคการแพทย์และสาธารณสุข, ภาคการท่องเที่ยวและบริการ, ภาคการศึกษา, และภาคการขนส่งและโลจิสติกส์\n",
              "\n",
              "แต่ยังมีความท้าทายหลายประการที่ต้องเผชิญ เช่น การขาดแคลนบุคลากรที่มีทักษะด้าน AI, ความเหลื่อมล้ำทางดิจิทัล, ผลกระทบต่อการจ้างงาน, ความปลอดภัยและความเป็นส่วนตัวของข้อมูล, และจริยธรรมและความโปร่งใสของ AI\n",
              "\n",
              "เพื่อให้ประเทศไทยสามารถใช้ประโยชน์จาก AI ได้อย่างเต็มที่และรับมือกับความท้าทายที่เกิดขึ้น จำเป็นต้องมีแนวทางการพัฒนาที่ชัดเจนและครอบคลุม เช่น การพัฒนาบุคลากร, การส่งเสริมการวิจัยและพัฒนา, การพัฒนาโครงสร้างพื้นฐานและระบบนิเวศ, การส่งเสริมการใช้งาน AI ในภาคธุรกิจและอุตสาหกรรม, การสร้างความตระหนักรู้และการยอมรับในสังคม, และการพัฒนากฎหมายและจริยธรรม."
            ],
            "text/plain": [
              "<IPython.core.display.Markdown object>"
            ]
          },
          "execution_count": 19,
          "metadata": {},
          "output_type": "execute_result"
        }
      ],
      "source": [
        "completion = complete(prompt, system_prompt=\"\")\n",
        "IPython.display.Markdown(completion.choices[0].message.content) "
      ]
    },
    {
      "cell_type": "markdown",
      "metadata": {
        "id": "PFJd4PmsxjKb"
      },
      "source": [
        "![](https://deeplearningcourses.com/notebooks_v3_pxl?sc=AVRK7SgM9ASkQf5TAqs_wA&n=Summarize)"
      ]
    },
    {
      "cell_type": "markdown",
      "id": "8d7f3934",
      "metadata": {},
      "source": [
        "# Open AI results"
      ]
    },
    {
      "cell_type": "code",
      "execution_count": 21,
      "id": "c6dfafa5",
      "metadata": {},
      "outputs": [],
      "source": [
        "import os\n",
        "from openai import OpenAI\n",
        "\n",
        "openai_client = OpenAI(api_key=os.getenv(\"OPENAI_API_KEY\"))\n",
        "model_name = \"gpt-3.5-turbo\"    "
      ]
    },
    {
      "cell_type": "code",
      "execution_count": 22,
      "id": "2421e4f9",
      "metadata": {},
      "outputs": [
        {
          "data": {
            "text/markdown": [
              "ปัญญาประดิษฐ์ (AI) กำลังมีบทบาทสำคัญในการขับเคลื่อนเศรษฐกิจและสังคมของประเทศไทย โดยรัฐบาลไทยได้กำหนดนโยบายและยุทธศาสตร์เพื่อส่งเสริมการพัฒนาและใช้งาน AI ในประเทศ ยุทธศาสตร์นี้ครอบคลุมหลายมิติ เช่นการพัฒนาโครงสร้างพื้นฐานด้านดิจิทัล การส่งเสริมการวิจัยและพัฒนา AI การพัฒนาบุคลากรด้าน AI และการสร้างระบบนิเวศที่เอื้อต่อการพัฒนา AI ในประเทศไทย นอกจากนี้ มีการพัฒนา AI ในหลายภาคส่วน เช่นในภาคการเงิน การเกษตร การแพทย์ การท่องเที่ยว การศึกษา และการขนส่ง โอกาสที่เกิดขึ้นจากการพัฒนา AI ในประเทศไทยรวมถึงการเพิ่มขีดความสามารถในการแข่งขันของประเทศ การพัฒนาคุณภาพชีวิต การสร้างอาชีพและธุรกิจใหม่ และการแก้ไขปัญหาสังคมและสิ่งแวดล้อม อย่างไรก็ตาม ยังมีความท้าทายเช่นการขาดแคลนบุคลากรที่มีทักษะด้าน AI ความเหลื่อมล้ำทางดิจิทัล ผลกระทบต่อการจ้างงาน ความปลอดภัยและความเป็นส่วนตัวของข้อมูล และจริยธรรมและความโปร่งใสของ AI ดังนั้น การพัฒนา AI ในประเทศไทยต้องมีแนวทางการพัฒนาที่ชัดเจนและครอบคลุม เช่นการเร่งผลิตบุคลากรด้าน AI การส่งเสริมการวิจัยและพัฒนา การพัฒนาโครงสร้างพื้นฐานและระบบนิเวศ การส่งเสริมการใช้งาน AI ในภาคธุรกิจและอุตสาหกรรม การสร้างความตระหนักรู้และการยอมรับในสังคม และการพัฒนากฎหมายและจริยธรรมในการใช้งาน AI ในประเทศไทย "
            ],
            "text/plain": [
              "<IPython.core.display.Markdown object>"
            ]
          },
          "execution_count": 22,
          "metadata": {},
          "output_type": "execute_result"
        }
      ],
      "source": [
        "\n",
        "# Let's start using FUNCTIONS to simplify our API usage\n",
        "def complete(user_prompt, system_prompt):\n",
        "    completion = openai_client.chat.completions.create(\n",
        "        model=model_name,\n",
        "        messages=[\n",
        "            {\"role\": \"system\", \"content\": \"you are a helpful assistant.\"},\n",
        "            {\"role\": \"user\", \"content\": user_prompt},\n",
        "        ],\n",
        "        temperature=0.5,\n",
        "        max_tokens=4000,\n",
        "    )\n",
        "    return completion\n",
        "\n",
        "completion = complete(prompt, system_prompt=\"\")\n",
        "IPython.display.Markdown(completion.choices[0].message.content) "
      ]
    },
    {
      "cell_type": "code",
      "execution_count": 23,
      "id": "509ea74d",
      "metadata": {},
      "outputs": [
        {
          "data": {
            "text/markdown": [
              "ปัญญาประดิษฐ์ (AI) ในประเทศไทย: โอกาสและความท้าทาย\n",
              "\n",
              "ในยุคที่เทคโนโลยีก้าวหน้าอย่างรวดเร็ว AI กำลังมีบทบาทสำคัญในการขับเคลื่อนเศรษฐกิจและสังคมของประเทศต่างๆ รวมถึงประเทศไทย รัฐบาลไทยได้ตระหนักถึงความสำคัญของ AI และได้กำหนดยุทธศาสตร์และนโยบายเพื่อส่งเสริมการพัฒนาและใช้งาน AI ในประเทศ เช่น ยุทธศาสตร์ปัญญาประดิษฐ์แห่งชาติ ซึ่งมีเป้าหมายหลักในการยกระดับขีดความสามารถในการแข่งขันของประเทศ พัฒนาทรัพยากรมนุษย์ และสร้างระบบนิเวศที่เอื้อต่อการพัฒนา AI\n",
              "\n",
              "ประเทศไทยได้มีความก้าวหน้าในการพัฒนา AI อย่างต่อเนื่อง โดยมีการวิจัยและพัฒนาในมหาวิทยาลัยและสถาบันวิจัยชั้นนำ การพัฒนาบุคลากรที่มีความเชี่ยวชาญด้าน AI และการสร้างระบบนิเวศที่เอื้อต่อการพัฒนา AI เช่น การส่งเสริมการลงทุนในธุรกิจ Startup ด้าน AI\n",
              "\n",
              "AI ถูกนำมาประยุกต์ใช้ในหลากหลายภาคส่วนของประเทศไทย เช่น ภาคการเงินและการธนาคาร ภาคการเกษตร ภาคการแพทย์และสาธารณสุข ภาคการท่องเที่ยวและบริการ ภาคการศึกษา และภาคการขนส่งและโลจิสติกส์\n",
              "\n",
              "การพัฒนาและการใช้งาน AI ในประเทศไทยนำมาซึ่งโอกาสหลายประการ เช่น การเพิ่มขีดความสามารถในการแข่งขันของประเทศ การพัฒนาคุณภาพชีวิต การสร้างอาชีพและธุรกิจใหม่ และการแก้ไขปัญหาสังคมและสิ่งแวดล้อม อย่างไรก็ตาม ยังมีความท้าทายหลายประการ เช่น การขาดแคลนบุคลากรที่มีทักษะด้าน AI ความเหลื่อมล้ำทางดิจิทัล ผลกระทบต่อการจ้างงาน ความปลอดภัยและความเป็นส่วนตัวของข้อมูล และจริยธรรมและความโปร่งใสของ AI\n",
              "\n",
              "เพื่อให้ประเทศไทยสามารถใช้ประโยชน์จาก AI ได้อย่างเต็มที่และรับมือกับความท้าทายที่เกิดขึ้น จำเป็นต้องมีแนวทางการพัฒนาที่ชัดเจนและครอบคลุม เช่น การพัฒนาบุคลากร การส่งเสริมการวิจัยและพัฒนา การพัฒนาโครงสร้างพื้นฐานและระบบนิเวศ การส่งเสริมการใช้งาน AI ในภาคธุรกิจและอุตสาหกรรม การสร้างความตระหนักรู้และการยอมรับในสังคม และการพัฒนากฎหมายและจริยธรรม"
            ],
            "text/plain": [
              "<IPython.core.display.Markdown object>"
            ]
          },
          "execution_count": 23,
          "metadata": {},
          "output_type": "execute_result"
        }
      ],
      "source": [
        "import os\n",
        "from openai import OpenAI\n",
        "\n",
        "openai_client = OpenAI(api_key=os.getenv(\"OPENAI_API_KEY\"))\n",
        "model_name = \"gpt-4o\"    \n",
        "\n",
        "\n",
        "# Let's start using FUNCTIONS to simplify our API usage\n",
        "def complete(user_prompt, system_prompt):\n",
        "    completion = openai_client.chat.completions.create(\n",
        "        model=model_name,\n",
        "        messages=[\n",
        "            {\"role\": \"system\", \"content\": \"you are a helpful assistant.\"},\n",
        "            {\"role\": \"user\", \"content\": user_prompt},\n",
        "        ],\n",
        "        temperature=0.5,\n",
        "        max_tokens=4000,\n",
        "    )\n",
        "    return completion\n",
        "\n",
        "completion = complete(prompt, system_prompt=\"\")\n",
        "IPython.display.Markdown(completion.choices[0].message.content) "
      ]
    },
    {
      "cell_type": "code",
      "execution_count": null,
      "id": "9664b029",
      "metadata": {},
      "outputs": [],
      "source": []
    }
  ],
  "metadata": {
    "kernelspec": {
      "display_name": "torch",
      "language": "python",
      "name": "python3"
    },
    "language_info": {
      "codemirror_mode": {
        "name": "ipython",
        "version": 3
      },
      "file_extension": ".py",
      "mimetype": "text/x-python",
      "name": "python",
      "nbconvert_exporter": "python",
      "pygments_lexer": "ipython3",
      "version": "3.12.7"
    },
    "sc": "AVRK7SgM9ASkQf5TAqs_wA"
  },
  "nbformat": 4,
  "nbformat_minor": 5
}
