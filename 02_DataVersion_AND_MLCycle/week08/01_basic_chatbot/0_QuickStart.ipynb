{
  "cells": [
    {
      "cell_type": "markdown",
      "id": "68149d4d",
      "metadata": {},
      "source": [
        "https://opentyphoon.ai/\n",
        "\n",
        "\n",
        "\n",
        "https://platform.openai.com/"
      ]
    },
    {
      "cell_type": "markdown",
      "id": "681c4136",
      "metadata": {},
      "source": []
    },
    {
      "cell_type": "code",
      "execution_count": 2,
      "id": "9d-tCwZlhUMl",
      "metadata": {
        "colab": {
          "base_uri": "https://localhost:8080/"
        },
        "id": "9d-tCwZlhUMl",
        "outputId": "46a1cfbd-5f63-42da-8c3e-dd7790b69717"
      },
      "outputs": [
        {
          "name": "stdout",
          "output_type": "stream",
          "text": [
            "Notebook cleaned.\n"
          ]
        }
      ],
      "source": [
        "import IPython\n",
        "import sys\n",
        "\n",
        "def clean_notebook():\n",
        "    IPython.display.clear_output(wait=True)\n",
        "    print(\"Notebook cleaned.\")\n",
        "\n",
        "!pip install openai\n",
        "!pip install gradio\n",
        "!pip install python-dotenv\n",
        "\n",
        "# Clean up the notebook\n",
        "clean_notebook()"
      ]
    },
    {
      "cell_type": "code",
      "execution_count": 4,
      "id": "cd1e86b8",
      "metadata": {},
      "outputs": [
        {
          "name": "stdout",
          "output_type": "stream",
          "text": [
            "Writing .env\n"
          ]
        }
      ],
      "source": [
        "%%writefile .env\n",
        "OPENAI_API_KEY=your_api_key_here\n",
        "OPENTYPHOON_API_KEY=api_key_here\n",
        "DEEPSEEK_API_KEY=api_key_here"
      ]
    },
    {
      "cell_type": "code",
      "execution_count": 2,
      "id": "0a376083",
      "metadata": {},
      "outputs": [
        {
          "name": "stderr",
          "output_type": "stream",
          "text": [
            "Python-dotenv could not parse statement starting at line 1\n"
          ]
        },
        {
          "data": {
            "text/plain": [
              "True"
            ]
          },
          "execution_count": 2,
          "metadata": {},
          "output_type": "execute_result"
        }
      ],
      "source": [
        "import os\n",
        "from openai import OpenAI\n",
        "from dotenv import load_dotenv\n",
        "\n",
        "# Load environment variables\n",
        "load_dotenv()"
      ]
    },
    {
      "cell_type": "code",
      "execution_count": 6,
      "id": "71cb7542",
      "metadata": {},
      "outputs": [],
      "source": [
        "import os\n",
        "from openai import OpenAI\n",
        "\n",
        "#openai_client = OpenAI(api_key=os.getenv(\"OPENAI_API_KEY\"))\n",
        "#model_name = \"gpt-3.5-turbo\"    \n",
        "\n",
        "openai_client = OpenAI(api_key=os.environ.get(\"OPENTYPHOON_API_KEY\"),base_url=\"https://api.opentyphoon.ai/v1\")\n",
        "model_name = \"typhoon-v1.5-instruct\""
      ]
    },
    {
      "cell_type": "markdown",
      "id": "YJ27phAZjzvA",
      "metadata": {
        "id": "YJ27phAZjzvA"
      },
      "source": [
        "# Basic"
      ]
    },
    {
      "cell_type": "code",
      "execution_count": 7,
      "id": "kGruE_KtiRpo",
      "metadata": {
        "colab": {
          "base_uri": "https://localhost:8080/"
        },
        "id": "kGruE_KtiRpo",
        "outputId": "d8d835b2-1d6a-425d-c98b-312851f485e8"
      },
      "outputs": [
        {
          "name": "stdout",
          "output_type": "stream",
          "text": [
            "แน่นอนครับ! ข้าวผัดกระเพราไก่เป็นเมนูที่ง่ายและอร่อยมากๆ วันนี้ผมจะสอนคุณทำดังนี้:\n",
            "\n",
            "ส่วนผสม:\n",
            "1. ไก่สดหรือไก่แปรรูป (เช่น ไก่ย่าง, ไก่ทอด)\n",
            "2. กระเพรา\n",
            "3. ข้าวสวย\n",
            "4. พริกไทย\n",
            "5. น้ำมันหอย\n",
            "6. ซอสปรุงรส\n",
            "7. น้ำตาล\n",
            "8. เกลือ\n",
            "9. ใบกะเพราแห้ง\n",
            "\n",
            "วิธีทำ:\n",
            "1. เริ่มจากการหั่นไก่เป็นชิ้นๆ ขนาดพอดีคำ\n",
            "2. ตั้งกระทะบนไฟกลาง แล้วใส่น้ำมันเล็กน้อย\n",
            "3. นำไก่ที่หั่นไว้ลงไปทอดในกระทะ จนไก่สุกและมีสีเหลืองทอง\n",
            "4. เมื่อไก่สุกแล้ว ให้นำออกจากกระทะ แล้ววางไว้\n",
            "5. ในกระทะเดียวกัน ใส่น้ำมันเล็กน้อย แล้วนำกระเพราที่หั่นไว้ลงไปผัด\n",
            "6. ผัดกระเพราจนเริ่มส่งกลิ่นหอม แล้วใส่พริกไทย, น้ำมันหอย, ซอสปรุงรส, น้ำตาล และเกลือ ตามชอบ\n",
            "7. ผัดจนกระเพราสุกและมีกลิ่นหอม\n",
            "8. นำไก่ที่ทอดไว้ลงไปผัดในกระเพรา\n",
            "9. ผัดไก่และกระเพราจนเข้ากัน\n",
            "10. ทดสอบรสชาติ หากยังไม่\n"
          ]
        }
      ],
      "source": [
        "user_prompt = \"ขอวิธีทำข้าวผัดกระเพราไก่หน่อยครับ\"\n",
        "\n",
        "completion = openai_client.chat.completions.create(\n",
        "    model=model_name ,\n",
        "    messages=[\n",
        "        {\"role\": \"user\", \"content\": user_prompt},\n",
        "    ],\n",
        "    temperature=0.8,\n",
        "    max_tokens=400,\n",
        ")\n",
        "\n",
        "response = completion.choices[0].message.content\n",
        "print(response)"
      ]
    },
    {
      "cell_type": "code",
      "execution_count": 8,
      "id": "28fcff98",
      "metadata": {
        "colab": {
          "base_uri": "https://localhost:8080/",
          "height": 591
        },
        "id": "28fcff98",
        "outputId": "980889c9-9775-4fed-f0c3-aa5c935b0c33"
      },
      "outputs": [
        {
          "name": "stdout",
          "output_type": "stream",
          "text": [
            "* Running on local URL:  http://127.0.0.1:7860\n",
            "* Running on public URL: https://c6ad37013bf007435d.gradio.live\n",
            "\n",
            "This share link expires in 72 hours. For free permanent hosting and GPU upgrades, run `gradio deploy` from the terminal in the working directory to deploy to Hugging Face Spaces (https://huggingface.co/spaces)\n"
          ]
        },
        {
          "data": {
            "text/html": [
              "<div><iframe src=\"https://c6ad37013bf007435d.gradio.live\" width=\"100%\" height=\"500\" allow=\"autoplay; camera; microphone; clipboard-read; clipboard-write;\" frameborder=\"0\" allowfullscreen></iframe></div>"
            ],
            "text/plain": [
              "<IPython.core.display.HTML object>"
            ]
          },
          "metadata": {},
          "output_type": "display_data"
        },
        {
          "data": {
            "text/plain": []
          },
          "execution_count": 8,
          "metadata": {},
          "output_type": "execute_result"
        }
      ],
      "source": [
        "import gradio as gr\n",
        "\n",
        "\n",
        "# Example prompts\n",
        "examples = [\n",
        "    [\"บอกวิธีเลี้ยงแมว 7 ตัว\"],\n",
        "    [\"เล่าประวัติของกรุงเทพมหานคร\"],\n",
        "    [\"วิธีการทำอาหารไทยยอดนิยม\"],\n",
        "    [\"แนะนำสถานที่ท่องเที่ยวในประเทศไทย\"],\n",
        "    [\"เขียนบทความเกี่ยวกับการดูแลสุขภาพจิต\"]\n",
        "]\n",
        "\n",
        "def chat(user_prompt,temperature, max_token=256):\n",
        "        completion = openai_client.chat.completions.create(\n",
        "        model=model_name ,\n",
        "        messages=[\n",
        "            {\"role\": \"user\", \"content\": user_prompt},\n",
        "        ],\n",
        "        temperature=0.8,\n",
        "        max_tokens=400,\n",
        "        )\n",
        "\n",
        "        response = completion.choices[0].message.content\n",
        "        return response\n",
        "\n",
        "\n",
        "# Create Gradio interface\n",
        "interface = gr.Interface(\n",
        "    fn=chat,\n",
        "    inputs=[\n",
        "        gr.Textbox(lines=2, placeholder=\"Enter your prompt here...\"),\n",
        "        gr.Slider(minimum=0.1, maximum=1.0, step=0.1, value=0.85, label=\"Temperature\"),\n",
        "        gr.Slider(minimum=0.1, maximum=1024, step=1, value=256, label=\"token\")\n",
        "    ],\n",
        "    outputs=gr.Textbox(lines=5),\n",
        "    title=\"Thai Language Blog Generator\",\n",
        "    description=\"Enter a topic to generate a well-structured 256-word Thai language blog.\",\n",
        "    examples=examples\n",
        ")\n",
        "\n",
        "# Launch the interface\n",
        "interface.launch(share=True)"
      ]
    },
    {
      "cell_type": "code",
      "execution_count": null,
      "id": "S0acXBWCxiJL",
      "metadata": {
        "id": "S0acXBWCxiJL"
      },
      "outputs": [],
      "source": []
    },
    {
      "cell_type": "code",
      "execution_count": null,
      "id": "oaG3igwFxiQU",
      "metadata": {
        "id": "oaG3igwFxiQU"
      },
      "outputs": [],
      "source": []
    },
    {
      "cell_type": "code",
      "execution_count": null,
      "id": "PzQJleyoxiWi",
      "metadata": {
        "id": "PzQJleyoxiWi"
      },
      "outputs": [],
      "source": []
    },
    {
      "cell_type": "markdown",
      "id": "PFJd4PmsxjKb",
      "metadata": {
        "id": "PFJd4PmsxjKb"
      },
      "source": [
        "![](https://deeplearningcourses.com/notebooks_v3_pxl?sc=AVRK7SgM9ASkQf5TAqs_wA&n=Quick+Start)"
      ]
    }
  ],
  "metadata": {
    "colab": {
      "provenance": []
    },
    "kernelspec": {
      "display_name": "torch",
      "language": "python",
      "name": "python3"
    },
    "language_info": {
      "codemirror_mode": {
        "name": "ipython",
        "version": 3
      },
      "file_extension": ".py",
      "mimetype": "text/x-python",
      "name": "python",
      "nbconvert_exporter": "python",
      "pygments_lexer": "ipython3",
      "version": "3.12.7"
    },
    "sc": "AVRK7SgM9ASkQf5TAqs_wA"
  },
  "nbformat": 4,
  "nbformat_minor": 5
}
