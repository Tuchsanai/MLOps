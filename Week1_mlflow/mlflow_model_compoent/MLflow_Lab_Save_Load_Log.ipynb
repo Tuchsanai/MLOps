{
 "cells": [
  {
   "cell_type": "markdown",
   "id": "fdd53a7f",
   "metadata": {},
   "source": [
    "# 🧪 MLflow Lab: Save • Load • Log (Thai/English)"
   ]
  },
  {
   "cell_type": "markdown",
   "id": "074aac85",
   "metadata": {},
   "source": [
    "\n",
    "**วัตถุประสงค์ (Objectives)**  \n",
    "- เรียนรู้การใช้งาน **MLflow Model**: `save_model`, `load_model`, `log_model`  \n",
    "- เข้าใจความแตกต่างและการใช้งานที่เหมาะสมของ **Save vs Load vs Log**  \n",
    "- ติดตามการทดลองด้วย **Tracking URI/Experiment/Run** และตรวจสอบผลผ่าน **MLflow UI**  \n",
    "- (เสริม) ใช้ **autolog**, **signature**, **input_example**, และโหลดโมเดลแบบ **pyfunc**\n",
    "\n",
    "> **Environment Note:** ให้ติดตั้งแพ็กเกจก่อน (ในเครื่องผู้เรียน):\n",
    "> ```bash\n",
    "> pip install mlflow scikit-learn pandas numpy\n",
    "> # (ตัวเลือก) เปิด UI ในโฟลเดอร์ที่มี mlruns\n",
    "> mlflow ui --backend-store-uri mlruns --port 5000\n",
    "> ```\n",
    "\n",
    "---\n",
    "\n",
    "## Dataset\n",
    "ในตัวอย่างนี้ใช้ข้อมูลสังเคราะห์จาก `sklearn.datasets.make_regression` เพื่อความสะดวก (ไม่มี dependency ข้อมูลภายนอก)\n"
   ]
  },
  {
   "cell_type": "code",
   "execution_count": null,
   "id": "605cfad8",
   "metadata": {},
   "outputs": [],
   "source": [
    "\n",
    "# --- Basic Imports ---\n",
    "import os, warnings, json, shutil, tempfile, time\n",
    "import numpy as np\n",
    "import pandas as pd\n",
    "\n",
    "from sklearn.datasets import make_regression\n",
    "from sklearn.model_selection import train_test_split\n",
    "from sklearn.linear_model import ElasticNet\n",
    "from sklearn.metrics import mean_squared_error, r2_score\n",
    "\n",
    "import mlflow\n",
    "import mlflow.sklearn\n",
    "from mlflow.models.signature import infer_signature\n",
    "\n",
    "warnings.filterwarnings('ignore')\n",
    "\n",
    "print('MLflow version:', mlflow.__version__)\n"
   ]
  },
  {
   "cell_type": "code",
   "execution_count": null,
   "id": "12e95903",
   "metadata": {},
   "outputs": [],
   "source": [
    "\n",
    "# --- Create Synthetic Regression Dataset ---\n",
    "X, y = make_regression(\n",
    "    n_samples=1500, n_features=20, n_informative=10,\n",
    "    noise=0.3, random_state=42\n",
    ")\n",
    "\n",
    "X = pd.DataFrame(X, columns=[f\"f{i}\" for i in range(X.shape[1])])\n",
    "y = pd.Series(y, name=\"target\")\n",
    "\n",
    "X_train, X_test, y_train, y_test = train_test_split(\n",
    "    X, y, test_size=0.2, random_state=7\n",
    ")\n",
    "\n",
    "X_train.shape, X_test.shape\n"
   ]
  },
  {
   "cell_type": "markdown",
   "id": "86fef90e",
   "metadata": {},
   "source": [
    "\n",
    "## 1) ตั้งค่า Tracking URI / Experiment\n",
    "- **Tracking URI**: กำหนดที่เก็บข้อมูล run และ artifacts (ที่นี่ใช้โฟลเดอร์ `mlruns`)\n",
    "- **Experiment**: ชื่อกลุ่มการทดลองสำหรับรายวิชา/แลป\n"
   ]
  },
  {
   "cell_type": "code",
   "execution_count": null,
   "id": "ad037a4b",
   "metadata": {},
   "outputs": [],
   "source": [
    "\n",
    "# --- Set up local tracking ---\n",
    "mlruns_dir = os.path.abspath(\"mlruns\")\n",
    "os.makedirs(mlruns_dir, exist_ok=True)\n",
    "\n",
    "mlflow.set_tracking_uri(f\"file://{mlruns_dir}\")\n",
    "experiment_name = \"MLflow-Lab-Models-Save-Load-Log\"\n",
    "mlflow.set_experiment(experiment_name)\n",
    "\n",
    "print(\"Tracking URI:\", mlflow.get_tracking_uri())\n",
    "exp = mlflow.get_experiment_by_name(experiment_name)\n",
    "print(\"Experiment:\", exp)\n"
   ]
  },
  {
   "cell_type": "markdown",
   "id": "dea17032",
   "metadata": {},
   "source": [
    "\n",
    "## 2) Train & Evaluate (Baseline)\n",
    "- สร้างโมเดล **ElasticNet** (เหมาะกับตัวอย่าง regression)\n",
    "- คำนวณ metric: **RMSE** และ **R²**\n"
   ]
  },
  {
   "cell_type": "code",
   "execution_count": null,
   "id": "e9f31fd4",
   "metadata": {},
   "outputs": [],
   "source": [
    "\n",
    "# --- Train baseline model ---\n",
    "alpha, l1_ratio = 0.1, 0.5\n",
    "model = ElasticNet(alpha=alpha, l1_ratio=l1_ratio, random_state=42)\n",
    "model.fit(X_train, y_train)\n",
    "\n",
    "y_pred = model.predict(X_test)\n",
    "rmse = mean_squared_error(y_test, y_pred, squared=False)\n",
    "r2   = r2_score(y_test, y_pred)\n",
    "\n",
    "print(f\"Baseline | alpha={alpha}, l1_ratio={l1_ratio}\")\n",
    "print(\"RMSE:\", round(rmse, 4))\n",
    "print(\"R^2 :\", round(r2, 4))\n"
   ]
  },
  {
   "cell_type": "markdown",
   "id": "e13e6923",
   "metadata": {},
   "source": [
    "\n",
    "## 3) **Save / Load** (Local Filesystem)\n",
    "- `mlflow.sklearn.save_model(model, path)` เพื่อบันทึกเป็นไฟล์ภายในเครื่อง\n",
    "- `mlflow.sklearn.load_model(path)` เพื่อโหลดกลับมาใช้งานใหม่\n",
    "- ใช้เมื่อยังไม่ต้องการผูกกับ Experiment/Run (เช่น ต้นแบบอย่างรวดเร็ว)\n"
   ]
  },
  {
   "cell_type": "code",
   "execution_count": null,
   "id": "fbbc227b",
   "metadata": {},
   "outputs": [],
   "source": [
    "\n",
    "# --- Save & Load locally ---\n",
    "local_model_dir = \"models_local/elasticnet_model\"\n",
    "# เคลียร์ก่อน\n",
    "if os.path.exists(local_model_dir):\n",
    "    shutil.rmtree(local_model_dir)\n",
    "\n",
    "mlflow.sklearn.save_model(model, local_model_dir)\n",
    "print(\"Saved local model dir:\", local_model_dir)\n",
    "\n",
    "loaded_local = mlflow.sklearn.load_model(local_model_dir)\n",
    "print(\"Loaded model type:\", type(loaded_local))\n",
    "\n",
    "# Sanity check\n",
    "y_pred2 = loaded_local.predict(X_test)\n",
    "rmse2 = mean_squared_error(y_test, y_pred2, squared=False)\n",
    "print(\"RMSE (loaded):\", round(rmse2, 4))\n"
   ]
  },
  {
   "cell_type": "markdown",
   "id": "3f571457",
   "metadata": {},
   "source": [
    "\n",
    "## 4) **Log Model** กับ MLflow Tracking\n",
    "- ใช้ `mlflow.start_run()` เพื่อเริ่มต้น run  \n",
    "- `mlflow.log_params`, `mlflow.log_metrics` และ `mlflow.sklearn.log_model`\n",
    "- ข้อดี: บริหาร version, เทียบผล, แนบ artifacts, สืบค้นย้อนหลัง\n"
   ]
  },
  {
   "cell_type": "code",
   "execution_count": null,
   "id": "d36337bb",
   "metadata": {},
   "outputs": [],
   "source": [
    "\n",
    "# --- Log Model to MLflow Tracking ---\n",
    "with mlflow.start_run(run_name=\"elasticnet-baseline\"):\n",
    "    # 4.1 log params & metrics\n",
    "    mlflow.log_params({\"alpha\": alpha, \"l1_ratio\": l1_ratio})\n",
    "    mlflow.log_metrics({\"rmse\": rmse, \"r2\": r2})\n",
    "    \n",
    "    # 4.2 add signature & input_example\n",
    "    signature = infer_signature(X_train, model.predict(X_train))\n",
    "    input_example = X_train.iloc[:5]\n",
    "    \n",
    "    # 4.3 log the model (artifacts under \"model\")\n",
    "    mlflow.sklearn.log_model(\n",
    "        sk_model=model,\n",
    "        artifact_path=\"model\",\n",
    "        signature=signature,\n",
    "        input_example=input_example,\n",
    "        registered_model_name=None  # ใช้ Registry ได้ถ้าตั้งค่าฐานข้อมูล/Server\n",
    "    )\n",
    "    \n",
    "    run_info = mlflow.active_run().info\n",
    "    print(\"Logged to Run ID:\", run_info.run_id)\n",
    "    print(\"Artifact URI:\", mlflow.get_artifact_uri())\n"
   ]
  },
  {
   "cell_type": "markdown",
   "id": "1a0046ba",
   "metadata": {},
   "source": [
    "\n",
    "## 5) Load จาก **Run** ที่ Log แล้ว (pyfunc)\n",
    "- ดึง `run_id` และ path ของโมเดลใน artifacts: `runs:/<run_id>/model`\n",
    "- ใช้ `mlflow.pyfunc.load_model` เพื่อโหลดแบบ framework-independent (pyfunc)\n"
   ]
  },
  {
   "cell_type": "code",
   "execution_count": null,
   "id": "824f98df",
   "metadata": {},
   "outputs": [],
   "source": [
    "\n",
    "# --- Load back the logged model via runs:/ URI ---\n",
    "# หา run ล่าสุดใน experiment เพื่อง่ายต่อการสาธิต\n",
    "client = mlflow.tracking.MlflowClient()\n",
    "runs = client.search_runs(exp.experiment_id, order_by=[\"attributes.start_time DESC\"], max_results=1)\n",
    "assert len(runs) > 0, \"No runs found\"\n",
    "last_run = runs[0]\n",
    "\n",
    "model_uri = f\"runs:/{last_run.info.run_id}/model\"\n",
    "pyfunc_model = mlflow.pyfunc.load_model(model_uri)\n",
    "\n",
    "# Predict via pyfunc\n",
    "y_pred3 = pyfunc_model.predict(X_test)\n",
    "rmse3 = mean_squared_error(y_test, y_pred3, squared=False)\n",
    "print(\"Loaded via pyfunc | RMSE:\", round(rmse3, 4))\n",
    "print(\"Model URI:\", model_uri)\n"
   ]
  },
  {
   "cell_type": "markdown",
   "id": "992b08b9",
   "metadata": {},
   "source": [
    "\n",
    "## 6) (เสริม) Autolog\n",
    "- `mlflow.sklearn.autolog()` จะช่วยบันทึก params/metrics/model โดยอัตโนมัติ\n",
    "- ใช้สะดวกในการทดลองหลายรอบ\n"
   ]
  },
  {
   "cell_type": "code",
   "execution_count": null,
   "id": "2dfc507c",
   "metadata": {},
   "outputs": [],
   "source": [
    "\n",
    "# --- Autolog demo ---\n",
    "mlflow.sklearn.autolog(log_input_examples=True, silent=True)\n",
    "\n",
    "with mlflow.start_run(run_name=\"elasticnet-autolog\"):\n",
    "    mdl2 = ElasticNet(alpha=0.2, l1_ratio=0.7, random_state=7)\n",
    "    mdl2.fit(X_train, y_train)\n",
    "    y2 = mdl2.predict(X_test)\n",
    "    rmse_auto = mean_squared_error(y_test, y2, squared=False)\n",
    "    r2_auto = r2_score(y_test, y2)\n",
    "    # แม้ไม่ log เอง MLflow จะบันทึกหลายอย่างให้อัตโนมัติ\n",
    "    print(\"Autolog RMSE:\", round(rmse_auto, 4), \"| R^2:\", round(r2_auto, 4))\n"
   ]
  },
  {
   "cell_type": "markdown",
   "id": "d2937deb",
   "metadata": {},
   "source": [
    "\n",
    "## 7) สรุป (Summary)\n",
    "- **Save**: เก็บโมเดลลงไฟล์ local → เหมาะกับต้นแบบ/ทดสอบเร็ว ๆ  \n",
    "- **Load**: โหลดโมเดลกลับมา predict ได้ทันที  \n",
    "- **Log**: เก็บรวมกับ **Experiment/Run** → เหมาะกับงานจริง, ทำซ้ำได้, เทียบผลได้, แนบ metadata/artifacts  \n",
    "- **pyfunc**: โหลดโมเดลแบบ agnostic ต่อ framework  \n",
    "- **autolog**: สะดวก บันทึกหลายอย่างให้โดยอัตโนมัติ\n",
    "\n",
    "> เปิด UI เพื่อดูผลลัพธ์:\n",
    "> ```bash\n",
    "> mlflow ui --backend-store-uri mlruns --port 5000\n",
    "> # เปิดเบราว์เซอร์ไปที่: http://127.0.0.1:5000\n",
    "> ```\n"
   ]
  },
  {
   "cell_type": "markdown",
   "id": "17b23f88",
   "metadata": {},
   "source": [
    "\n",
    "---\n",
    "\n",
    "## 🔐 แบบฝึกหัด (Exercises)\n",
    "1) เปลี่ยนโมเดลเป็น `RandomForestRegressor` แล้วฝึก/ประเมิน/บันทึก (Save + Log) เทียบกับ ElasticNet  \n",
    "2) เพิ่ม `input_example` ที่ครอบคลุมค่าขอบเขต (min/max) มากขึ้น แล้วลอง `load_model` กลับมา predict  \n",
    "3) สร้าง 3 รันโดยปรับ `alpha` และ `l1_ratio` ต่างกัน แล้วดู Grid ใน MLflow UI เปรียบเทียบ `rmse`  \n",
    "4) (เสริม) ลองใช้ `mlflow.models.evaluate` เพื่อ log metrics และตารางผลลัพธ์เพิ่มเติม (ถ้ามีเวอร์ชันรองรับ)  \n",
    "5) อธิบายสถานการณ์จริงที่ควรใช้ Save vs Log (เขียนสั้น ๆ 4-5 บรรทัด)\n",
    "\n",
    "---\n",
    "\n",
    "**หมายเหตุสำหรับผู้สอน**  \n",
    "- หากต้องการ Model Registry: ตั้งค่า Tracking Server + Backend DB (เช่น SQLite/MySQL/Postgres) แล้วใช้ `registered_model_name` ตอน `log_model`  \n",
    "- หากต้องการ Serve เป็น REST: ใช้ `mlflow models serve -m runs:/<run_id>/model -p 8000` (นอกเหนือขอบเขตแลปนี้)\n"
   ]
  }
 ],
 "metadata": {},
 "nbformat": 4,
 "nbformat_minor": 5
}
