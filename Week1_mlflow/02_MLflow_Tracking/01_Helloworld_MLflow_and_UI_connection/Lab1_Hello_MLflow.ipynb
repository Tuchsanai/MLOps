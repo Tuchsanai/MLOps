{
 "cells": [
  {
   "cell_type": "markdown",
   "id": "a9a0211a",
   "metadata": {},
   "source": [
    "# 🚀 Lab 1: Introduction to MLflow Tracking - Hello World\n",
    "Learn the basics of **MLflow Tracking** and connect to the **MLflow UI** to explore experiments, runs, parameters, metrics, and artifacts."
   ]
  },
  {
   "cell_type": "markdown",
   "id": "c8852885",
   "metadata": {},
   "source": [
    "## 📦 Step 1: Setup Environment\n",
    "Make sure MLflow is installed:"
   ]
  },
  {
   "cell_type": "code",
   "execution_count": null,
   "id": "8763a303",
   "metadata": {},
   "outputs": [],
   "source": [
    "#!pip install mlflow scikit-learn pandas numpy"
   ]
  },
  {
   "cell_type": "markdown",
   "id": "582f18f9",
   "metadata": {},
   "source": [
    "## ⚙️ Step 2: Launch MLflow Tracking Server\n",
    "Run the following command in a terminal (not inside Jupyter Notebook):\n",
    "\n",
    "```bash\n",
    "mlflow server \\\n",
    "  --host 127.0.0.1 --port 8080 \\\n",
    "  --backend-store-uri sqlite:///mlruns_db/mlflow.db \\\n",
    "  --artifacts-destination ./mlartifacts \\\n",
    "  --serve-artifacts\n",
    "```"
   ]
  },
  {
   "cell_type": "markdown",
   "id": "14fbbb73",
   "metadata": {},
   "source": [
    "## 📝 Step 3: Create Your First MLflow Experiment"
   ]
  },
  {
   "cell_type": "markdown",
   "id": "dce586a6",
   "metadata": {},
   "source": [
    "### 🔹 Cell 1: Import Dependencies"
   ]
  },
  {
   "cell_type": "code",
   "execution_count": 1,
   "id": "913f38e8",
   "metadata": {},
   "outputs": [],
   "source": [
    "import mlflow\n",
    "import mlflow.sklearn\n",
    "from datetime import datetime"
   ]
  },
  {
   "cell_type": "markdown",
   "id": "e0fc4bf7",
   "metadata": {},
   "source": [
    "### 🔹 Cell 2: Set Experiment Name"
   ]
  },
  {
   "cell_type": "code",
   "execution_count": 2,
   "id": "5d638ea1",
   "metadata": {},
   "outputs": [],
   "source": [
    "mlflow.set_tracking_uri(\"http://127.0.0.1:8080\")\n"
   ]
  },
  {
   "cell_type": "markdown",
   "id": "6e05fd39",
   "metadata": {},
   "source": [
    "### 🔹 Cell 3: Start MLflow Run and Log Parameters/Metrics"
   ]
  },
  {
   "cell_type": "markdown",
   "id": "7eed85a3",
   "metadata": {},
   "source": [
    "Lab 1 (Version 1) - Basic MLflow Run"
   ]
  },
  {
   "cell_type": "code",
   "execution_count": 3,
   "id": "c87d9ffd",
   "metadata": {},
   "outputs": [
    {
     "name": "stderr",
     "output_type": "stream",
     "text": [
      "2025/10/02 21:40:36 INFO mlflow.tracking.fluent: Experiment with name 'Lab1_Hello_MLflow' does not exist. Creating a new experiment.\n"
     ]
    },
    {
     "name": "stdout",
     "output_type": "stream",
     "text": [
      "✅ Run completed! Check MLflow UI\n",
      "🏃 View run mysterious-owl-629 at: http://127.0.0.1:8080/#/experiments/663575542742625317/runs/83503071e696420180d429aad277459b\n",
      "🧪 View experiment at: http://127.0.0.1:8080/#/experiments/663575542742625317\n"
     ]
    }
   ],
   "source": [
    "mlflow.set_experiment(\"Lab1_Hello_MLflow\")\n",
    "\n",
    "with mlflow.start_run():\n",
    "    # Log parameters\n",
    "    mlflow.log_param(\"learning_rate\", 0.01)\n",
    "    mlflow.log_param(\"batch_size\", 32)\n",
    "\n",
    "    # Log metrics\n",
    "    mlflow.log_metric(\"accuracy\", 0.85)\n",
    "    mlflow.log_metric(\"loss\", 0.15)\n",
    "\n",
    "    # Log an artifact (text file)\n",
    "    with open(\"hello.txt\", \"w\") as f:\n",
    "        f.write(f\"Hello MLflow! Time: {datetime.now()}\")\n",
    "    mlflow.log_artifact(\"hello.txt\")\n",
    "\n",
    "    print(\"✅ Run completed! Check MLflow UI\")"
   ]
  },
  {
   "cell_type": "markdown",
   "id": "08ef660f",
   "metadata": {},
   "source": [
    "Lab 1 (Version 2) - Enhanced MLflow Run"
   ]
  },
  {
   "cell_type": "code",
   "execution_count": 4,
   "id": "1aa35131",
   "metadata": {},
   "outputs": [
    {
     "name": "stdout",
     "output_type": "stream",
     "text": [
      "🏃 View run hello-run at: http://127.0.0.1:8080/#/experiments/663575542742625317/runs/e96d3138a81e47ecb4d1ab019d01f28a\n",
      "🧪 View experiment at: http://127.0.0.1:8080/#/experiments/663575542742625317\n",
      "✅ Lab 1 complete. Check the MLflow UI → Experiments → Lab1_Hello_MLflow.\n"
     ]
    }
   ],
   "source": [
    "import mlflow, os, time\n",
    "mlflow.set_experiment(\"Lab1_Hello_MLflow\")\n",
    "\n",
    "with mlflow.start_run(run_name=\"hello-run\"):\n",
    "    # Params\n",
    "    mlflow.log_param(\"learning_rate\", 0.05)\n",
    "    mlflow.log_param(\"batch_size\", 64)\n",
    "\n",
    "    # Metrics (simulate improvement over time)\n",
    "    for step, acc in enumerate([0.78, 0.81, 0.84]):\n",
    "        mlflow.log_metric(\"accuracy\", acc, step=step)\n",
    "        time.sleep(0.2)\n",
    "\n",
    "    # Artifact (a small text file)\n",
    "    os.makedirs(\"artifacts\", exist_ok=True)\n",
    "    with open(\"artifacts/readme.txt\", \"w\") as f:\n",
    "        f.write(\"Hello MLflow! This file is tracked as an artifact.\")\n",
    "    mlflow.log_artifact(\"artifacts/readme.txt\")\n",
    "\n",
    "print(\"✅ Lab 1 complete. Check the MLflow UI → Experiments → Lab1_Hello_MLflow.\")\n"
   ]
  },
  {
   "cell_type": "markdown",
   "id": "77635235",
   "metadata": {},
   "source": [
    "# Key Differences\n",
    "\n",
    "| Aspect | Version 1 | Version 2 |\n",
    "|--------|-----------|-----------|\n",
    "| **Run Name** | Auto-generated | Named \"hello-run\" |\n",
    "| **Learning Rate** | 0.01 | 0.05 |\n",
    "| **Batch Size** | 32 | 64 |\n",
    "| **Metrics Logged** | accuracy, loss (single values) | accuracy only (multiple steps) |\n",
    "| **Metric Tracking** | Single point | Time-series (3 steps: 0.78 → 0.81 → 0.84) |\n",
    "| **Artifact Organization** | Root directory | Organized in `artifacts/` folder |\n",
    "| **Artifact Content** | Dynamic timestamp | Static message |\n",
    "| **Simulation** | None | Uses `time.sleep()` to simulate training |\n",
    "| **Imports** | Assumes datetime imported | Explicitly imports os, time |\n",
    "| **Best Practice** | Basic tracking | Better organization & step tracking |"
   ]
  },
  {
   "cell_type": "markdown",
   "id": "c7eb5965",
   "metadata": {},
   "source": [
    "## 🌐 Step 4: Connect to MLflow UI\n",
    "Open your browser and go to: [http://127.0.0.1:8080](http://127.0.0.1:8080)\n",
    "\n",
    "You will be able to see:\n",
    "- Experiment list\n",
    "- Runs table with parameters & metrics\n",
    "- Run details page with **Parameters, Metrics, Artifacts, and Visualizations**"
   ]
  }
 ],
 "metadata": {
  "kernelspec": {
   "display_name": "Python 3",
   "language": "python",
   "name": "python3"
  },
  "language_info": {
   "codemirror_mode": {
    "name": "ipython",
    "version": 3
   },
   "file_extension": ".py",
   "mimetype": "text/x-python",
   "name": "python",
   "nbconvert_exporter": "python",
   "pygments_lexer": "ipython3",
   "version": "3.12.3"
  }
 },
 "nbformat": 4,
 "nbformat_minor": 5
}
