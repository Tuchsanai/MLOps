{
 "cells": [
  {
   "cell_type": "markdown",
   "id": "a9a0211a",
   "metadata": {},
   "source": [
    "# 🚀 Lab 1: Introduction to MLflow Tracking - Hello World\n",
    "Learn the basics of **MLflow Tracking** and connect to the **MLflow UI** to explore experiments, runs, parameters, metrics, and artifacts."
   ]
  },
  {
   "cell_type": "markdown",
   "id": "c8852885",
   "metadata": {},
   "source": [
    "## 📦 Step 1: Setup Environment\n",
    "Make sure MLflow is installed:"
   ]
  },
  {
   "cell_type": "code",
   "execution_count": null,
   "id": "8763a303",
   "metadata": {},
   "outputs": [],
   "source": [
    "#!pip install mlflow scikit-learn pandas numpy"
   ]
  },
  {
   "cell_type": "markdown",
   "id": "582f18f9",
   "metadata": {},
   "source": [
    "## ⚙️ Step 2: Launch MLflow Tracking Server\n",
    "Run the following command in a terminal (not inside Jupyter Notebook):\n",
    "\n",
    "```bash\n",
    "mlflow server \\\n",
    "  --host 127.0.0.1 --port 8080 \\\n",
    "  --backend-store-uri sqlite:///mlruns_db/mlflow.db \\\n",
    "  --artifacts-destination ./mlartifacts \\\n",
    "  --serve-artifacts\n",
    "```"
   ]
  },
  {
   "cell_type": "markdown",
   "id": "14fbbb73",
   "metadata": {},
   "source": [
    "## 📝 Step 3: Create Your First MLflow Experiment"
   ]
  },
  {
   "cell_type": "markdown",
   "id": "dce586a6",
   "metadata": {},
   "source": [
    "### 🔹 Cell 1: Import Dependencies"
   ]
  },
  {
   "cell_type": "code",
   "execution_count": 5,
   "id": "913f38e8",
   "metadata": {},
   "outputs": [],
   "source": [
    "import mlflow\n",
    "import mlflow.sklearn\n",
    "from datetime import datetime"
   ]
  },
  {
   "cell_type": "markdown",
   "id": "e0fc4bf7",
   "metadata": {},
   "source": [
    "### 🔹 Cell 2: Set Experiment Name"
   ]
  },
  {
   "cell_type": "code",
   "execution_count": 6,
   "id": "5d638ea1",
   "metadata": {},
   "outputs": [],
   "source": [
    "mlflow.set_tracking_uri(\"http://127.0.0.1:8080\")\n"
   ]
  },
  {
   "cell_type": "markdown",
   "id": "6e05fd39",
   "metadata": {},
   "source": [
    "### 🔹 Cell 3: Start MLflow Run and Log Parameters/Metrics"
   ]
  },
  {
   "cell_type": "markdown",
   "id": "7eed85a3",
   "metadata": {},
   "source": [
    "Lab 1 (Version 1) - Basic MLflow Run"
   ]
  },
  {
   "cell_type": "code",
   "execution_count": 8,
   "id": "c87d9ffd",
   "metadata": {},
   "outputs": [
    {
     "name": "stdout",
     "output_type": "stream",
     "text": [
      "✅ Run completed! Check MLflow UI\n",
      "🏃 View run suave-croc-527 at: http://127.0.0.1:8080/#/experiments/231817673702752451/runs/9acbedc60d2d4e6ab26c692b5058fd71\n",
      "🧪 View experiment at: http://127.0.0.1:8080/#/experiments/231817673702752451\n"
     ]
    }
   ],
   "source": [
    "mlflow.set_experiment(\"Lab1_Hello_MLflow\")\n",
    "\n",
    "with mlflow.start_run():\n",
    "    # Log parameters\n",
    "    mlflow.log_param(\"learning_rate\", 0.01)\n",
    "    mlflow.log_param(\"batch_size\", 32)\n",
    "\n",
    "    # Log metrics\n",
    "    mlflow.log_metric(\"accuracy\", 0.85)\n",
    "    mlflow.log_metric(\"loss\", 0.15)\n",
    "\n",
    "    # Log an artifact (text file)\n",
    "    with open(\"hello.txt\", \"w\") as f:\n",
    "        f.write(f\"Hello MLflow! Time: {datetime.now()}\")\n",
    "    mlflow.log_artifact(\"hello.txt\")\n",
    "\n",
    "    print(\"✅ Run completed! Check MLflow UI\")"
   ]
  },
  {
   "cell_type": "markdown",
   "id": "08ef660f",
   "metadata": {},
   "source": [
    "Lab 1 (Version 2) - Enhanced MLflow Run"
   ]
  },
  {
   "cell_type": "code",
   "execution_count": 9,
   "id": "1aa35131",
   "metadata": {},
   "outputs": [
    {
     "name": "stdout",
     "output_type": "stream",
     "text": [
      "🏃 View run hello-run at: http://127.0.0.1:8080/#/experiments/231817673702752451/runs/48a2f351129743d195d5d6adf5a33eb5\n",
      "🧪 View experiment at: http://127.0.0.1:8080/#/experiments/231817673702752451\n",
      "✅ Lab 1 complete. Check the MLflow UI → Experiments → Lab1_Hello_MLflow.\n"
     ]
    }
   ],
   "source": [
    "import mlflow, os, time\n",
    "mlflow.set_experiment(\"Lab1_Hello_MLflow\")\n",
    "\n",
    "with mlflow.start_run(run_name=\"hello-run\"):\n",
    "    # Params\n",
    "    mlflow.log_param(\"learning_rate\", 0.05)\n",
    "    mlflow.log_param(\"batch_size\", 64)\n",
    "\n",
    "    # Metrics (simulate improvement over time)\n",
    "    for step, acc in enumerate([0.78, 0.81, 0.84]):\n",
    "        mlflow.log_metric(\"accuracy\", acc, step=step)\n",
    "        time.sleep(0.2)\n",
    "\n",
    "    # Artifact (a small text file)\n",
    "    os.makedirs(\"artifacts\", exist_ok=True)\n",
    "    with open(\"artifacts/readme.txt\", \"w\") as f:\n",
    "        f.write(\"Hello MLflow! This file is tracked as an artifact.\")\n",
    "    mlflow.log_artifact(\"artifacts/readme.txt\")\n",
    "\n",
    "print(\"✅ Lab 1 complete. Check the MLflow UI → Experiments → Lab1_Hello_MLflow.\")\n"
   ]
  },
  {
   "cell_type": "markdown",
   "id": "d88223c4",
   "metadata": {},
   "source": [
    "Goal: Organize runs with human-friendly names, tags (e.g., section, dataset, owner), and nested runs for sub-steps."
   ]
  },
  {
   "cell_type": "code",
   "execution_count": 7,
   "id": "2b68782a",
   "metadata": {},
   "outputs": [
    {
     "name": "stderr",
     "output_type": "stream",
     "text": [
      "2025/10/02 22:25:49 INFO mlflow.tracking.fluent: Experiment with name 'Lab1_Hello_MLflow' does not exist. Creating a new experiment.\n"
     ]
    },
    {
     "name": "stdout",
     "output_type": "stream",
     "text": [
      "🏃 View run cv-fold-0 at: http://127.0.0.1:8080/#/experiments/231817673702752451/runs/497a81c4d4de44eca4aed67eaf0dde35\n",
      "🧪 View experiment at: http://127.0.0.1:8080/#/experiments/231817673702752451\n",
      "🏃 View run cv-fold-1 at: http://127.0.0.1:8080/#/experiments/231817673702752451/runs/bdf6165c55504b1fa85177c7d1eb01b0\n",
      "🧪 View experiment at: http://127.0.0.1:8080/#/experiments/231817673702752451\n",
      "🏃 View run cv-fold-2 at: http://127.0.0.1:8080/#/experiments/231817673702752451/runs/830bf0a998da4f6fa9bc1a05849ff7d1\n",
      "🧪 View experiment at: http://127.0.0.1:8080/#/experiments/231817673702752451\n",
      "🏃 View run train-iris at: http://127.0.0.1:8080/#/experiments/231817673702752451/runs/51973a45432c48c99055ac71f3b04661\n",
      "🧪 View experiment at: http://127.0.0.1:8080/#/experiments/231817673702752451\n",
      "✅ Lab  done. In the UI, expand child runs under the parent.\n"
     ]
    }
   ],
   "source": [
    "import mlflow, time\n",
    "mlflow.set_experiment(\"Lab1_Hello_MLflow\")\n",
    "\n",
    "with mlflow.start_run(run_name=\"train-iris\") as parent:\n",
    "    mlflow.set_tags({\n",
    "        \"course\": \"MLflow-101\",\n",
    "        \"section\": \"Sec-1\",\n",
    "        \"dataset\": \"iris\",\n",
    "        \"stage\": \"train\"\n",
    "    })\n",
    "    mlflow.log_param(\"max_depth\", 3)\n",
    "    mlflow.log_metric(\"train_acc\", 0.92)\n",
    "\n",
    "    # Nested CV fold runs\n",
    "    for fold in range(3):\n",
    "        with mlflow.start_run(run_name=f\"cv-fold-{fold}\", nested=True):\n",
    "            mlflow.set_tag(\"fold_index\", fold)\n",
    "            mlflow.log_metric(\"fold_acc\", 0.90 + 0.01 * fold)\n",
    "            time.sleep(0.1)\n",
    "\n",
    "print(\"✅ Lab  done. In the UI, expand child runs under the parent.\")\n"
   ]
  },
  {
   "cell_type": "markdown",
   "id": "f3f6f1dc",
   "metadata": {},
   "source": [
    "# Logging Time-Series Metrics (with step)"
   ]
  },
  {
   "cell_type": "code",
   "execution_count": null,
   "id": "0b572395",
   "metadata": {},
   "outputs": [],
   "source": [
    "import time, random, mlflow\n",
    "\n",
    "mlflow.set_experiment(\"Lab2_Stepped_Metrics\")\n",
    "\n",
    "with mlflow.start_run():\n",
    "    mlflow.log_param(\"model\", \"logreg\")\n",
    "    mlflow.log_params({\"lr\": 1e-3, \"optimizer\": \"adam\", \"epochs\": 20})\n",
    "\n",
    "    for epoch in range(10):\n",
    "        train_loss = 1.0 / (epoch + 1) + random.random()*0.02\n",
    "        val_accuracy = 0.7 + 0.03*epoch\n",
    "\n",
    "        mlflow.log_metric(\"train_loss\", train_loss, step=epoch)\n",
    "        mlflow.log_metric(\"val_accuracy\", val_accuracy, step=epoch)\n",
    "\n",
    "        time.sleep(0.05)  # so UI shows evolving timestamps (optional)\n",
    "\n",
    "    mlflow.log_metrics({\"accuracy\": 0.88, \"f1\": 0.84}, step=20)\n",
    "\n"
   ]
  },
  {
   "cell_type": "markdown",
   "id": "c7eb5965",
   "metadata": {},
   "source": [
    "## 🌐 Step 4: Connect to MLflow UI\n",
    "Open your browser and go to: [http://127.0.0.1:8080](http://127.0.0.1:8080)\n",
    "\n",
    "You will be able to see:\n",
    "- Experiment list\n",
    "- Runs table with parameters & metrics\n",
    "- Run details page with **Parameters, Metrics, Artifacts, and Visualizations**"
   ]
  }
 ],
 "metadata": {
  "kernelspec": {
   "display_name": "Python 3",
   "language": "python",
   "name": "python3"
  },
  "language_info": {
   "codemirror_mode": {
    "name": "ipython",
    "version": 3
   },
   "file_extension": ".py",
   "mimetype": "text/x-python",
   "name": "python",
   "nbconvert_exporter": "python",
   "pygments_lexer": "ipython3",
   "version": "3.12.3"
  }
 },
 "nbformat": 4,
 "nbformat_minor": 5
}
