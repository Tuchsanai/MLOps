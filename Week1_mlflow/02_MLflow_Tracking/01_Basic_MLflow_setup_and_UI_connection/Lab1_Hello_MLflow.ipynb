{
 "cells": [
  {
   "cell_type": "markdown",
   "id": "a9a0211a",
   "metadata": {},
   "source": [
    "# 🚀 Lab 1: Introduction to MLflow Tracking - Hello World\n",
    "Learn the basics of **MLflow Tracking** and connect to the **MLflow UI** to explore experiments, runs, parameters, metrics, and artifacts."
   ]
  },
  {
   "cell_type": "markdown",
   "id": "c8852885",
   "metadata": {},
   "source": [
    "## 📦 Step 1: Setup Environment\n",
    "Make sure MLflow is installed:"
   ]
  },
  {
   "cell_type": "code",
   "execution_count": null,
   "id": "8763a303",
   "metadata": {},
   "outputs": [],
   "source": [
    "!pip install mlflow scikit-learn pandas numpy"
   ]
  },
  {
   "cell_type": "markdown",
   "id": "14fbbb73",
   "metadata": {},
   "source": [
    "## 📝 Step 2: Create Your First MLflow Experiment"
   ]
  },
  {
   "cell_type": "markdown",
   "id": "dce586a6",
   "metadata": {},
   "source": [
    "### 🔹 Cell 1: Import Dependencies"
   ]
  },
  {
   "cell_type": "code",
   "execution_count": null,
   "id": "913f38e8",
   "metadata": {},
   "outputs": [],
   "source": [
    "import mlflow\n",
    "import mlflow.sklearn\n",
    "from datetime import datetime"
   ]
  },
  {
   "cell_type": "markdown",
   "id": "e0fc4bf7",
   "metadata": {},
   "source": [
    "### 🔹 Cell 2: Set Experiment Name"
   ]
  },
  {
   "cell_type": "code",
   "execution_count": null,
   "id": "5d638ea1",
   "metadata": {},
   "outputs": [],
   "source": [
    "mlflow.set_experiment(\"Lab1_Hello_MLflow\")"
   ]
  },
  {
   "cell_type": "markdown",
   "id": "6e05fd39",
   "metadata": {},
   "source": [
    "### 🔹 Cell 3: Start MLflow Run and Log Parameters/Metrics"
   ]
  },
  {
   "cell_type": "code",
   "execution_count": null,
   "id": "c87d9ffd",
   "metadata": {},
   "outputs": [],
   "source": [
    "with mlflow.start_run():\n",
    "    # Log parameters\n",
    "    mlflow.log_param(\"learning_rate\", 0.01)\n",
    "    mlflow.log_param(\"batch_size\", 32)\n",
    "\n",
    "    # Log metrics\n",
    "    mlflow.log_metric(\"accuracy\", 0.85)\n",
    "    mlflow.log_metric(\"loss\", 0.15)\n",
    "\n",
    "    # Log an artifact (text file)\n",
    "    with open(\"hello.txt\", \"w\") as f:\n",
    "        f.write(f\"Hello MLflow! Time: {datetime.now()}\")\n",
    "    mlflow.log_artifact(\"hello.txt\")\n",
    "\n",
    "    print(\"✅ Run completed! Check MLflow UI\")"
   ]
  },
  {
   "cell_type": "markdown",
   "id": "5bcb921d",
   "metadata": {},
   "source": [
    "## ⚙️ Step 3: Launch MLflow Tracking Server\n",
    "Run the following command in a terminal (not inside Jupyter Notebook):\n",
    "\n",
    "```bash\n",
    "mlflow server \\\n",
    "  --host 127.0.0.1 --port 8080 \\\n",
    "  --backend-store-uri sqlite:///mlruns_db/mlflow.db \\\n",
    "  --artifacts-destination ./mlartifacts \\\n",
    "  --serve-artifacts\n",
    "```"
   ]
  },
  {
   "cell_type": "markdown",
   "id": "c7eb5965",
   "metadata": {},
   "source": [
    "## 🌐 Step 4: Connect to MLflow UI\n",
    "Open your browser and go to: [http://127.0.0.1:8080](http://127.0.0.1:8080)\n",
    "\n",
    "You will be able to see:\n",
    "- Experiment list\n",
    "- Runs table with parameters & metrics\n",
    "- Run details page with **Parameters, Metrics, Artifacts, and Visualizations**"
   ]
  }
 ],
 "metadata": {},
 "nbformat": 4,
 "nbformat_minor": 5
}