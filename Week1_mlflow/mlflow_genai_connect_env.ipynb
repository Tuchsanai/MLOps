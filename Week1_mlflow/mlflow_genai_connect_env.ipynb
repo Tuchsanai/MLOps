{
 "cells": [
  {
   "cell_type": "markdown",
   "id": "bf3359d0",
   "metadata": {},
   "source": [
    "# MLflow \n"
   ]
  },
  {
   "cell_type": "code",
   "execution_count": 1,
   "id": "2095c5b6",
   "metadata": {},
   "outputs": [
    {
     "name": "stdout",
     "output_type": "stream",
     "text": [
      "Notebook cleaned.\n"
     ]
    }
   ],
   "source": [
    "import IPython\n",
    "import sys\n",
    "\n",
    "def clean_notebook():\n",
    "    IPython.display.clear_output(wait=True)\n",
    "    print(\"Notebook cleaned.\")\n",
    "\n",
    "!pip install --upgrade \"mlflow>=3.1\"\n",
    "\n",
    "# Clean up the notebook\n",
    "clean_notebook()\n"
   ]
  },
  {
   "cell_type": "markdown",
   "id": "a6206f70",
   "metadata": {},
   "source": [
    "# Start a remote MLflow tracking server:\n"
   ]
  },
  {
   "cell_type": "code",
   "execution_count": 2,
   "id": "a6a4d89e",
   "metadata": {},
   "outputs": [],
   "source": [
    "#### Start MLflow server (in a separate terminal)\n",
    "#  mlflow server --host 0.0.0.0 --port 5000 "
   ]
  },
  {
   "cell_type": "code",
   "execution_count": 1,
   "id": "40ed8c77",
   "metadata": {},
   "outputs": [
    {
     "name": "stderr",
     "output_type": "stream",
     "text": [
      "2025/09/03 07:47:19 INFO mlflow.tracking.fluent: Experiment with name 'my-genai-experiment' does not exist. Creating a new experiment.\n"
     ]
    },
    {
     "data": {
      "text/plain": [
       "<Experiment: artifact_location='mlflow-artifacts:/307556125613914182', creation_time=1756860439797, experiment_id='307556125613914182', last_update_time=1756860439797, lifecycle_stage='active', name='my-genai-experiment', tags={}>"
      ]
     },
     "execution_count": 1,
     "metadata": {},
     "output_type": "execute_result"
    }
   ],
   "source": [
    "import mlflow\n",
    "\n",
    "# Connect to remote MLflow server\n",
    "mlflow.set_tracking_uri(\"http://localhost:5000\")\n",
    "mlflow.set_experiment(\"my-genai-experiment\")"
   ]
  },
  {
   "cell_type": "code",
   "execution_count": null,
   "id": "f873c396",
   "metadata": {},
   "outputs": [],
   "source": [
    "import mlflow\n",
    "\n",
    "# Print connection information\n",
    "print(f\"MLflow Tracking URI: {mlflow.get_tracking_uri()}\")\n",
    "print(f\"Active Experiment: {mlflow.get_experiment_by_name('my-genai-experiment')}\")\n"
   ]
  },
  {
   "cell_type": "code",
   "execution_count": null,
   "id": "87b757a4",
   "metadata": {},
   "outputs": [
    {
     "name": "stdout",
     "output_type": "stream",
     "text": [
      "MLflow Tracking URI: http://localhost:5000\n",
      "Active Experiment: <Experiment: artifact_location='mlflow-artifacts:/307556125613914182', creation_time=1756860439797, experiment_id='307556125613914182', last_update_time=1756860439797, lifecycle_stage='active', name='my-genai-experiment', tags={}>\n",
      "✓ Successfully connected to MLflow!\n",
      "🏃 View run salty-carp-216 at: http://localhost:5000/#/experiments/307556125613914182/runs/2c41dd442b02410ca0dfe6e5c89a6a61\n",
      "🧪 View experiment at: http://localhost:5000/#/experiments/307556125613914182\n"
     ]
    }
   ],
   "source": [
    "\n",
    "# Test logging\n",
    "with mlflow.start_run():\n",
    "    mlflow.log_param(\"test_param\", \"test_value\")\n",
    "    print(\"✓ Successfully connected to MLflow!\")"
   ]
  },
  {
   "cell_type": "code",
   "execution_count": null,
   "id": "27229849",
   "metadata": {},
   "outputs": [],
   "source": []
  }
 ],
 "metadata": {
  "kernelspec": {
   "display_name": "Python 3",
   "language": "python",
   "name": "python3"
  },
  "language_info": {
   "codemirror_mode": {
    "name": "ipython",
    "version": 3
   },
   "file_extension": ".py",
   "mimetype": "text/x-python",
   "name": "python",
   "nbconvert_exporter": "python",
   "pygments_lexer": "ipython3",
   "version": "3.12.3"
  }
 },
 "nbformat": 4,
 "nbformat_minor": 5
}
